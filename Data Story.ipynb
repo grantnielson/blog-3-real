{
 "cells": [
  {
   "cell_type": "code",
   "execution_count": null,
   "id": "bb543f9a",
   "metadata": {},
   "outputs": [],
   "source": [
    "import pandas as pd\n",
    "import seaborn as sns\n",
    "import matplotlib.pyplot as plt\n",
    "from matplotlib.lines import Line2D"
   ]
  },
  {
   "cell_type": "code",
   "execution_count": 356,
   "id": "06ff5676",
   "metadata": {
    "scrolled": true
   },
   "outputs": [],
   "source": [
    "########################################################################\n",
    "#read in data\n",
    "df = pd.read_csv(\"march_mad_data_expanded.csv\")\n",
    "########################################################################\n",
    "### CREATE ROUND OF 32\n",
    "#list of teams\n",
    "round_of_32 = ['Abilene Christian','Alabama','Arkansas','Baylor','Colorado','Creighton','Florida',\n",
    "               'Florida State','Gonzaga','Houston','Illinois','Iowa','Kansas','Louisiana State','Loyola (IL)',\n",
    "               'Maryland','Michigan','North Texas','Oklahoma','Oklahoma State','Ohio','Oral Roberts',\n",
    "               'Oregon','Oregon State','Rutgers','Southern California','Syracuse','Texas Tech','UCLA','Villanova','West Virginia','Wisconsin']\n",
    "\n",
    "# create a new column 'Round32' and set all values to 'No'\n",
    "df['Round32'] = 'No'\n",
    "\n",
    "# set the value of 'Round32' to 'Yes' for the teams in the Round32\n",
    "df.loc[df['School'].isin(round_of_32), 'Round32'] = 'Yes'\n",
    "\n",
    "########################################################################\n",
    "##### Make a singular column that shows how far a team progressed.\n",
    "\n",
    "# Define the columns to check\n",
    "check_columns = ['Tournament','Round32','Sweet16', 'Elite8', 'Final4','Final2','Champion']\n",
    "\n",
    "# Create a list to store the results\n",
    "results = []\n",
    "\n",
    "# Create a list comprehension to generate the results\n",
    "results = [next((col for col in check_columns[::-1] if row[col] == 'Yes'), 'None') for _, row in df.iterrows()]\n",
    "\n",
    "# Add the results to the DataFrame as a new column\n",
    "df['progression'] = results\n",
    "#df.loc[df['School'] == 'Houston']\n",
    "\n",
    "#remove the other columns, so the values in 'progression' don't get confused with the columns\n",
    "df = df.drop(['Tournament', 'Round32', 'Sweet16', 'Elite8', 'Final4', 'Final2', 'Champion'], axis=1)\n",
    "\n",
    "########################################################################\n",
    "#make sure it's category\n",
    "df['progression'] = df['progression'].astype('category')\n",
    "########################################################################\n",
    "\n",
    "# make new df without Nones (maybe gonna use this, maybe not)\n",
    "new_df = df.loc[df['progression'] != 'None']"
   ]
  },
  {
   "cell_type": "code",
   "execution_count": 311,
   "id": "7fd98d6b",
   "metadata": {
    "scrolled": true
   },
   "outputs": [
    {
     "data": {
      "text/html": [
       "<div>\n",
       "<style scoped>\n",
       "    .dataframe tbody tr th:only-of-type {\n",
       "        vertical-align: middle;\n",
       "    }\n",
       "\n",
       "    .dataframe tbody tr th {\n",
       "        vertical-align: top;\n",
       "    }\n",
       "\n",
       "    .dataframe thead th {\n",
       "        text-align: right;\n",
       "    }\n",
       "</style>\n",
       "<table border=\"1\" class=\"dataframe\">\n",
       "  <thead>\n",
       "    <tr style=\"text-align: right;\">\n",
       "      <th></th>\n",
       "      <th>Rank</th>\n",
       "      <th>Tournament</th>\n",
       "      <th>School</th>\n",
       "      <th>G</th>\n",
       "      <th>W</th>\n",
       "      <th>L</th>\n",
       "      <th>W-L%</th>\n",
       "      <th>SRS</th>\n",
       "      <th>SOS</th>\n",
       "      <th>Unnamed: 9</th>\n",
       "      <th>...</th>\n",
       "      <th>TOV</th>\n",
       "      <th>PF</th>\n",
       "      <th>AST/game</th>\n",
       "      <th>Sweet16</th>\n",
       "      <th>Elite8</th>\n",
       "      <th>Final4</th>\n",
       "      <th>Final2</th>\n",
       "      <th>Champion</th>\n",
       "      <th>TOV/game</th>\n",
       "      <th>Round32</th>\n",
       "    </tr>\n",
       "  </thead>\n",
       "  <tbody>\n",
       "    <tr>\n",
       "      <th>0</th>\n",
       "      <td>1</td>\n",
       "      <td>Yes</td>\n",
       "      <td>Abilene Christian</td>\n",
       "      <td>29</td>\n",
       "      <td>24</td>\n",
       "      <td>5</td>\n",
       "      <td>0.828</td>\n",
       "      <td>6.27</td>\n",
       "      <td>-6.37</td>\n",
       "      <td>NaN</td>\n",
       "      <td>...</td>\n",
       "      <td>394.0</td>\n",
       "      <td>554.0</td>\n",
       "      <td>17.689655</td>\n",
       "      <td>No</td>\n",
       "      <td>No</td>\n",
       "      <td>No</td>\n",
       "      <td>No</td>\n",
       "      <td>No</td>\n",
       "      <td>13.6</td>\n",
       "      <td>Yes</td>\n",
       "    </tr>\n",
       "    <tr>\n",
       "      <th>1</th>\n",
       "      <td>2</td>\n",
       "      <td>No</td>\n",
       "      <td>Air Force</td>\n",
       "      <td>25</td>\n",
       "      <td>5</td>\n",
       "      <td>20</td>\n",
       "      <td>0.200</td>\n",
       "      <td>-12.98</td>\n",
       "      <td>0.22</td>\n",
       "      <td>NaN</td>\n",
       "      <td>...</td>\n",
       "      <td>361.0</td>\n",
       "      <td>415.0</td>\n",
       "      <td>12.320000</td>\n",
       "      <td>No</td>\n",
       "      <td>No</td>\n",
       "      <td>No</td>\n",
       "      <td>No</td>\n",
       "      <td>No</td>\n",
       "      <td>14.4</td>\n",
       "      <td>No</td>\n",
       "    </tr>\n",
       "    <tr>\n",
       "      <th>2</th>\n",
       "      <td>3</td>\n",
       "      <td>No</td>\n",
       "      <td>Akron</td>\n",
       "      <td>23</td>\n",
       "      <td>15</td>\n",
       "      <td>8</td>\n",
       "      <td>0.652</td>\n",
       "      <td>1.85</td>\n",
       "      <td>-1.96</td>\n",
       "      <td>NaN</td>\n",
       "      <td>...</td>\n",
       "      <td>271.0</td>\n",
       "      <td>413.0</td>\n",
       "      <td>13.260870</td>\n",
       "      <td>No</td>\n",
       "      <td>No</td>\n",
       "      <td>No</td>\n",
       "      <td>No</td>\n",
       "      <td>No</td>\n",
       "      <td>11.8</td>\n",
       "      <td>No</td>\n",
       "    </tr>\n",
       "    <tr>\n",
       "      <th>3</th>\n",
       "      <td>4</td>\n",
       "      <td>Yes</td>\n",
       "      <td>Alabama</td>\n",
       "      <td>33</td>\n",
       "      <td>26</td>\n",
       "      <td>7</td>\n",
       "      <td>0.788</td>\n",
       "      <td>19.58</td>\n",
       "      <td>10.01</td>\n",
       "      <td>NaN</td>\n",
       "      <td>...</td>\n",
       "      <td>458.0</td>\n",
       "      <td>603.0</td>\n",
       "      <td>14.060606</td>\n",
       "      <td>Yes</td>\n",
       "      <td>No</td>\n",
       "      <td>No</td>\n",
       "      <td>No</td>\n",
       "      <td>No</td>\n",
       "      <td>13.9</td>\n",
       "      <td>Yes</td>\n",
       "    </tr>\n",
       "    <tr>\n",
       "      <th>4</th>\n",
       "      <td>5</td>\n",
       "      <td>No</td>\n",
       "      <td>Alabama A&amp;M</td>\n",
       "      <td>15</td>\n",
       "      <td>6</td>\n",
       "      <td>9</td>\n",
       "      <td>0.400</td>\n",
       "      <td>-18.86</td>\n",
       "      <td>-14.99</td>\n",
       "      <td>NaN</td>\n",
       "      <td>...</td>\n",
       "      <td>229.0</td>\n",
       "      <td>272.0</td>\n",
       "      <td>10.933333</td>\n",
       "      <td>No</td>\n",
       "      <td>No</td>\n",
       "      <td>No</td>\n",
       "      <td>No</td>\n",
       "      <td>No</td>\n",
       "      <td>15.3</td>\n",
       "      <td>No</td>\n",
       "    </tr>\n",
       "    <tr>\n",
       "      <th>...</th>\n",
       "      <td>...</td>\n",
       "      <td>...</td>\n",
       "      <td>...</td>\n",
       "      <td>...</td>\n",
       "      <td>...</td>\n",
       "      <td>...</td>\n",
       "      <td>...</td>\n",
       "      <td>...</td>\n",
       "      <td>...</td>\n",
       "      <td>...</td>\n",
       "      <td>...</td>\n",
       "      <td>...</td>\n",
       "      <td>...</td>\n",
       "      <td>...</td>\n",
       "      <td>...</td>\n",
       "      <td>...</td>\n",
       "      <td>...</td>\n",
       "      <td>...</td>\n",
       "      <td>...</td>\n",
       "      <td>...</td>\n",
       "      <td>...</td>\n",
       "    </tr>\n",
       "    <tr>\n",
       "      <th>350</th>\n",
       "      <td>351</td>\n",
       "      <td>No</td>\n",
       "      <td>Wright State</td>\n",
       "      <td>24</td>\n",
       "      <td>18</td>\n",
       "      <td>6</td>\n",
       "      <td>0.750</td>\n",
       "      <td>6.89</td>\n",
       "      <td>-7.65</td>\n",
       "      <td>NaN</td>\n",
       "      <td>...</td>\n",
       "      <td>314.0</td>\n",
       "      <td>328.0</td>\n",
       "      <td>15.375000</td>\n",
       "      <td>No</td>\n",
       "      <td>No</td>\n",
       "      <td>No</td>\n",
       "      <td>No</td>\n",
       "      <td>No</td>\n",
       "      <td>13.1</td>\n",
       "      <td>No</td>\n",
       "    </tr>\n",
       "    <tr>\n",
       "      <th>351</th>\n",
       "      <td>352</td>\n",
       "      <td>No</td>\n",
       "      <td>Wyoming</td>\n",
       "      <td>25</td>\n",
       "      <td>14</td>\n",
       "      <td>11</td>\n",
       "      <td>0.560</td>\n",
       "      <td>-1.23</td>\n",
       "      <td>-2.31</td>\n",
       "      <td>NaN</td>\n",
       "      <td>...</td>\n",
       "      <td>281.0</td>\n",
       "      <td>468.0</td>\n",
       "      <td>14.040000</td>\n",
       "      <td>No</td>\n",
       "      <td>No</td>\n",
       "      <td>No</td>\n",
       "      <td>No</td>\n",
       "      <td>No</td>\n",
       "      <td>11.2</td>\n",
       "      <td>No</td>\n",
       "    </tr>\n",
       "    <tr>\n",
       "      <th>352</th>\n",
       "      <td>353</td>\n",
       "      <td>No</td>\n",
       "      <td>Xavier</td>\n",
       "      <td>21</td>\n",
       "      <td>13</td>\n",
       "      <td>8</td>\n",
       "      <td>0.619</td>\n",
       "      <td>11.09</td>\n",
       "      <td>6.47</td>\n",
       "      <td>NaN</td>\n",
       "      <td>...</td>\n",
       "      <td>235.0</td>\n",
       "      <td>325.0</td>\n",
       "      <td>17.571429</td>\n",
       "      <td>No</td>\n",
       "      <td>No</td>\n",
       "      <td>No</td>\n",
       "      <td>No</td>\n",
       "      <td>No</td>\n",
       "      <td>11.2</td>\n",
       "      <td>No</td>\n",
       "    </tr>\n",
       "    <tr>\n",
       "      <th>353</th>\n",
       "      <td>354</td>\n",
       "      <td>No</td>\n",
       "      <td>Yale</td>\n",
       "      <td>0</td>\n",
       "      <td>0</td>\n",
       "      <td>0</td>\n",
       "      <td>NaN</td>\n",
       "      <td>NaN</td>\n",
       "      <td>NaN</td>\n",
       "      <td>NaN</td>\n",
       "      <td>...</td>\n",
       "      <td>NaN</td>\n",
       "      <td>NaN</td>\n",
       "      <td>NaN</td>\n",
       "      <td>No</td>\n",
       "      <td>No</td>\n",
       "      <td>No</td>\n",
       "      <td>No</td>\n",
       "      <td>No</td>\n",
       "      <td>NaN</td>\n",
       "      <td>No</td>\n",
       "    </tr>\n",
       "    <tr>\n",
       "      <th>354</th>\n",
       "      <td>355</td>\n",
       "      <td>No</td>\n",
       "      <td>Youngstown State</td>\n",
       "      <td>27</td>\n",
       "      <td>15</td>\n",
       "      <td>12</td>\n",
       "      <td>0.556</td>\n",
       "      <td>-9.78</td>\n",
       "      <td>-8.17</td>\n",
       "      <td>NaN</td>\n",
       "      <td>...</td>\n",
       "      <td>310.0</td>\n",
       "      <td>441.0</td>\n",
       "      <td>12.925926</td>\n",
       "      <td>No</td>\n",
       "      <td>No</td>\n",
       "      <td>No</td>\n",
       "      <td>No</td>\n",
       "      <td>No</td>\n",
       "      <td>11.5</td>\n",
       "      <td>No</td>\n",
       "    </tr>\n",
       "  </tbody>\n",
       "</table>\n",
       "<p>355 rows × 47 columns</p>\n",
       "</div>"
      ],
      "text/plain": [
       "     Rank Tournament             School   G   W   L   W-L%    SRS    SOS  \\\n",
       "0       1        Yes  Abilene Christian  29  24   5  0.828   6.27  -6.37   \n",
       "1       2         No          Air Force  25   5  20  0.200 -12.98   0.22   \n",
       "2       3         No              Akron  23  15   8  0.652   1.85  -1.96   \n",
       "3       4        Yes            Alabama  33  26   7  0.788  19.58  10.01   \n",
       "4       5         No        Alabama A&M  15   6   9  0.400 -18.86 -14.99   \n",
       "..    ...        ...                ...  ..  ..  ..    ...    ...    ...   \n",
       "350   351         No       Wright State  24  18   6  0.750   6.89  -7.65   \n",
       "351   352         No            Wyoming  25  14  11  0.560  -1.23  -2.31   \n",
       "352   353         No             Xavier  21  13   8  0.619  11.09   6.47   \n",
       "353   354         No               Yale   0   0   0    NaN    NaN    NaN   \n",
       "354   355         No   Youngstown State  27  15  12  0.556  -9.78  -8.17   \n",
       "\n",
       "     Unnamed: 9  ...    TOV     PF   AST/game  Sweet16  Elite8  Final4  \\\n",
       "0           NaN  ...  394.0  554.0  17.689655       No      No      No   \n",
       "1           NaN  ...  361.0  415.0  12.320000       No      No      No   \n",
       "2           NaN  ...  271.0  413.0  13.260870       No      No      No   \n",
       "3           NaN  ...  458.0  603.0  14.060606      Yes      No      No   \n",
       "4           NaN  ...  229.0  272.0  10.933333       No      No      No   \n",
       "..          ...  ...    ...    ...        ...      ...     ...     ...   \n",
       "350         NaN  ...  314.0  328.0  15.375000       No      No      No   \n",
       "351         NaN  ...  281.0  468.0  14.040000       No      No      No   \n",
       "352         NaN  ...  235.0  325.0  17.571429       No      No      No   \n",
       "353         NaN  ...    NaN    NaN        NaN       No      No      No   \n",
       "354         NaN  ...  310.0  441.0  12.925926       No      No      No   \n",
       "\n",
       "     Final2  Champion  TOV/game  Round32  \n",
       "0        No        No      13.6      Yes  \n",
       "1        No        No      14.4       No  \n",
       "2        No        No      11.8       No  \n",
       "3        No        No      13.9      Yes  \n",
       "4        No        No      15.3       No  \n",
       "..      ...       ...       ...      ...  \n",
       "350      No        No      13.1       No  \n",
       "351      No        No      11.2       No  \n",
       "352      No        No      11.2       No  \n",
       "353      No        No       NaN       No  \n",
       "354      No        No      11.5       No  \n",
       "\n",
       "[355 rows x 47 columns]"
      ]
     },
     "execution_count": 311,
     "metadata": {},
     "output_type": "execute_result"
    }
   ],
   "source": []
  },
  {
   "cell_type": "code",
   "execution_count": 330,
   "id": "228aea69",
   "metadata": {},
   "outputs": [
    {
     "data": {
      "image/png": "[encoded data removed]",
      "text/plain": [
       "<Figure size 640x480 with 1 Axes>"
      ]
     },
     "metadata": {},
     "output_type": "display_data"
    },
    {
     "name": "stderr",
     "output_type": "stream",
     "text": [
      "/var/folders/6c/6_yvphyn6jx_slx7qlbq1ngm0000gn/T/ipykernel_10879/1748692526.py:37: UserWarning:\n",
      "\n",
      "Matplotlib is currently using module://matplotlib_inline.backend_inline, which is a non-GUI backend, so cannot show the figure.\n",
      "\n"
     ]
    }
   ],
   "source": [
    "### same but w/ new_df\n",
    "import matplotlib.pyplot as plt\n",
    "import seaborn as sns\n",
    "\n",
    "# Define a color map\n",
    "color_map = {'Tournament': '#DCE6FB', 'Round32': '#C7E2F9', \n",
    "             'Sweet16': '#B3DEF8', 'Elite8': '#9EDAF6', 'Final4': '#8AD6F5', \n",
    "             'Final2': '#75D2F3', 'Champion': '#61CEF2'}\n",
    "\n",
    "# Set the order of the legend\n",
    "legend_order = ['Tournament', 'Round32', 'Sweet16', 'Elite8', 'Final4', 'Final2', 'Champion']\n",
    "############################################################\n",
    "\n",
    "#size_map = {'Tournament': 50, 'Round32': 75, \n",
    "  #          'Sweet16': 100, 'Elite8': 125, 'Final4': 150, \n",
    "   #         'Final2': 175, 'Champion': 200}\n",
    "\n",
    "# Create a new column in your DataFrame that maps progression to size values\n",
    "#new_df['size'] = new_df['progression'].map(size_map)\n",
    "\n",
    "############################################################\n",
    "\n",
    "\n",
    "# Create the scatter plot\n",
    "#sns.scatterplot(data=new_df, x='W-L%', y='SRS', hue='progression', palette=color_map, hue_order=legend_order, size='size', edgecolor='grey', linewidth=1)\n",
    "\n",
    "sns.scatterplot(data=new_df, x='W-L%', y='SRS', hue='progression', palette=color_map, hue_order=legend_order,s=250,edgecolor='black', linewidth=1.5)\n",
    "\n",
    "# Set the title and axis labels\n",
    "plt.title('Winning % vs SRS')\n",
    "plt.xlabel('Win-Loss Ratio')\n",
    "plt.ylabel('SRS')\n",
    "\n",
    "# Show the plot\n",
    "plt.show()\n",
    "\n",
    "fig.show()"
   ]
  },
  {
   "cell_type": "code",
   "execution_count": 629,
   "id": "0b3d3152",
   "metadata": {
    "scrolled": true
   },
   "outputs": [
    {
     "data": {
      "image/png": "[encoded data removed]",
      "text/plain": [
       "<Figure size 640x480 with 1 Axes>"
      ]
     },
     "metadata": {},
     "output_type": "display_data"
    }
   ],
   "source": [
    "import matplotlib.pyplot as plt\n",
    "import seaborn as sns\n",
    "\n",
    "# Define a color map\n",
    "#color_map = {'None': '#f5f3f4', 'Tournament': '#F3F0AE', 'Round32': 'pink', \n",
    " #            'Sweet16': '#EEA445', 'Elite8': '#EA8C5A', 'Final4': '#E57370', \n",
    " #           'Final2': '#E15A85', 'Champion': '#DC419B'}\n",
    "\n",
    "\n",
    "color_map = {'None': '#f5f3f4', 'Tournament': '#B7F5F0', 'Round32': '#7BCED2', \n",
    "             'Sweet16': '#66B1C0', 'Elite8': '#5294AF', 'Final4': '#3D779D', \n",
    "            'Final2': '#295A8C', 'Champion': '#143D7A'}\n",
    "\n",
    "#'Tournament': '#F7D61A',\n",
    "#'None': '#F3F0AE'\n",
    "\n",
    "#color_map = {'None': '#F0EAFC', 'Tournament': '#DCE6FB', 'Now32': '#C7E2F9', \n",
    "#             'Sweet16': '#B3DEF8', 'Elite8': '#9EDAF6', 'Final4': '#8AD6F5', \n",
    "#             'Final2': '#75D2F3', 'Champion': '#61CEF2'}\n",
    "\n",
    "#set sizes\n",
    "\n",
    "size_map = {'None': 25, 'Tournament': 100, 'Round32': 150, \n",
    "            'Sweet16': 200, 'Elite8': 250, 'Final4': 300, 'Final2': 350, 'Champion': 400}\n",
    "\n",
    "# Create a new column in your DataFrame that maps progression to size values\n",
    "df['size'] = df['progression'].map(size_map)\n",
    "df['size'] = df['size'].astype(int)\n",
    "\n",
    "\n",
    "# Set the order of the legend\n",
    "legend_order = ['None', 'Tournament', 'Round32', 'Sweet16', 'Elite8', 'Final4', 'Final2', 'Champion']\n",
    "\n",
    "\n",
    "# Map the hue categories to the corresponding size values\n",
    "#sizes = [size_map[hue] for hue in df['progression']]\n",
    "\n",
    "# Create the scatter plot with sizes based on the hue category\n",
    "ax=sns.scatterplot(data=df, x='W-L%', y='SRS', hue='progression', palette=color_map, hue_order=legend_order, size='size', edgecolor='grey', linewidth=1)\n",
    "\n",
    "\n",
    "\n",
    "\n",
    "# Set the title and axis labels\n",
    "#plt.title('Did the Highest Ranked Teams Perform the Best in the Tournament?',size=15,y=1.08,color='rebeccapurple')\n",
    "plt.title('Season Rank v 2021 NCAA Tournament Success',size=15,y=1.08,color='rebeccapurple')\n",
    "plt.xlabel('Win-Loss Ratio',size=12,color='rebeccapurple')\n",
    "plt.ylabel('SRS \\n(A calculated metric to rank teams)',size=12,color='rebeccapurple')\n",
    "#plt.suptitle('(SRS: A calculated metric to rank teams)',size=10,y=.93,color='rebeccapurple')\n",
    "plt.suptitle('Did the Highest Ranked Teams Perform the Best in the Tournament?',size=10,y=.93,color='rebeccapurple')\n",
    "\n",
    "\n",
    "\n",
    "# Create the handles and labels for the legend\n",
    "handles = [plt.scatter([], [], s=size_map[label], color=color_map[label], edgecolor='grey', linewidth=.5) for label in legend_order]\n",
    "labels = legend_order\n",
    "\n",
    "# Add the legend to the plot\n",
    "plt.legend(handles=handles, labels=labels, title='Tournament Progression',bbox_to_anchor=(1.025, .8), loc='upper left')\n",
    "\n",
    "# Set the background color of the graph to light gray\n",
    "ax.set_facecolor('#F0F0F0')\n",
    "\n",
    "\n",
    "plt.annotate(\"More wins\", color=\"grey\", xy=(0.35, -37), xytext=(0.65, -37.75),\n",
    "             arrowprops=dict(facecolor='black', arrowstyle='<-'))\n",
    "\n",
    "# add arrow for \"higher ranking\"\n",
    "plt.annotate(\" Better ranked teams\", color='grey',xy=(0.004, 22), xytext=(-0.01, -30),\n",
    "             arrowprops=dict(facecolor='black', arrowstyle='->'),rotation=90)\n",
    "\n",
    "\n",
    "\n",
    "# Show the plot\n",
    "plt.show()\n",
    "\n",
    "#fig.show()\n",
    "\n",
    "# Save the plot as a PNG file\n",
    "fig = ax.get_figure()\n",
    "fig.savefig('srs_final1.png', dpi=300, bbox_inches='tight')"
   ]
  },
  {
   "cell_type": "code",
   "execution_count": 440,
   "id": "ad236653",
   "metadata": {},
   "outputs": [
    {
     "data": {
      "image/png": "[encoded data removed]",
      "text/plain": [
       "<Figure size 640x480 with 1 Axes>"
      ]
     },
     "metadata": {},
     "output_type": "display_data"
    }
   ],
   "source": [
    "import matplotlib.pyplot as plt\n",
    "import seaborn as sns\n",
    "\n",
    "# Define a color map\n",
    "color_map = {'None': '#F3F0AE', 'Tournament': 'purple', 'Round32': 'yellow', \n",
    "             'Sweet16': '#EEA445', 'Elite8': '#EA8C5A', 'Final4': '#E57370', \n",
    "            'Final2': '#E15A85', 'Champion': '#DC419B'}\n",
    "\n",
    "# Set sizes\n",
    "size_map = {'None': 25, 'Tournament': 50, 'Round32': 75, \n",
    "            'Sweet16': 100, 'Elite8': 125, 'Final4': 150, 'Final2': 175, 'Champion': 200}\n",
    "\n",
    "# Create a new column in your DataFrame that maps progression to size values\n",
    "df['size'] = df['progression'].map(size_map)\n",
    "\n",
    "# Set the order of the legend\n",
    "legend_order = ['None', 'Tournament', 'Round32', 'Sweet16', 'Elite8', 'Final4', 'Final2', 'Champion']\n",
    "\n",
    "# Create the scatter plot with sizes based on the hue category\n",
    "ax = sns.scatterplot(data=df, x='W-L%', y='SRS', hue='progression', palette=color_map, hue_order=legend_order, size='size', edgecolor='grey', linewidth=1)\n",
    "\n",
    "# Set the title and axis labels\n",
    "ax.set_title('Winning % vs SRS')\n",
    "ax.set_xlabel('Win-Loss Ratio')\n",
    "ax.set_ylabel('SRS')\n",
    "\n",
    "# Remove the size key from the legend\n",
    "handles, labels = ax.get_legend_handles_labels()\n",
    "ax.legend(handles=handles[:-1], labels=labels[:-1])\n",
    "\n",
    "# Set the background color of the graph to light gray\n",
    "ax.set_facecolor('#F0F0F0')\n",
    "\n",
    "# Show the plot\n",
    "plt.show()\n",
    "\n",
    "\n"
   ]
  },
  {
   "cell_type": "code",
   "execution_count": 372,
   "id": "8fdfafd9",
   "metadata": {},
   "outputs": [
    {
     "data": {
      "text/plain": [
       "Rank              int64\n",
       "School           object\n",
       "G                 int64\n",
       "W                 int64\n",
       "L                 int64\n",
       "W-L%            float64\n",
       "SRS             float64\n",
       "SOS             float64\n",
       "Unnamed: 9      float64\n",
       "W.1             float64\n",
       "L.1             float64\n",
       "Unnamed: 12     float64\n",
       "W.2             float64\n",
       "L.2             float64\n",
       "Unnamed: 15     float64\n",
       "W.3             float64\n",
       "L.3             float64\n",
       "Unnamed: 18     float64\n",
       "Tm.             float64\n",
       "Opp.            float64\n",
       "Unnamed: 21     float64\n",
       "MP              float64\n",
       "FG              float64\n",
       "FGA             float64\n",
       "FG%             float64\n",
       "3P              float64\n",
       "3PA             float64\n",
       "3P%             float64\n",
       "FT              float64\n",
       "FTA             float64\n",
       "FT%             float64\n",
       "ORB             float64\n",
       "TRB             float64\n",
       "AST             float64\n",
       "STL             float64\n",
       "BLK             float64\n",
       "TOV             float64\n",
       "PF              float64\n",
       "AST/game        float64\n",
       "TOV/game        float64\n",
       "progression    category\n",
       "size              int64\n",
       "sizez          category\n",
       "dtype: object"
      ]
     },
     "execution_count": 372,
     "metadata": {},
     "output_type": "execute_result"
    }
   ],
   "source": [
    "# Boolean indexing to show rows where size != 25\n",
    "df[df['size'] != 25]\n",
    "df.dtypes\n",
    "df['size'] = df['size'].astype(int)\n",
    "df.dtypes\n"
   ]
  },
  {
   "cell_type": "code",
   "execution_count": 338,
   "id": "3bbb2c68",
   "metadata": {},
   "outputs": [
    {
     "ename": "ValueError",
     "evalue": "'c' argument must be a color, a sequence of colors, or a sequence of numbers, not 0      #C7E2F9\n1          NaN\n2          NaN\n3      #B3DEF8\n4          NaN\n        ...   \n350        NaN\n351        NaN\n352        NaN\n353        NaN\n354        NaN\nName: progression, Length: 355, dtype: object",
     "output_type": "error",
     "traceback": [
      "\u001b[0;31m---------------------------------------------------------------------------\u001b[0m",
      "\u001b[0;31mValueError\u001b[0m                                Traceback (most recent call last)",
      "\u001b[0;32m~/opt/anaconda3/lib/python3.9/site-packages/matplotlib/axes/_axes.py\u001b[0m in \u001b[0;36m_parse_scatter_color_args\u001b[0;34m(c, edgecolors, kwargs, xsize, get_next_color_func)\u001b[0m\n\u001b[1;32m   4213\u001b[0m             \u001b[0;32mtry\u001b[0m\u001b[0;34m:\u001b[0m  \u001b[0;31m# Is 'c' acceptable as PathCollection facecolors?\u001b[0m\u001b[0;34m\u001b[0m\u001b[0;34m\u001b[0m\u001b[0m\n\u001b[0;32m-> 4214\u001b[0;31m                 \u001b[0mcolors\u001b[0m \u001b[0;34m=\u001b[0m \u001b[0mmcolors\u001b[0m\u001b[0;34m.\u001b[0m\u001b[0mto_rgba_array\u001b[0m\u001b[0;34m(\u001b[0m\u001b[0mc\u001b[0m\u001b[0;34m)\u001b[0m\u001b[0;34m\u001b[0m\u001b[0;34m\u001b[0m\u001b[0m\n\u001b[0m\u001b[1;32m   4215\u001b[0m             \u001b[0;32mexcept\u001b[0m \u001b[0;34m(\u001b[0m\u001b[0mTypeError\u001b[0m\u001b[0;34m,\u001b[0m \u001b[0mValueError\u001b[0m\u001b[0;34m)\u001b[0m \u001b[0;32mas\u001b[0m \u001b[0merr\u001b[0m\u001b[0;34m:\u001b[0m\u001b[0;34m\u001b[0m\u001b[0;34m\u001b[0m\u001b[0m\n",
      "\u001b[0;32m~/opt/anaconda3/lib/python3.9/site-packages/matplotlib/colors.py\u001b[0m in \u001b[0;36mto_rgba_array\u001b[0;34m(c, alpha)\u001b[0m\n\u001b[1;32m    376\u001b[0m     \u001b[0;32melse\u001b[0m\u001b[0;34m:\u001b[0m\u001b[0;34m\u001b[0m\u001b[0;34m\u001b[0m\u001b[0m\n\u001b[0;32m--> 377\u001b[0;31m         \u001b[0mrgba\u001b[0m \u001b[0;34m=\u001b[0m \u001b[0mnp\u001b[0m\u001b[0;34m.\u001b[0m\u001b[0marray\u001b[0m\u001b[0;34m(\u001b[0m\u001b[0;34m[\u001b[0m\u001b[0mto_rgba\u001b[0m\u001b[0;34m(\u001b[0m\u001b[0mcc\u001b[0m\u001b[0;34m)\u001b[0m \u001b[0;32mfor\u001b[0m \u001b[0mcc\u001b[0m \u001b[0;32min\u001b[0m \u001b[0mc\u001b[0m\u001b[0;34m]\u001b[0m\u001b[0;34m)\u001b[0m\u001b[0;34m\u001b[0m\u001b[0;34m\u001b[0m\u001b[0m\n\u001b[0m\u001b[1;32m    378\u001b[0m \u001b[0;34m\u001b[0m\u001b[0m\n",
      "\u001b[0;32m~/opt/anaconda3/lib/python3.9/site-packages/matplotlib/colors.py\u001b[0m in \u001b[0;36m<listcomp>\u001b[0;34m(.0)\u001b[0m\n\u001b[1;32m    376\u001b[0m     \u001b[0;32melse\u001b[0m\u001b[0;34m:\u001b[0m\u001b[0;34m\u001b[0m\u001b[0;34m\u001b[0m\u001b[0m\n\u001b[0;32m--> 377\u001b[0;31m         \u001b[0mrgba\u001b[0m \u001b[0;34m=\u001b[0m \u001b[0mnp\u001b[0m\u001b[0;34m.\u001b[0m\u001b[0marray\u001b[0m\u001b[0;34m(\u001b[0m\u001b[0;34m[\u001b[0m\u001b[0mto_rgba\u001b[0m\u001b[0;34m(\u001b[0m\u001b[0mcc\u001b[0m\u001b[0;34m)\u001b[0m \u001b[0;32mfor\u001b[0m \u001b[0mcc\u001b[0m \u001b[0;32min\u001b[0m \u001b[0mc\u001b[0m\u001b[0;34m]\u001b[0m\u001b[0;34m)\u001b[0m\u001b[0;34m\u001b[0m\u001b[0;34m\u001b[0m\u001b[0m\n\u001b[0m\u001b[1;32m    378\u001b[0m \u001b[0;34m\u001b[0m\u001b[0m\n",
      "\u001b[0;32m~/opt/anaconda3/lib/python3.9/site-packages/matplotlib/colors.py\u001b[0m in \u001b[0;36mto_rgba\u001b[0;34m(c, alpha)\u001b[0m\n\u001b[1;32m    186\u001b[0m     \u001b[0;32mif\u001b[0m \u001b[0mrgba\u001b[0m \u001b[0;32mis\u001b[0m \u001b[0;32mNone\u001b[0m\u001b[0;34m:\u001b[0m  \u001b[0;31m# Suppress exception chaining of cache lookup failure.\u001b[0m\u001b[0;34m\u001b[0m\u001b[0;34m\u001b[0m\u001b[0m\n\u001b[0;32m--> 187\u001b[0;31m         \u001b[0mrgba\u001b[0m \u001b[0;34m=\u001b[0m \u001b[0m_to_rgba_no_colorcycle\u001b[0m\u001b[0;34m(\u001b[0m\u001b[0mc\u001b[0m\u001b[0;34m,\u001b[0m \u001b[0malpha\u001b[0m\u001b[0;34m)\u001b[0m\u001b[0;34m\u001b[0m\u001b[0;34m\u001b[0m\u001b[0m\n\u001b[0m\u001b[1;32m    188\u001b[0m         \u001b[0;32mtry\u001b[0m\u001b[0;34m:\u001b[0m\u001b[0;34m\u001b[0m\u001b[0;34m\u001b[0m\u001b[0m\n",
      "\u001b[0;32m~/opt/anaconda3/lib/python3.9/site-packages/matplotlib/colors.py\u001b[0m in \u001b[0;36m_to_rgba_no_colorcycle\u001b[0;34m(c, alpha)\u001b[0m\n\u001b[1;32m    268\u001b[0m     \u001b[0;32mif\u001b[0m \u001b[0;32mnot\u001b[0m \u001b[0mnp\u001b[0m\u001b[0;34m.\u001b[0m\u001b[0miterable\u001b[0m\u001b[0;34m(\u001b[0m\u001b[0mc\u001b[0m\u001b[0;34m)\u001b[0m\u001b[0;34m:\u001b[0m\u001b[0;34m\u001b[0m\u001b[0;34m\u001b[0m\u001b[0m\n\u001b[0;32m--> 269\u001b[0;31m         \u001b[0;32mraise\u001b[0m \u001b[0mValueError\u001b[0m\u001b[0;34m(\u001b[0m\u001b[0;34mf\"Invalid RGBA argument: {orig_c!r}\"\u001b[0m\u001b[0;34m)\u001b[0m\u001b[0;34m\u001b[0m\u001b[0;34m\u001b[0m\u001b[0m\n\u001b[0m\u001b[1;32m    270\u001b[0m     \u001b[0;32mif\u001b[0m \u001b[0mlen\u001b[0m\u001b[0;34m(\u001b[0m\u001b[0mc\u001b[0m\u001b[0;34m)\u001b[0m \u001b[0;32mnot\u001b[0m \u001b[0;32min\u001b[0m \u001b[0;34m[\u001b[0m\u001b[0;36m3\u001b[0m\u001b[0;34m,\u001b[0m \u001b[0;36m4\u001b[0m\u001b[0;34m]\u001b[0m\u001b[0;34m:\u001b[0m\u001b[0;34m\u001b[0m\u001b[0;34m\u001b[0m\u001b[0m\n",
      "\u001b[0;31mValueError\u001b[0m: Invalid RGBA argument: nan",
      "\nThe above exception was the direct cause of the following exception:\n",
      "\u001b[0;31mValueError\u001b[0m                                Traceback (most recent call last)",
      "\u001b[0;32m/var/folders/6c/6_yvphyn6jx_slx7qlbq1ngm0000gn/T/ipykernel_10879/3865660811.py\u001b[0m in \u001b[0;36m<module>\u001b[0;34m\u001b[0m\n\u001b[1;32m      9\u001b[0m \u001b[0;31m# Create scatter plot\u001b[0m\u001b[0;34m\u001b[0m\u001b[0;34m\u001b[0m\u001b[0m\n\u001b[1;32m     10\u001b[0m \u001b[0mfig\u001b[0m\u001b[0;34m,\u001b[0m \u001b[0max\u001b[0m \u001b[0;34m=\u001b[0m \u001b[0mplt\u001b[0m\u001b[0;34m.\u001b[0m\u001b[0msubplots\u001b[0m\u001b[0;34m(\u001b[0m\u001b[0mfigsize\u001b[0m\u001b[0;34m=\u001b[0m\u001b[0;34m(\u001b[0m\u001b[0;36m10\u001b[0m\u001b[0;34m,\u001b[0m \u001b[0;36m6\u001b[0m\u001b[0;34m)\u001b[0m\u001b[0;34m)\u001b[0m\u001b[0;34m\u001b[0m\u001b[0;34m\u001b[0m\u001b[0m\n\u001b[0;32m---> 11\u001b[0;31m scatter = ax.scatter(df['W-L%'], df['SRS'], c=df['progression'].map(color_map),\n\u001b[0m\u001b[1;32m     12\u001b[0m                      s=100, edgecolor='black', linewidth=1.5)\n\u001b[1;32m     13\u001b[0m \u001b[0;34m\u001b[0m\u001b[0m\n",
      "\u001b[0;32m~/opt/anaconda3/lib/python3.9/site-packages/matplotlib/__init__.py\u001b[0m in \u001b[0;36minner\u001b[0;34m(ax, data, *args, **kwargs)\u001b[0m\n\u001b[1;32m   1410\u001b[0m     \u001b[0;32mdef\u001b[0m \u001b[0minner\u001b[0m\u001b[0;34m(\u001b[0m\u001b[0max\u001b[0m\u001b[0;34m,\u001b[0m \u001b[0;34m*\u001b[0m\u001b[0margs\u001b[0m\u001b[0;34m,\u001b[0m \u001b[0mdata\u001b[0m\u001b[0;34m=\u001b[0m\u001b[0;32mNone\u001b[0m\u001b[0;34m,\u001b[0m \u001b[0;34m**\u001b[0m\u001b[0mkwargs\u001b[0m\u001b[0;34m)\u001b[0m\u001b[0;34m:\u001b[0m\u001b[0;34m\u001b[0m\u001b[0;34m\u001b[0m\u001b[0m\n\u001b[1;32m   1411\u001b[0m         \u001b[0;32mif\u001b[0m \u001b[0mdata\u001b[0m \u001b[0;32mis\u001b[0m \u001b[0;32mNone\u001b[0m\u001b[0;34m:\u001b[0m\u001b[0;34m\u001b[0m\u001b[0;34m\u001b[0m\u001b[0m\n\u001b[0;32m-> 1412\u001b[0;31m             \u001b[0;32mreturn\u001b[0m \u001b[0mfunc\u001b[0m\u001b[0;34m(\u001b[0m\u001b[0max\u001b[0m\u001b[0;34m,\u001b[0m \u001b[0;34m*\u001b[0m\u001b[0mmap\u001b[0m\u001b[0;34m(\u001b[0m\u001b[0msanitize_sequence\u001b[0m\u001b[0;34m,\u001b[0m \u001b[0margs\u001b[0m\u001b[0;34m)\u001b[0m\u001b[0;34m,\u001b[0m \u001b[0;34m**\u001b[0m\u001b[0mkwargs\u001b[0m\u001b[0;34m)\u001b[0m\u001b[0;34m\u001b[0m\u001b[0;34m\u001b[0m\u001b[0m\n\u001b[0m\u001b[1;32m   1413\u001b[0m \u001b[0;34m\u001b[0m\u001b[0m\n\u001b[1;32m   1414\u001b[0m         \u001b[0mbound\u001b[0m \u001b[0;34m=\u001b[0m \u001b[0mnew_sig\u001b[0m\u001b[0;34m.\u001b[0m\u001b[0mbind\u001b[0m\u001b[0;34m(\u001b[0m\u001b[0max\u001b[0m\u001b[0;34m,\u001b[0m \u001b[0;34m*\u001b[0m\u001b[0margs\u001b[0m\u001b[0;34m,\u001b[0m \u001b[0;34m**\u001b[0m\u001b[0mkwargs\u001b[0m\u001b[0;34m)\u001b[0m\u001b[0;34m\u001b[0m\u001b[0;34m\u001b[0m\u001b[0m\n",
      "\u001b[0;32m~/opt/anaconda3/lib/python3.9/site-packages/matplotlib/axes/_axes.py\u001b[0m in \u001b[0;36mscatter\u001b[0;34m(self, x, y, s, c, marker, cmap, norm, vmin, vmax, alpha, linewidths, edgecolors, plotnonfinite, **kwargs)\u001b[0m\n\u001b[1;32m   4378\u001b[0m             \u001b[0morig_edgecolor\u001b[0m \u001b[0;34m=\u001b[0m \u001b[0mkwargs\u001b[0m\u001b[0;34m.\u001b[0m\u001b[0mget\u001b[0m\u001b[0;34m(\u001b[0m\u001b[0;34m'edgecolor'\u001b[0m\u001b[0;34m,\u001b[0m \u001b[0;32mNone\u001b[0m\u001b[0;34m)\u001b[0m\u001b[0;34m\u001b[0m\u001b[0;34m\u001b[0m\u001b[0m\n\u001b[1;32m   4379\u001b[0m         \u001b[0mc\u001b[0m\u001b[0;34m,\u001b[0m \u001b[0mcolors\u001b[0m\u001b[0;34m,\u001b[0m \u001b[0medgecolors\u001b[0m \u001b[0;34m=\u001b[0m\u001b[0;31m \u001b[0m\u001b[0;31m\\\u001b[0m\u001b[0;34m\u001b[0m\u001b[0;34m\u001b[0m\u001b[0m\n\u001b[0;32m-> 4380\u001b[0;31m             self._parse_scatter_color_args(\n\u001b[0m\u001b[1;32m   4381\u001b[0m                 \u001b[0mc\u001b[0m\u001b[0;34m,\u001b[0m \u001b[0medgecolors\u001b[0m\u001b[0;34m,\u001b[0m \u001b[0mkwargs\u001b[0m\u001b[0;34m,\u001b[0m \u001b[0mx\u001b[0m\u001b[0;34m.\u001b[0m\u001b[0msize\u001b[0m\u001b[0;34m,\u001b[0m\u001b[0;34m\u001b[0m\u001b[0;34m\u001b[0m\u001b[0m\n\u001b[1;32m   4382\u001b[0m                 get_next_color_func=self._get_patches_for_fill.get_next_color)\n",
      "\u001b[0;32m~/opt/anaconda3/lib/python3.9/site-packages/matplotlib/axes/_axes.py\u001b[0m in \u001b[0;36m_parse_scatter_color_args\u001b[0;34m(c, edgecolors, kwargs, xsize, get_next_color_func)\u001b[0m\n\u001b[1;32m   4221\u001b[0m                     \u001b[0;31m# Both the mapping *and* the RGBA conversion failed: pretty\u001b[0m\u001b[0;34m\u001b[0m\u001b[0;34m\u001b[0m\u001b[0m\n\u001b[1;32m   4222\u001b[0m                     \u001b[0;31m# severe failure => one may appreciate a verbose feedback.\u001b[0m\u001b[0;34m\u001b[0m\u001b[0;34m\u001b[0m\u001b[0m\n\u001b[0;32m-> 4223\u001b[0;31m                     raise ValueError(\n\u001b[0m\u001b[1;32m   4224\u001b[0m                         \u001b[0;34mf\"'c' argument must be a color, a sequence of colors, \"\u001b[0m\u001b[0;34m\u001b[0m\u001b[0;34m\u001b[0m\u001b[0m\n\u001b[1;32m   4225\u001b[0m                         f\"or a sequence of numbers, not {c}\") from err\n",
      "\u001b[0;31mValueError\u001b[0m: 'c' argument must be a color, a sequence of colors, or a sequence of numbers, not 0      #C7E2F9\n1          NaN\n2          NaN\n3      #B3DEF8\n4          NaN\n        ...   \n350        NaN\n351        NaN\n352        NaN\n353        NaN\n354        NaN\nName: progression, Length: 355, dtype: object"
     ]
    },
    {
     "data": {
      "image/png": "[encoded data removed]",
      "text/plain": [
       "<Figure size 1000x600 with 1 Axes>"
      ]
     },
     "metadata": {},
     "output_type": "display_data"
    }
   ],
   "source": [
    "import pandas as pd\n",
    "import matplotlib.pyplot as plt\n",
    "\n",
    "\n",
    "# Define color map\n",
    "color_map = {'None':'#F0EAFC','Tournament':'#DCE6FB','Round32':'#C7E2F9','Sweet16':'#B3DEF8',\n",
    "             \"Elite8\":'#9EDAF6','Final4':'#8AD6F5','Final2':'#75D2F3','Champion':'#61CEF2'} \n",
    "\n",
    "# Create scatter plot\n",
    "fig, ax = plt.subplots(figsize=(10, 6))\n",
    "scatter = ax.scatter(df['W-L%'], df['SRS'], c=df['progression'].map(color_map),\n",
    "                     s=100, edgecolor='black', linewidth=1.5)\n",
    "\n",
    "# Customize plot\n",
    "ax.set_xlabel('Win-Loss Ratio')\n",
    "ax.set_ylabel('SRS')\n",
    "ax.set_title('Winning % vs SRS')\n",
    "ax.grid(True)\n",
    "ax.spines['top'].set_visible(False)\n",
    "ax.spines['right'].set_visible(False)\n",
    "\n",
    "# Create custom legend\n",
    "handles, labels = scatter.legend_elements(prop='colors', alpha=0.6)\n",
    "legend = ax.legend(handles, ['None', 'Tournament', 'Round32', 'Sweet16', 'Elite8', 'Final4', 'Final2', 'Champion'],\n",
    "                   loc='upper left', title='Progression', frameon=False)\n",
    "\n",
    "plt.show()\n"
   ]
  },
  {
   "cell_type": "code",
   "execution_count": 176,
   "id": "d4f72cb1",
   "metadata": {},
   "outputs": [
    {
     "data": {
      "application/vnd.plotly.v1+json": {
       "config": {
        "plotlyServerURL": "https://plot.ly"
       },
       "data": [
        {
         "hovertemplate": "<b>%{hovertext}</b><br><br>progression=Round32<br>W-L%=%{x}<br>SRS=%{y}<extra></extra>",
         "hovertext": [
          "Abilene Christian",
          "Colorado",
          "Florida",
          "Illinois",
          "Iowa",
          "Kansas",
          "Louisiana State",
          "Maryland",
          "North Texas",
          "Ohio",
          "Oklahoma",
          "Oklahoma State",
          "Rutgers",
          "Texas Tech",
          "West Virginia",
          "Wisconsin"
         ],
         "legendgroup": "Round32",
         "marker": {
          "color": "#C7E2F9",
          "symbol": "circle"
         },
         "mode": "markers",
         "name": "Round32",
         "orientation": "v",
         "showlegend": true,
         "type": "scatter",
         "x": [
          0.828,
          0.719,
          0.6,
          0.774,
          0.71,
          0.7,
          0.655,
          0.548,
          0.643,
          0.68,
          0.593,
          0.7,
          0.571,
          0.621,
          0.655,
          0.581
         ],
         "xaxis": "x",
         "y": [
          6.27,
          18.88,
          13.7,
          23.25,
          21.4,
          15.29,
          15.7,
          13.94,
          7.58,
          5.48,
          13.52,
          13.65,
          14.14,
          16.59,
          15.36,
          17.22
         ],
         "yaxis": "y"
        },
        {
         "hovertemplate": "<b>%{hovertext}</b><br><br>progression=Nada<br>W-L%=%{x}<br>SRS=%{y}<extra></extra>",
         "hovertext": [
          "Air Force",
          "Akron",
          "Alabama A&M",
          "Alabama State",
          "Albany (NY)",
          "Alcorn State",
          "American",
          "Arizona",
          "Arizona State",
          "Arkansas State",
          "Arkansas-Pine Bluff",
          "Army",
          "Auburn",
          "Austin Peay",
          "Ball State",
          "Bellarmine",
          "Belmont",
          "Binghamton",
          "Boise State",
          "Boston College",
          "Boston University",
          "Bowling Green State",
          "Bradley",
          "Brown",
          "Bryant",
          "Bucknell",
          "Buffalo",
          "Butler",
          "Cal Poly",
          "Cal State Bakersfield",
          "Cal State Fullerton",
          "Cal State Northridge",
          "California",
          "California Baptist",
          "Campbell",
          "Canisius",
          "Central Arkansas",
          "Central Connecticut State",
          "Central Florida",
          "Central Michigan",
          "Charleston Southern",
          "Charlotte",
          "Chattanooga",
          "Chicago State",
          "Cincinnati",
          "Coastal Carolina",
          "College of Charleston",
          "Colorado State",
          "Columbia",
          "Coppin State",
          "Cornell",
          "Dartmouth",
          "Davidson",
          "Dayton",
          "Delaware",
          "Delaware State",
          "Denver",
          "DePaul",
          "Detroit Mercy",
          "Duke",
          "Duquesne",
          "East Carolina",
          "East Tennessee State",
          "Eastern Illinois",
          "Eastern Kentucky",
          "Eastern Michigan",
          "Elon",
          "Evansville",
          "Fairfield",
          "Fairleigh Dickinson",
          "Florida A&M",
          "Florida Atlantic",
          "Florida Gulf Coast",
          "Florida International",
          "Fordham",
          "Fresno State",
          "Furman",
          "Gardner-Webb",
          "George Mason",
          "George Washington",
          "Georgia",
          "Georgia Southern",
          "Georgia State",
          "Grambling",
          "Green Bay",
          "Hampton",
          "Harvard",
          "Hawaii",
          "High Point",
          "Hofstra",
          "Holy Cross",
          "Houston Christian",
          "Howard",
          "Idaho",
          "Idaho State",
          "Illinois State",
          "Illinois-Chicago",
          "Incarnate Word",
          "Indiana",
          "Indiana State",
          "Iowa State",
          "IUPUI",
          "Jackson State",
          "Jacksonville",
          "Jacksonville State",
          "James Madison",
          "Kansas City",
          "Kansas State",
          "Kennesaw State",
          "Kent State",
          "Kentucky",
          "La Salle",
          "Lafayette",
          "Lamar",
          "Lehigh",
          "Lipscomb",
          "Little Rock",
          "Long Beach State",
          "Long Island University",
          "Longwood",
          "Louisiana",
          "Louisiana Tech",
          "Louisiana-Monroe",
          "Louisville",
          "Loyola (MD)",
          "Loyola Marymount",
          "Maine",
          "Manhattan",
          "Marist",
          "Marquette",
          "Marshall",
          "Maryland-Baltimore County",
          "Massachusetts",
          "Massachusetts-Lowell",
          "McNeese State",
          "Memphis",
          "Mercer",
          "Merrimack",
          "Miami (FL)",
          "Miami (OH)",
          "Middle Tennessee",
          "Milwaukee",
          "Minnesota",
          "Mississippi",
          "Mississippi State",
          "Mississippi Valley State",
          "Missouri State",
          "Monmouth",
          "Montana",
          "Montana State",
          "Morgan State",
          "Murray State",
          "Navy",
          "NC State",
          "Nebraska",
          "Nevada",
          "Nevada-Las Vegas",
          "New Hampshire",
          "New Mexico",
          "New Mexico State",
          "New Orleans",
          "Niagara",
          "Nicholls State",
          "NJIT",
          "North Alabama",
          "North Carolina A&T",
          "North Carolina Central",
          "North Dakota",
          "North Dakota State",
          "North Florida",
          "Northeastern",
          "Northern Arizona",
          "Northern Colorado",
          "Northern Illinois",
          "Northern Iowa",
          "Northern Kentucky",
          "Northwestern",
          "Northwestern State",
          "Notre Dame",
          "Oakland",
          "Old Dominion",
          "Omaha",
          "Pacific",
          "Penn State",
          "Pennsylvania",
          "Pepperdine",
          "Pittsburgh",
          "Portland",
          "Portland State",
          "Prairie View",
          "Presbyterian",
          "Princeton",
          "Providence",
          "Purdue-Fort Wayne",
          "Quinnipiac",
          "Radford",
          "Rhode Island",
          "Rice",
          "Richmond",
          "Rider",
          "Robert Morris",
          "Sacramento State",
          "Sacred Heart",
          "Saint Francis (PA)",
          "Saint Joseph's",
          "Saint Louis",
          "Saint Mary's (CA)",
          "Saint Peter's",
          "Sam Houston State",
          "Samford",
          "San Diego",
          "San Francisco",
          "San Jose State",
          "Santa Clara",
          "Seattle",
          "Seton Hall",
          "Siena",
          "South Alabama",
          "South Carolina",
          "South Carolina State",
          "South Carolina Upstate",
          "South Dakota",
          "South Dakota State",
          "South Florida",
          "Southeast Missouri State",
          "Southeastern Louisiana",
          "Southern",
          "Southern Illinois",
          "SIU Edwardsville",
          "Southern Methodist",
          "Southern Mississippi",
          "Southern Utah",
          "St. Francis (NY)",
          "St. John's (NY)",
          "Stanford",
          "Stephen F. Austin",
          "Stetson",
          "Stony Brook",
          "Tarleton State",
          "TCU",
          "Temple",
          "Tennessee State",
          "Tennessee Tech",
          "Tennessee-Martin",
          "Texas A&M",
          "Texas A&M-Corpus Christi",
          "Texas State",
          "Texas-Rio Grande Valley",
          "The Citadel",
          "Toledo",
          "Towson",
          "Troy",
          "Tulane",
          "Tulsa",
          "UAB",
          "UC Davis",
          "UC Irvine",
          "UC Riverside",
          "UC San Diego",
          "UNC Asheville",
          "UNC Wilmington",
          "UT Arlington",
          "Utah",
          "Utah Tech",
          "Utah Valley",
          "UTEP",
          "UTSA",
          "Valparaiso",
          "Vanderbilt",
          "Vermont",
          "VMI",
          "Wagner",
          "Wake Forest",
          "Washington",
          "Washington State",
          "Weber State",
          "Western Carolina",
          "Western Illinois",
          "Western Kentucky",
          "Western Michigan",
          "William & Mary",
          "Wofford",
          "Wright State",
          "Wyoming",
          "Xavier",
          "Yale",
          "Youngstown State"
         ],
         "legendgroup": "Nada",
         "marker": {
          "color": "#F0EAFC",
          "symbol": "circle"
         },
         "mode": "markers",
         "name": "Nada",
         "orientation": "v",
         "showlegend": true,
         "type": "scatter",
         "x": [
          0.2,
          0.652,
          0.4,
          0.222,
          0.438,
          0.316,
          0.4,
          0.654,
          0.44,
          0.458,
          0.16,
          0.545,
          0.481,
          0.519,
          0.435,
          0.636,
          0.867,
          0.222,
          0.679,
          0.2,
          0.389,
          0.538,
          0.429,
          null,
          0.682,
          0.417,
          0.64,
          0.4,
          0.167,
          0.577,
          0.375,
          0.409,
          0.31,
          0.565,
          0.63,
          0.538,
          0.208,
          0.238,
          0.478,
          0.304,
          0.143,
          0.36,
          0.692,
          0,
          0.522,
          0.692,
          0.474,
          0.714,
          null,
          0.409,
          null,
          null,
          0.591,
          0.583,
          0.467,
          0.158,
          0.095,
          0.263,
          0.545,
          0.542,
          0.5,
          0.421,
          0.52,
          0.333,
          0.759,
          0.333,
          0.526,
          0.36,
          0.37,
          0.375,
          0.4,
          0.565,
          0.556,
          0.346,
          0.143,
          0.5,
          0.64,
          0.423,
          0.591,
          0.294,
          0.538,
          0.5,
          0.727,
          0.5,
          0.32,
          0.44,
          null,
          0.524,
          0.375,
          0.565,
          0.313,
          0.24,
          0.2,
          0.045,
          0.542,
          0.28,
          0.409,
          0.364,
          0.444,
          0.6,
          0.083,
          0.444,
          0.667,
          0.458,
          0.667,
          0.65,
          0.458,
          0.31,
          0.208,
          0.652,
          0.36,
          0.36,
          0.6,
          0.357,
          0.267,
          0.556,
          0.423,
          0.333,
          0.5,
          0.414,
          0.654,
          0.75,
          0.269,
          0.65,
          0.353,
          0.591,
          0.222,
          0.35,
          0.571,
          0.481,
          0.682,
          0.7,
          0.533,
          0.478,
          0.417,
          0.714,
          0.621,
          0.5,
          0.37,
          0.522,
          0.217,
          0.455,
          0.483,
          0.571,
          0.545,
          0.083,
          0.708,
          0.6,
          0.536,
          0.565,
          0.636,
          0.5,
          0.833,
          0.56,
          0.259,
          0.615,
          0.444,
          0.526,
          0.273,
          0.6,
          0.4,
          0.45,
          0.72,
          0.368,
          0.542,
          0.524,
          0.357,
          0.346,
          0.556,
          0.348,
          0.526,
          0.273,
          0.5,
          0.158,
          0.4,
          0.56,
          0.375,
          0.379,
          0.423,
          0.4,
          0.652,
          0.2,
          0.5,
          0.44,
          null,
          0.556,
          0.455,
          0.286,
          0.409,
          0.762,
          0.318,
          null,
          0.5,
          0.348,
          0.409,
          0.556,
          0.4,
          0.536,
          0.609,
          0.261,
          0.211,
          0.4,
          0.5,
          0.273,
          0.25,
          0.667,
          0.583,
          0.56,
          0.679,
          0.316,
          0.214,
          0.44,
          0.238,
          0.6,
          0.522,
          0.519,
          0.706,
          0.607,
          0.286,
          0.056,
          0.217,
          0.56,
          0.696,
          0.409,
          0.407,
          0.308,
          0.421,
          0.462,
          0.346,
          0.647,
          0.32,
          0.833,
          0.474,
          0.593,
          0.519,
          0.762,
          0.444,
          0.391,
          0.5,
          0.462,
          0.313,
          0.174,
          0.185,
          0.333,
          0.444,
          0.208,
          0.72,
          0.474,
          0.52,
          0.7,
          0.222,
          0.393,
          0.435,
          0.478,
          0.759,
          0.556,
          0.667,
          0.636,
          0.412,
          0.5,
          0.412,
          0.5,
          0.48,
          0.381,
          0.5,
          0.5,
          0.577,
          0.357,
          0.36,
          0.667,
          0.52,
          0.65,
          0.273,
          0.192,
          0.519,
          0.739,
          0.407,
          0.318,
          0.724,
          0.238,
          0.412,
          0.625,
          0.75,
          0.56,
          0.619,
          null,
          0.556
         ],
         "xaxis": "x",
         "y": [
          -12.98,
          1.85,
          -18.86,
          -24.28,
          -4.53,
          -19.58,
          -6.32,
          15.02,
          7.48,
          -7.97,
          -22.67,
          0.06,
          10.02,
          -6.66,
          -1.96,
          -1.76,
          3.46,
          -12.24,
          9.75,
          0.82,
          -3.71,
          -0.17,
          0.32,
          null,
          -1.37,
          -7.78,
          6.5,
          4.76,
          -13.69,
          -0.13,
          -6.32,
          -8.69,
          4.89,
          -5.25,
          -6.82,
          -8.61,
          -14.86,
          -15.12,
          5.94,
          -12.34,
          -16.72,
          -5.68,
          -1.54,
          -31.82,
          3.99,
          -2.74,
          -4.96,
          8.06,
          null,
          -12.37,
          null,
          null,
          9.02,
          6.31,
          -5.19,
          -24.09,
          -16.4,
          2.67,
          -3.66,
          13.04,
          2.32,
          1,
          1.65,
          -12.71,
          -2.68,
          -14.23,
          -5.32,
          -4.85,
          -11.46,
          -10.17,
          -12.35,
          -2.05,
          -9.63,
          -11.2,
          -11.69,
          -3.57,
          5.99,
          -3.87,
          1.91,
          -5.75,
          6.62,
          -10.22,
          -1.7,
          -14.27,
          -10.15,
          -13.67,
          null,
          -2.98,
          -10.78,
          -2.77,
          -4.99,
          -16.72,
          -14.26,
          -18.32,
          -8.39,
          -5.45,
          -12.06,
          -15.91,
          12.79,
          2.04,
          -0.72,
          -11.65,
          -11.27,
          -11.15,
          -3.02,
          -0.11,
          -4.92,
          0.76,
          -14.15,
          1.74,
          11.77,
          -3.57,
          -5.38,
          -13.1,
          -12.85,
          -7.07,
          -6.36,
          -8.5,
          -7.76,
          -7.93,
          -4.84,
          6.63,
          -10.59,
          10.35,
          -2.29,
          5.55,
          -15.66,
          -12.2,
          -8.99,
          8.51,
          5.7,
          -1.05,
          4.77,
          -6.05,
          -18.34,
          13.81,
          1.28,
          -9.06,
          3.23,
          -2.67,
          -10.78,
          -7.71,
          11.04,
          11.18,
          9.24,
          -38.17,
          5.16,
          -5.88,
          -3.65,
          -5.62,
          -6.55,
          -2.86,
          1.02,
          9.6,
          6.08,
          5.4,
          -1.48,
          -8.2,
          -12.38,
          -1.21,
          -10.91,
          -7.54,
          -5.21,
          -9.75,
          -10.05,
          -14.27,
          -15.99,
          -10.35,
          -0.65,
          -11.48,
          -1.09,
          -12.97,
          -6.7,
          -17.9,
          -1.75,
          -6.78,
          9.71,
          -13.48,
          7.73,
          -9.33,
          -1.1,
          -12.73,
          2.64,
          13.53,
          null,
          5.65,
          7.8,
          -12.58,
          -6.33,
          -8.02,
          -13.96,
          null,
          8.94,
          -12.15,
          -9.1,
          -6.2,
          5.29,
          -3.73,
          9.04,
          -12.24,
          -13.2,
          -7.76,
          -12.19,
          -10.3,
          -4.56,
          11.76,
          8.05,
          -5.48,
          -3.29,
          -8.93,
          -5.22,
          6,
          -17.5,
          -0.05,
          -5.24,
          11.12,
          -3.99,
          -6.03,
          3.39,
          -24.9,
          -13.7,
          -1.25,
          3.27,
          -0.02,
          -10.18,
          -17.4,
          -13.49,
          -3.56,
          -14.94,
          10.97,
          -6.88,
          0.63,
          -10.23,
          9.41,
          10.15,
          -1.63,
          -7.26,
          -6.14,
          -7.28,
          2.61,
          2.57,
          -14.1,
          -14.13,
          -19.41,
          2.2,
          -16.77,
          -3.85,
          -9.63,
          -6.07,
          6.59,
          -9.83,
          -12.06,
          1.03,
          4.19,
          5.8,
          -5.83,
          3.46,
          4.12,
          -6.95,
          -6.99,
          -6.84,
          -7.23,
          11.86,
          -14.01,
          -3.41,
          1.07,
          -1.22,
          -4.21,
          6.14,
          1.99,
          -0.41,
          -5.35,
          1.72,
          1.88,
          8.12,
          3.14,
          -7.43,
          -12.48,
          5.19,
          -11.51,
          -11.23,
          1.76,
          6.89,
          -1.23,
          11.09,
          null,
          -9.78
         ],
         "yaxis": "y"
        },
        {
         "hovertemplate": "<b>%{hovertext}</b><br><br>progression=Sweet16<br>W-L%=%{x}<br>SRS=%{y}<extra></extra>",
         "hovertext": [
          "Alabama",
          "Creighton",
          "Florida State",
          "Loyola (IL)",
          "Oral Roberts",
          "Oregon",
          "Syracuse",
          "Villanova"
         ],
         "legendgroup": "Sweet16",
         "marker": {
          "color": "#B3DEF8",
          "symbol": "circle"
         },
         "mode": "markers",
         "name": "Sweet16",
         "orientation": "v",
         "showlegend": true,
         "type": "scatter",
         "x": [
          0.788,
          0.71,
          0.72,
          0.839,
          0.621,
          0.75,
          0.643,
          0.72
         ],
         "xaxis": "x",
         "y": [
          19.58,
          16.28,
          17.12,
          15.12,
          1.73,
          16.15,
          13.27,
          17.47
         ],
         "yaxis": "y"
        },
        {
         "hovertemplate": "<b>%{hovertext}</b><br><br>progression=Tournament<br>W-L%=%{x}<br>SRS=%{y}<extra></extra>",
         "hovertext": [
          "Appalachian State",
          "Brigham Young",
          "Clemson",
          "Cleveland State",
          "Colgate",
          "Connecticut",
          "Drake",
          "Drexel",
          "Eastern Washington",
          "Georgetown",
          "Georgia Tech",
          "Grand Canyon",
          "Hartford",
          "Iona",
          "Liberty",
          "Michigan State",
          "Missouri",
          "Morehead State",
          "Mount St. Mary's",
          "Norfolk State",
          "North Carolina",
          "Ohio State",
          "Purdue",
          "San Diego State",
          "St. Bonaventure",
          "Tennessee",
          "Texas",
          "Texas Southern",
          "UC Santa Barbara",
          "UNC Greensboro",
          "Utah State",
          "Virginia",
          "Virginia Commonwealth",
          "Virginia Tech",
          "Wichita State",
          "Winthrop"
         ],
         "legendgroup": "Tournament",
         "marker": {
          "color": "#DCE6FB",
          "symbol": "circle"
         },
         "mode": "markers",
         "name": "Tournament",
         "orientation": "v",
         "showlegend": true,
         "type": "scatter",
         "x": [
          0.586,
          0.741,
          0.667,
          0.704,
          0.875,
          0.652,
          0.839,
          0.6,
          0.667,
          0.5,
          0.654,
          0.708,
          0.625,
          0.667,
          0.793,
          0.536,
          0.615,
          0.742,
          0.522,
          0.68,
          0.621,
          0.677,
          0.643,
          0.821,
          0.762,
          0.667,
          0.704,
          0.654,
          0.815,
          0.7,
          0.69,
          0.72,
          0.731,
          0.682,
          0.727,
          0.92
         ],
         "xaxis": "x",
         "y": [
          -5.84,
          15.19,
          12.49,
          -5.12,
          13.66,
          15.77,
          9.42,
          -0.97,
          4.03,
          10.13,
          12.79,
          5.11,
          -3.45,
          -1.2,
          4.06,
          9.8,
          12.37,
          -0.95,
          -5.67,
          -6.16,
          14.79,
          18.25,
          15.55,
          14.36,
          13.44,
          16.87,
          15.51,
          -6.15,
          7.8,
          3.48,
          10.99,
          15.27,
          11.3,
          12.59,
          9.36,
          4.69
         ],
         "yaxis": "y"
        },
        {
         "hovertemplate": "<b>%{hovertext}</b><br><br>progression=Elite8<br>W-L%=%{x}<br>SRS=%{y}<extra></extra>",
         "hovertext": [
          "Arkansas",
          "Michigan",
          "Oregon State",
          "Southern California"
         ],
         "legendgroup": "Elite8",
         "marker": {
          "color": "#9EDAF6",
          "symbol": "circle"
         },
         "mode": "markers",
         "name": "Elite8",
         "orientation": "v",
         "showlegend": true,
         "type": "scatter",
         "x": [
          0.781,
          0.821,
          0.606,
          0.758
         ],
         "xaxis": "x",
         "y": [
          17.8,
          22,
          11.48,
          20.5
         ],
         "yaxis": "y"
        },
        {
         "hovertemplate": "<b>%{hovertext}</b><br><br>progression=Champion<br>W-L%=%{x}<br>SRS=%{y}<extra></extra>",
         "hovertext": [
          "Baylor"
         ],
         "legendgroup": "Champion",
         "marker": {
          "color": "#61CEF2",
          "symbol": "circle"
         },
         "mode": "markers",
         "name": "Champion",
         "orientation": "v",
         "showlegend": true,
         "type": "scatter",
         "x": [
          0.933
         ],
         "xaxis": "x",
         "y": [
          24.83
         ],
         "yaxis": "y"
        },
        {
         "hovertemplate": "<b>%{hovertext}</b><br><br>progression=Final2<br>W-L%=%{x}<br>SRS=%{y}<extra></extra>",
         "hovertext": [
          "Gonzaga"
         ],
         "legendgroup": "Final2",
         "marker": {
          "color": "#75D2F3",
          "symbol": "circle"
         },
         "mode": "markers",
         "name": "Final2",
         "orientation": "v",
         "showlegend": true,
         "type": "scatter",
         "x": [
          0.969
         ],
         "xaxis": "x",
         "y": [
          27.2
         ],
         "yaxis": "y"
        },
        {
         "hovertemplate": "<b>%{hovertext}</b><br><br>progression=Final4<br>W-L%=%{x}<br>SRS=%{y}<extra></extra>",
         "hovertext": [
          "Houston",
          "UCLA"
         ],
         "legendgroup": "Final4",
         "marker": {
          "color": "#8AD6F5",
          "symbol": "circle"
         },
         "mode": "markers",
         "name": "Final4",
         "orientation": "v",
         "showlegend": true,
         "type": "scatter",
         "x": [
          0.875,
          0.688
         ],
         "xaxis": "x",
         "y": [
          21.66,
          16.3
         ],
         "yaxis": "y"
        }
       ],
       "layout": {
        "legend": {
         "title": {
          "text": "progression"
         },
         "tracegroupgap": 0
        },
        "margin": {
         "t": 60
        },
        "template": {
         "data": {
          "bar": [
           {
            "error_x": {
             "color": "#2a3f5f"
            },
            "error_y": {
             "color": "#2a3f5f"
            },
            "marker": {
             "line": {
              "color": "#E5ECF6",
              "width": 0.5
             },
             "pattern": {
              "fillmode": "overlay",
              "size": 10,
              "solidity": 0.2
             }
            },
            "type": "bar"
           }
          ],
          "barpolar": [
           {
            "marker": {
             "line": {
              "color": "#E5ECF6",
              "width": 0.5
             },
             "pattern": {
              "fillmode": "overlay",
              "size": 10,
              "solidity": 0.2
             }
            },
            "type": "barpolar"
           }
          ],
          "carpet": [
           {
            "aaxis": {
             "endlinecolor": "#2a3f5f",
             "gridcolor": "white",
             "linecolor": "white",
             "minorgridcolor": "white",
             "startlinecolor": "#2a3f5f"
            },
            "baxis": {
             "endlinecolor": "#2a3f5f",
             "gridcolor": "white",
             "linecolor": "white",
             "minorgridcolor": "white",
             "startlinecolor": "#2a3f5f"
            },
            "type": "carpet"
           }
          ],
          "choropleth": [
           {
            "colorbar": {
             "outlinewidth": 0,
             "ticks": ""
            },
            "type": "choropleth"
           }
          ],
          "contour": [
           {
            "colorbar": {
             "outlinewidth": 0,
             "ticks": ""
            },
            "colorscale": [
             [
              0,
              "#0d0887"
             ],
             [
              0.1111111111111111,
              "#46039f"
             ],
             [
              0.2222222222222222,
              "#7201a8"
             ],
             [
              0.3333333333333333,
              "#9c179e"
             ],
             [
              0.4444444444444444,
              "#bd3786"
             ],
             [
              0.5555555555555556,
              "#d8576b"
             ],
             [
              0.6666666666666666,
              "#ed7953"
             ],
             [
              0.7777777777777778,
              "#fb9f3a"
             ],
             [
              0.8888888888888888,
              "#fdca26"
             ],
             [
              1,
              "#f0f921"
             ]
            ],
            "type": "contour"
           }
          ],
          "contourcarpet": [
           {
            "colorbar": {
             "outlinewidth": 0,
             "ticks": ""
            },
            "type": "contourcarpet"
           }
          ],
          "heatmap": [
           {
            "colorbar": {
             "outlinewidth": 0,
             "ticks": ""
            },
            "colorscale": [
             [
              0,
              "#0d0887"
             ],
             [
              0.1111111111111111,
              "#46039f"
             ],
             [
              0.2222222222222222,
              "#7201a8"
             ],
             [
              0.3333333333333333,
              "#9c179e"
             ],
             [
              0.4444444444444444,
              "#bd3786"
             ],
             [
              0.5555555555555556,
              "#d8576b"
             ],
             [
              0.6666666666666666,
              "#ed7953"
             ],
             [
              0.7777777777777778,
              "#fb9f3a"
             ],
             [
              0.8888888888888888,
              "#fdca26"
             ],
             [
              1,
              "#f0f921"
             ]
            ],
            "type": "heatmap"
           }
          ],
          "heatmapgl": [
           {
            "colorbar": {
             "outlinewidth": 0,
             "ticks": ""
            },
            "colorscale": [
             [
              0,
              "#0d0887"
             ],
             [
              0.1111111111111111,
              "#46039f"
             ],
             [
              0.2222222222222222,
              "#7201a8"
             ],
             [
              0.3333333333333333,
              "#9c179e"
             ],
             [
              0.4444444444444444,
              "#bd3786"
             ],
             [
              0.5555555555555556,
              "#d8576b"
             ],
             [
              0.6666666666666666,
              "#ed7953"
             ],
             [
              0.7777777777777778,
              "#fb9f3a"
             ],
             [
              0.8888888888888888,
              "#fdca26"
             ],
             [
              1,
              "#f0f921"
             ]
            ],
            "type": "heatmapgl"
           }
          ],
          "histogram": [
           {
            "marker": {
             "pattern": {
              "fillmode": "overlay",
              "size": 10,
              "solidity": 0.2
             }
            },
            "type": "histogram"
           }
          ],
          "histogram2d": [
           {
            "colorbar": {
             "outlinewidth": 0,
             "ticks": ""
            },
            "colorscale": [
             [
              0,
              "#0d0887"
             ],
             [
              0.1111111111111111,
              "#46039f"
             ],
             [
              0.2222222222222222,
              "#7201a8"
             ],
             [
              0.3333333333333333,
              "#9c179e"
             ],
             [
              0.4444444444444444,
              "#bd3786"
             ],
             [
              0.5555555555555556,
              "#d8576b"
             ],
             [
              0.6666666666666666,
              "#ed7953"
             ],
             [
              0.7777777777777778,
              "#fb9f3a"
             ],
             [
              0.8888888888888888,
              "#fdca26"
             ],
             [
              1,
              "#f0f921"
             ]
            ],
            "type": "histogram2d"
           }
          ],
          "histogram2dcontour": [
           {
            "colorbar": {
             "outlinewidth": 0,
             "ticks": ""
            },
            "colorscale": [
             [
              0,
              "#0d0887"
             ],
             [
              0.1111111111111111,
              "#46039f"
             ],
             [
              0.2222222222222222,
              "#7201a8"
             ],
             [
              0.3333333333333333,
              "#9c179e"
             ],
             [
              0.4444444444444444,
              "#bd3786"
             ],
             [
              0.5555555555555556,
              "#d8576b"
             ],
             [
              0.6666666666666666,
              "#ed7953"
             ],
             [
              0.7777777777777778,
              "#fb9f3a"
             ],
             [
              0.8888888888888888,
              "#fdca26"
             ],
             [
              1,
              "#f0f921"
             ]
            ],
            "type": "histogram2dcontour"
           }
          ],
          "mesh3d": [
           {
            "colorbar": {
             "outlinewidth": 0,
             "ticks": ""
            },
            "type": "mesh3d"
           }
          ],
          "parcoords": [
           {
            "line": {
             "colorbar": {
              "outlinewidth": 0,
              "ticks": ""
             }
            },
            "type": "parcoords"
           }
          ],
          "pie": [
           {
            "automargin": true,
            "type": "pie"
           }
          ],
          "scatter": [
           {
            "fillpattern": {
             "fillmode": "overlay",
             "size": 10,
             "solidity": 0.2
            },
            "type": "scatter"
           }
          ],
          "scatter3d": [
           {
            "line": {
             "colorbar": {
              "outlinewidth": 0,
              "ticks": ""
             }
            },
            "marker": {
             "colorbar": {
              "outlinewidth": 0,
              "ticks": ""
             }
            },
            "type": "scatter3d"
           }
          ],
          "scattercarpet": [
           {
            "marker": {
             "colorbar": {
              "outlinewidth": 0,
              "ticks": ""
             }
            },
            "type": "scattercarpet"
           }
          ],
          "scattergeo": [
           {
            "marker": {
             "colorbar": {
              "outlinewidth": 0,
              "ticks": ""
             }
            },
            "type": "scattergeo"
           }
          ],
          "scattergl": [
           {
            "marker": {
             "colorbar": {
              "outlinewidth": 0,
              "ticks": ""
             }
            },
            "type": "scattergl"
           }
          ],
          "scattermapbox": [
           {
            "marker": {
             "colorbar": {
              "outlinewidth": 0,
              "ticks": ""
             }
            },
            "type": "scattermapbox"
           }
          ],
          "scatterpolar": [
           {
            "marker": {
             "colorbar": {
              "outlinewidth": 0,
              "ticks": ""
             }
            },
            "type": "scatterpolar"
           }
          ],
          "scatterpolargl": [
           {
            "marker": {
             "colorbar": {
              "outlinewidth": 0,
              "ticks": ""
             }
            },
            "type": "scatterpolargl"
           }
          ],
          "scatterternary": [
           {
            "marker": {
             "colorbar": {
              "outlinewidth": 0,
              "ticks": ""
             }
            },
            "type": "scatterternary"
           }
          ],
          "surface": [
           {
            "colorbar": {
             "outlinewidth": 0,
             "ticks": ""
            },
            "colorscale": [
             [
              0,
              "#0d0887"
             ],
             [
              0.1111111111111111,
              "#46039f"
             ],
             [
              0.2222222222222222,
              "#7201a8"
             ],
             [
              0.3333333333333333,
              "#9c179e"
             ],
             [
              0.4444444444444444,
              "#bd3786"
             ],
             [
              0.5555555555555556,
              "#d8576b"
             ],
             [
              0.6666666666666666,
              "#ed7953"
             ],
             [
              0.7777777777777778,
              "#fb9f3a"
             ],
             [
              0.8888888888888888,
              "#fdca26"
             ],
             [
              1,
              "#f0f921"
             ]
            ],
            "type": "surface"
           }
          ],
          "table": [
           {
            "cells": {
             "fill": {
              "color": "#EBF0F8"
             },
             "line": {
              "color": "white"
             }
            },
            "header": {
             "fill": {
              "color": "#C8D4E3"
             },
             "line": {
              "color": "white"
             }
            },
            "type": "table"
           }
          ]
         },
         "layout": {
          "annotationdefaults": {
           "arrowcolor": "#2a3f5f",
           "arrowhead": 0,
           "arrowwidth": 1
          },
          "autotypenumbers": "strict",
          "coloraxis": {
           "colorbar": {
            "outlinewidth": 0,
            "ticks": ""
           }
          },
          "colorscale": {
           "diverging": [
            [
             0,
             "#8e0152"
            ],
            [
             0.1,
             "#c51b7d"
            ],
            [
             0.2,
             "#de77ae"
            ],
            [
             0.3,
             "#f1b6da"
            ],
            [
             0.4,
             "#fde0ef"
            ],
            [
             0.5,
             "#f7f7f7"
            ],
            [
             0.6,
             "#e6f5d0"
            ],
            [
             0.7,
             "#b8e186"
            ],
            [
             0.8,
             "#7fbc41"
            ],
            [
             0.9,
             "#4d9221"
            ],
            [
             1,
             "#276419"
            ]
           ],
           "sequential": [
            [
             0,
             "#0d0887"
            ],
            [
             0.1111111111111111,
             "#46039f"
            ],
            [
             0.2222222222222222,
             "#7201a8"
            ],
            [
             0.3333333333333333,
             "#9c179e"
            ],
            [
             0.4444444444444444,
             "#bd3786"
            ],
            [
             0.5555555555555556,
             "#d8576b"
            ],
            [
             0.6666666666666666,
             "#ed7953"
            ],
            [
             0.7777777777777778,
             "#fb9f3a"
            ],
            [
             0.8888888888888888,
             "#fdca26"
            ],
            [
             1,
             "#f0f921"
            ]
           ],
           "sequentialminus": [
            [
             0,
             "#0d0887"
            ],
            [
             0.1111111111111111,
             "#46039f"
            ],
            [
             0.2222222222222222,
             "#7201a8"
            ],
            [
             0.3333333333333333,
             "#9c179e"
            ],
            [
             0.4444444444444444,
             "#bd3786"
            ],
            [
             0.5555555555555556,
             "#d8576b"
            ],
            [
             0.6666666666666666,
             "#ed7953"
            ],
            [
             0.7777777777777778,
             "#fb9f3a"
            ],
            [
             0.8888888888888888,
             "#fdca26"
            ],
            [
             1,
             "#f0f921"
            ]
           ]
          },
          "colorway": [
           "#636efa",
           "#EF553B",
           "#00cc96",
           "#ab63fa",
           "#FFA15A",
           "#19d3f3",
           "#FF6692",
           "#B6E880",
           "#FF97FF",
           "#FECB52"
          ],
          "font": {
           "color": "#2a3f5f"
          },
          "geo": {
           "bgcolor": "white",
           "lakecolor": "white",
           "landcolor": "#E5ECF6",
           "showlakes": true,
           "showland": true,
           "subunitcolor": "white"
          },
          "hoverlabel": {
           "align": "left"
          },
          "hovermode": "closest",
          "mapbox": {
           "style": "light"
          },
          "paper_bgcolor": "white",
          "plot_bgcolor": "#E5ECF6",
          "polar": {
           "angularaxis": {
            "gridcolor": "white",
            "linecolor": "white",
            "ticks": ""
           },
           "bgcolor": "#E5ECF6",
           "radialaxis": {
            "gridcolor": "white",
            "linecolor": "white",
            "ticks": ""
           }
          },
          "scene": {
           "xaxis": {
            "backgroundcolor": "#E5ECF6",
            "gridcolor": "white",
            "gridwidth": 2,
            "linecolor": "white",
            "showbackground": true,
            "ticks": "",
            "zerolinecolor": "white"
           },
           "yaxis": {
            "backgroundcolor": "#E5ECF6",
            "gridcolor": "white",
            "gridwidth": 2,
            "linecolor": "white",
            "showbackground": true,
            "ticks": "",
            "zerolinecolor": "white"
           },
           "zaxis": {
            "backgroundcolor": "#E5ECF6",
            "gridcolor": "white",
            "gridwidth": 2,
            "linecolor": "white",
            "showbackground": true,
            "ticks": "",
            "zerolinecolor": "white"
           }
          },
          "shapedefaults": {
           "line": {
            "color": "#2a3f5f"
           }
          },
          "ternary": {
           "aaxis": {
            "gridcolor": "white",
            "linecolor": "white",
            "ticks": ""
           },
           "baxis": {
            "gridcolor": "white",
            "linecolor": "white",
            "ticks": ""
           },
           "bgcolor": "#E5ECF6",
           "caxis": {
            "gridcolor": "white",
            "linecolor": "white",
            "ticks": ""
           }
          },
          "title": {
           "x": 0.05
          },
          "xaxis": {
           "automargin": true,
           "gridcolor": "white",
           "linecolor": "white",
           "ticks": "",
           "title": {
            "standoff": 15
           },
           "zerolinecolor": "white",
           "zerolinewidth": 2
          },
          "yaxis": {
           "automargin": true,
           "gridcolor": "white",
           "linecolor": "white",
           "ticks": "",
           "title": {
            "standoff": 15
           },
           "zerolinecolor": "white",
           "zerolinewidth": 2
          }
         }
        },
        "xaxis": {
         "anchor": "y",
         "domain": [
          0,
          1
         ],
         "title": {
          "text": "W-L%"
         }
        },
        "yaxis": {
         "anchor": "x",
         "domain": [
          0,
          1
         ],
         "title": {
          "text": "SRS"
         }
        }
       }
      },
      "text/html": [
       "<div>                            <div id=\"28504ecb-71b6-4e9a-9a68-dc3db75f7935\" class=\"plotly-graph-div\" style=\"height:525px; width:100%;\"></div>            <script type=\"text/javascript\">                require([\"plotly\"], function(Plotly) {                    window.PLOTLYENV=window.PLOTLYENV || {};                                    if (document.getElementById(\"28504ecb-71b6-4e9a-9a68-dc3db75f7935\")) {                    Plotly.newPlot(                        \"28504ecb-71b6-4e9a-9a68-dc3db75f7935\",                        [{\"hovertemplate\":\"<b>%{hovertext}</b><br><br>progression=Round32<br>W-L%=%{x}<br>SRS=%{y}<extra></extra>\",\"hovertext\":[\"Abilene Christian\",\"Colorado\",\"Florida\",\"Illinois\",\"Iowa\",\"Kansas\",\"Louisiana State\",\"Maryland\",\"North Texas\",\"Ohio\",\"Oklahoma\",\"Oklahoma State\",\"Rutgers\",\"Texas Tech\",\"West Virginia\",\"Wisconsin\"],\"legendgroup\":\"Round32\",\"marker\":{\"color\":\"#C7E2F9\",\"symbol\":\"circle\"},\"mode\":\"markers\",\"name\":\"Round32\",\"orientation\":\"v\",\"showlegend\":true,\"x\":[0.828,0.719,0.6,0.774,0.71,0.7,0.655,0.548,0.643,0.68,0.593,0.7,0.571,0.621,0.655,0.581],\"xaxis\":\"x\",\"y\":[6.27,18.88,13.7,23.25,21.4,15.29,15.7,13.94,7.58,5.48,13.52,13.65,14.14,16.59,15.36,17.22],\"yaxis\":\"y\",\"type\":\"scatter\"},{\"hovertemplate\":\"<b>%{hovertext}</b><br><br>progression=Nada<br>W-L%=%{x}<br>SRS=%{y}<extra></extra>\",\"hovertext\":[\"Air Force\",\"Akron\",\"Alabama A&M\",\"Alabama State\",\"Albany (NY)\",\"Alcorn State\",\"American\",\"Arizona\",\"Arizona State\",\"Arkansas State\",\"Arkansas-Pine Bluff\",\"Army\",\"Auburn\",\"Austin Peay\",\"Ball State\",\"Bellarmine\",\"Belmont\",\"Binghamton\",\"Boise State\",\"Boston College\",\"Boston University\",\"Bowling Green State\",\"Bradley\",\"Brown\",\"Bryant\",\"Bucknell\",\"Buffalo\",\"Butler\",\"Cal Poly\",\"Cal State Bakersfield\",\"Cal State Fullerton\",\"Cal State Northridge\",\"California\",\"California Baptist\",\"Campbell\",\"Canisius\",\"Central Arkansas\",\"Central Connecticut State\",\"Central Florida\",\"Central Michigan\",\"Charleston Southern\",\"Charlotte\",\"Chattanooga\",\"Chicago State\",\"Cincinnati\",\"Coastal Carolina\",\"College of Charleston\",\"Colorado State\",\"Columbia\",\"Coppin State\",\"Cornell\",\"Dartmouth\",\"Davidson\",\"Dayton\",\"Delaware\",\"Delaware State\",\"Denver\",\"DePaul\",\"Detroit Mercy\",\"Duke\",\"Duquesne\",\"East Carolina\",\"East Tennessee State\",\"Eastern Illinois\",\"Eastern Kentucky\",\"Eastern Michigan\",\"Elon\",\"Evansville\",\"Fairfield\",\"Fairleigh Dickinson\",\"Florida A&M\",\"Florida Atlantic\",\"Florida Gulf Coast\",\"Florida International\",\"Fordham\",\"Fresno State\",\"Furman\",\"Gardner-Webb\",\"George Mason\",\"George Washington\",\"Georgia\",\"Georgia Southern\",\"Georgia State\",\"Grambling\",\"Green Bay\",\"Hampton\",\"Harvard\",\"Hawaii\",\"High Point\",\"Hofstra\",\"Holy Cross\",\"Houston Christian\",\"Howard\",\"Idaho\",\"Idaho State\",\"Illinois State\",\"Illinois-Chicago\",\"Incarnate Word\",\"Indiana\",\"Indiana State\",\"Iowa State\",\"IUPUI\",\"Jackson State\",\"Jacksonville\",\"Jacksonville State\",\"James Madison\",\"Kansas City\",\"Kansas State\",\"Kennesaw State\",\"Kent State\",\"Kentucky\",\"La Salle\",\"Lafayette\",\"Lamar\",\"Lehigh\",\"Lipscomb\",\"Little Rock\",\"Long Beach State\",\"Long Island University\",\"Longwood\",\"Louisiana\",\"Louisiana Tech\",\"Louisiana-Monroe\",\"Louisville\",\"Loyola (MD)\",\"Loyola Marymount\",\"Maine\",\"Manhattan\",\"Marist\",\"Marquette\",\"Marshall\",\"Maryland-Baltimore County\",\"Massachusetts\",\"Massachusetts-Lowell\",\"McNeese State\",\"Memphis\",\"Mercer\",\"Merrimack\",\"Miami (FL)\",\"Miami (OH)\",\"Middle Tennessee\",\"Milwaukee\",\"Minnesota\",\"Mississippi\",\"Mississippi State\",\"Mississippi Valley State\",\"Missouri State\",\"Monmouth\",\"Montana\",\"Montana State\",\"Morgan State\",\"Murray State\",\"Navy\",\"NC State\",\"Nebraska\",\"Nevada\",\"Nevada-Las Vegas\",\"New Hampshire\",\"New Mexico\",\"New Mexico State\",\"New Orleans\",\"Niagara\",\"Nicholls State\",\"NJIT\",\"North Alabama\",\"North Carolina A&T\",\"North Carolina Central\",\"North Dakota\",\"North Dakota State\",\"North Florida\",\"Northeastern\",\"Northern Arizona\",\"Northern Colorado\",\"Northern Illinois\",\"Northern Iowa\",\"Northern Kentucky\",\"Northwestern\",\"Northwestern State\",\"Notre Dame\",\"Oakland\",\"Old Dominion\",\"Omaha\",\"Pacific\",\"Penn State\",\"Pennsylvania\",\"Pepperdine\",\"Pittsburgh\",\"Portland\",\"Portland State\",\"Prairie View\",\"Presbyterian\",\"Princeton\",\"Providence\",\"Purdue-Fort Wayne\",\"Quinnipiac\",\"Radford\",\"Rhode Island\",\"Rice\",\"Richmond\",\"Rider\",\"Robert Morris\",\"Sacramento State\",\"Sacred Heart\",\"Saint Francis (PA)\",\"Saint Joseph's\",\"Saint Louis\",\"Saint Mary's (CA)\",\"Saint Peter's\",\"Sam Houston State\",\"Samford\",\"San Diego\",\"San Francisco\",\"San Jose State\",\"Santa Clara\",\"Seattle\",\"Seton Hall\",\"Siena\",\"South Alabama\",\"South Carolina\",\"South Carolina State\",\"South Carolina Upstate\",\"South Dakota\",\"South Dakota State\",\"South Florida\",\"Southeast Missouri State\",\"Southeastern Louisiana\",\"Southern\",\"Southern Illinois\",\"SIU Edwardsville\",\"Southern Methodist\",\"Southern Mississippi\",\"Southern Utah\",\"St. Francis (NY)\",\"St. John's (NY)\",\"Stanford\",\"Stephen F. Austin\",\"Stetson\",\"Stony Brook\",\"Tarleton State\",\"TCU\",\"Temple\",\"Tennessee State\",\"Tennessee Tech\",\"Tennessee-Martin\",\"Texas A&M\",\"Texas A&M-Corpus Christi\",\"Texas State\",\"Texas-Rio Grande Valley\",\"The Citadel\",\"Toledo\",\"Towson\",\"Troy\",\"Tulane\",\"Tulsa\",\"UAB\",\"UC Davis\",\"UC Irvine\",\"UC Riverside\",\"UC San Diego\",\"UNC Asheville\",\"UNC Wilmington\",\"UT Arlington\",\"Utah\",\"Utah Tech\",\"Utah Valley\",\"UTEP\",\"UTSA\",\"Valparaiso\",\"Vanderbilt\",\"Vermont\",\"VMI\",\"Wagner\",\"Wake Forest\",\"Washington\",\"Washington State\",\"Weber State\",\"Western Carolina\",\"Western Illinois\",\"Western Kentucky\",\"Western Michigan\",\"William & Mary\",\"Wofford\",\"Wright State\",\"Wyoming\",\"Xavier\",\"Yale\",\"Youngstown State\"],\"legendgroup\":\"Nada\",\"marker\":{\"color\":\"#F0EAFC\",\"symbol\":\"circle\"},\"mode\":\"markers\",\"name\":\"Nada\",\"orientation\":\"v\",\"showlegend\":true,\"x\":[0.2,0.652,0.4,0.222,0.438,0.316,0.4,0.654,0.44,0.458,0.16,0.545,0.481,0.519,0.435,0.636,0.867,0.222,0.679,0.2,0.389,0.538,0.429,null,0.682,0.417,0.64,0.4,0.167,0.577,0.375,0.409,0.31,0.565,0.63,0.538,0.208,0.238,0.478,0.304,0.143,0.36,0.692,0.0,0.522,0.692,0.474,0.714,null,0.409,null,null,0.591,0.583,0.467,0.158,0.095,0.263,0.545,0.542,0.5,0.421,0.52,0.333,0.759,0.333,0.526,0.36,0.37,0.375,0.4,0.565,0.556,0.346,0.143,0.5,0.64,0.423,0.591,0.294,0.538,0.5,0.727,0.5,0.32,0.44,null,0.524,0.375,0.565,0.313,0.24,0.2,0.045,0.542,0.28,0.409,0.364,0.444,0.6,0.083,0.444,0.667,0.458,0.667,0.65,0.458,0.31,0.208,0.652,0.36,0.36,0.6,0.357,0.267,0.556,0.423,0.333,0.5,0.414,0.654,0.75,0.269,0.65,0.353,0.591,0.222,0.35,0.571,0.481,0.682,0.7,0.533,0.478,0.417,0.714,0.621,0.5,0.37,0.522,0.217,0.455,0.483,0.571,0.545,0.083,0.708,0.6,0.536,0.565,0.636,0.5,0.833,0.56,0.259,0.615,0.444,0.526,0.273,0.6,0.4,0.45,0.72,0.368,0.542,0.524,0.357,0.346,0.556,0.348,0.526,0.273,0.5,0.158,0.4,0.56,0.375,0.379,0.423,0.4,0.652,0.2,0.5,0.44,null,0.556,0.455,0.286,0.409,0.762,0.318,null,0.5,0.348,0.409,0.556,0.4,0.536,0.609,0.261,0.211,0.4,0.5,0.273,0.25,0.667,0.583,0.56,0.679,0.316,0.214,0.44,0.238,0.6,0.522,0.519,0.706,0.607,0.286,0.056,0.217,0.56,0.696,0.409,0.407,0.308,0.421,0.462,0.346,0.647,0.32,0.833,0.474,0.593,0.519,0.762,0.444,0.391,0.5,0.462,0.313,0.174,0.185,0.333,0.444,0.208,0.72,0.474,0.52,0.7,0.222,0.393,0.435,0.478,0.759,0.556,0.667,0.636,0.412,0.5,0.412,0.5,0.48,0.381,0.5,0.5,0.577,0.357,0.36,0.667,0.52,0.65,0.273,0.192,0.519,0.739,0.407,0.318,0.724,0.238,0.412,0.625,0.75,0.56,0.619,null,0.556],\"xaxis\":\"x\",\"y\":[-12.98,1.85,-18.86,-24.28,-4.53,-19.58,-6.32,15.02,7.48,-7.97,-22.67,0.06,10.02,-6.66,-1.96,-1.76,3.46,-12.24,9.75,0.82,-3.71,-0.17,0.32,null,-1.37,-7.78,6.5,4.76,-13.69,-0.13,-6.32,-8.69,4.89,-5.25,-6.82,-8.61,-14.86,-15.12,5.94,-12.34,-16.72,-5.68,-1.54,-31.82,3.99,-2.74,-4.96,8.06,null,-12.37,null,null,9.02,6.31,-5.19,-24.09,-16.4,2.67,-3.66,13.04,2.32,1.0,1.65,-12.71,-2.68,-14.23,-5.32,-4.85,-11.46,-10.17,-12.35,-2.05,-9.63,-11.2,-11.69,-3.57,5.99,-3.87,1.91,-5.75,6.62,-10.22,-1.7,-14.27,-10.15,-13.67,null,-2.98,-10.78,-2.77,-4.99,-16.72,-14.26,-18.32,-8.39,-5.45,-12.06,-15.91,12.79,2.04,-0.72,-11.65,-11.27,-11.15,-3.02,-0.11,-4.92,0.76,-14.15,1.74,11.77,-3.57,-5.38,-13.1,-12.85,-7.07,-6.36,-8.5,-7.76,-7.93,-4.84,6.63,-10.59,10.35,-2.29,5.55,-15.66,-12.2,-8.99,8.51,5.7,-1.05,4.77,-6.05,-18.34,13.81,1.28,-9.06,3.23,-2.67,-10.78,-7.71,11.04,11.18,9.24,-38.17,5.16,-5.88,-3.65,-5.62,-6.55,-2.86,1.02,9.6,6.08,5.4,-1.48,-8.2,-12.38,-1.21,-10.91,-7.54,-5.21,-9.75,-10.05,-14.27,-15.99,-10.35,-0.65,-11.48,-1.09,-12.97,-6.7,-17.9,-1.75,-6.78,9.71,-13.48,7.73,-9.33,-1.1,-12.73,2.64,13.53,null,5.65,7.8,-12.58,-6.33,-8.02,-13.96,null,8.94,-12.15,-9.1,-6.2,5.29,-3.73,9.04,-12.24,-13.2,-7.76,-12.19,-10.3,-4.56,11.76,8.05,-5.48,-3.29,-8.93,-5.22,6.0,-17.5,-0.05,-5.24,11.12,-3.99,-6.03,3.39,-24.9,-13.7,-1.25,3.27,-0.02,-10.18,-17.4,-13.49,-3.56,-14.94,10.97,-6.88,0.63,-10.23,9.41,10.15,-1.63,-7.26,-6.14,-7.28,2.61,2.57,-14.1,-14.13,-19.41,2.2,-16.77,-3.85,-9.63,-6.07,6.59,-9.83,-12.06,1.03,4.19,5.8,-5.83,3.46,4.12,-6.95,-6.99,-6.84,-7.23,11.86,-14.01,-3.41,1.07,-1.22,-4.21,6.14,1.99,-0.41,-5.35,1.72,1.88,8.12,3.14,-7.43,-12.48,5.19,-11.51,-11.23,1.76,6.89,-1.23,11.09,null,-9.78],\"yaxis\":\"y\",\"type\":\"scatter\"},{\"hovertemplate\":\"<b>%{hovertext}</b><br><br>progression=Sweet16<br>W-L%=%{x}<br>SRS=%{y}<extra></extra>\",\"hovertext\":[\"Alabama\",\"Creighton\",\"Florida State\",\"Loyola (IL)\",\"Oral Roberts\",\"Oregon\",\"Syracuse\",\"Villanova\"],\"legendgroup\":\"Sweet16\",\"marker\":{\"color\":\"#B3DEF8\",\"symbol\":\"circle\"},\"mode\":\"markers\",\"name\":\"Sweet16\",\"orientation\":\"v\",\"showlegend\":true,\"x\":[0.788,0.71,0.72,0.839,0.621,0.75,0.643,0.72],\"xaxis\":\"x\",\"y\":[19.58,16.28,17.12,15.12,1.73,16.15,13.27,17.47],\"yaxis\":\"y\",\"type\":\"scatter\"},{\"hovertemplate\":\"<b>%{hovertext}</b><br><br>progression=Tournament<br>W-L%=%{x}<br>SRS=%{y}<extra></extra>\",\"hovertext\":[\"Appalachian State\",\"Brigham Young\",\"Clemson\",\"Cleveland State\",\"Colgate\",\"Connecticut\",\"Drake\",\"Drexel\",\"Eastern Washington\",\"Georgetown\",\"Georgia Tech\",\"Grand Canyon\",\"Hartford\",\"Iona\",\"Liberty\",\"Michigan State\",\"Missouri\",\"Morehead State\",\"Mount St. Mary's\",\"Norfolk State\",\"North Carolina\",\"Ohio State\",\"Purdue\",\"San Diego State\",\"St. Bonaventure\",\"Tennessee\",\"Texas\",\"Texas Southern\",\"UC Santa Barbara\",\"UNC Greensboro\",\"Utah State\",\"Virginia\",\"Virginia Commonwealth\",\"Virginia Tech\",\"Wichita State\",\"Winthrop\"],\"legendgroup\":\"Tournament\",\"marker\":{\"color\":\"#DCE6FB\",\"symbol\":\"circle\"},\"mode\":\"markers\",\"name\":\"Tournament\",\"orientation\":\"v\",\"showlegend\":true,\"x\":[0.586,0.741,0.667,0.704,0.875,0.652,0.839,0.6,0.667,0.5,0.654,0.708,0.625,0.667,0.793,0.536,0.615,0.742,0.522,0.68,0.621,0.677,0.643,0.821,0.762,0.667,0.704,0.654,0.815,0.7,0.69,0.72,0.731,0.682,0.727,0.92],\"xaxis\":\"x\",\"y\":[-5.84,15.19,12.49,-5.12,13.66,15.77,9.42,-0.97,4.03,10.13,12.79,5.11,-3.45,-1.2,4.06,9.8,12.37,-0.95,-5.67,-6.16,14.79,18.25,15.55,14.36,13.44,16.87,15.51,-6.15,7.8,3.48,10.99,15.27,11.3,12.59,9.36,4.69],\"yaxis\":\"y\",\"type\":\"scatter\"},{\"hovertemplate\":\"<b>%{hovertext}</b><br><br>progression=Elite8<br>W-L%=%{x}<br>SRS=%{y}<extra></extra>\",\"hovertext\":[\"Arkansas\",\"Michigan\",\"Oregon State\",\"Southern California\"],\"legendgroup\":\"Elite8\",\"marker\":{\"color\":\"#9EDAF6\",\"symbol\":\"circle\"},\"mode\":\"markers\",\"name\":\"Elite8\",\"orientation\":\"v\",\"showlegend\":true,\"x\":[0.781,0.821,0.606,0.758],\"xaxis\":\"x\",\"y\":[17.8,22.0,11.48,20.5],\"yaxis\":\"y\",\"type\":\"scatter\"},{\"hovertemplate\":\"<b>%{hovertext}</b><br><br>progression=Champion<br>W-L%=%{x}<br>SRS=%{y}<extra></extra>\",\"hovertext\":[\"Baylor\"],\"legendgroup\":\"Champion\",\"marker\":{\"color\":\"#61CEF2\",\"symbol\":\"circle\"},\"mode\":\"markers\",\"name\":\"Champion\",\"orientation\":\"v\",\"showlegend\":true,\"x\":[0.933],\"xaxis\":\"x\",\"y\":[24.83],\"yaxis\":\"y\",\"type\":\"scatter\"},{\"hovertemplate\":\"<b>%{hovertext}</b><br><br>progression=Final2<br>W-L%=%{x}<br>SRS=%{y}<extra></extra>\",\"hovertext\":[\"Gonzaga\"],\"legendgroup\":\"Final2\",\"marker\":{\"color\":\"#75D2F3\",\"symbol\":\"circle\"},\"mode\":\"markers\",\"name\":\"Final2\",\"orientation\":\"v\",\"showlegend\":true,\"x\":[0.969],\"xaxis\":\"x\",\"y\":[27.2],\"yaxis\":\"y\",\"type\":\"scatter\"},{\"hovertemplate\":\"<b>%{hovertext}</b><br><br>progression=Final4<br>W-L%=%{x}<br>SRS=%{y}<extra></extra>\",\"hovertext\":[\"Houston\",\"UCLA\"],\"legendgroup\":\"Final4\",\"marker\":{\"color\":\"#8AD6F5\",\"symbol\":\"circle\"},\"mode\":\"markers\",\"name\":\"Final4\",\"orientation\":\"v\",\"showlegend\":true,\"x\":[0.875,0.688],\"xaxis\":\"x\",\"y\":[21.66,16.3],\"yaxis\":\"y\",\"type\":\"scatter\"}],                        {\"template\":{\"data\":{\"histogram2dcontour\":[{\"type\":\"histogram2dcontour\",\"colorbar\":{\"outlinewidth\":0,\"ticks\":\"\"},\"colorscale\":[[0.0,\"#0d0887\"],[0.1111111111111111,\"#46039f\"],[0.2222222222222222,\"#7201a8\"],[0.3333333333333333,\"#9c179e\"],[0.4444444444444444,\"#bd3786\"],[0.5555555555555556,\"#d8576b\"],[0.6666666666666666,\"#ed7953\"],[0.7777777777777778,\"#fb9f3a\"],[0.8888888888888888,\"#fdca26\"],[1.0,\"#f0f921\"]]}],\"choropleth\":[{\"type\":\"choropleth\",\"colorbar\":{\"outlinewidth\":0,\"ticks\":\"\"}}],\"histogram2d\":[{\"type\":\"histogram2d\",\"colorbar\":{\"outlinewidth\":0,\"ticks\":\"\"},\"colorscale\":[[0.0,\"#0d0887\"],[0.1111111111111111,\"#46039f\"],[0.2222222222222222,\"#7201a8\"],[0.3333333333333333,\"#9c179e\"],[0.4444444444444444,\"#bd3786\"],[0.5555555555555556,\"#d8576b\"],[0.6666666666666666,\"#ed7953\"],[0.7777777777777778,\"#fb9f3a\"],[0.8888888888888888,\"#fdca26\"],[1.0,\"#f0f921\"]]}],\"heatmap\":[{\"type\":\"heatmap\",\"colorbar\":{\"outlinewidth\":0,\"ticks\":\"\"},\"colorscale\":[[0.0,\"#0d0887\"],[0.1111111111111111,\"#46039f\"],[0.2222222222222222,\"#7201a8\"],[0.3333333333333333,\"#9c179e\"],[0.4444444444444444,\"#bd3786\"],[0.5555555555555556,\"#d8576b\"],[0.6666666666666666,\"#ed7953\"],[0.7777777777777778,\"#fb9f3a\"],[0.8888888888888888,\"#fdca26\"],[1.0,\"#f0f921\"]]}],\"heatmapgl\":[{\"type\":\"heatmapgl\",\"colorbar\":{\"outlinewidth\":0,\"ticks\":\"\"},\"colorscale\":[[0.0,\"#0d0887\"],[0.1111111111111111,\"#46039f\"],[0.2222222222222222,\"#7201a8\"],[0.3333333333333333,\"#9c179e\"],[0.4444444444444444,\"#bd3786\"],[0.5555555555555556,\"#d8576b\"],[0.6666666666666666,\"#ed7953\"],[0.7777777777777778,\"#fb9f3a\"],[0.8888888888888888,\"#fdca26\"],[1.0,\"#f0f921\"]]}],\"contourcarpet\":[{\"type\":\"contourcarpet\",\"colorbar\":{\"outlinewidth\":0,\"ticks\":\"\"}}],\"contour\":[{\"type\":\"contour\",\"colorbar\":{\"outlinewidth\":0,\"ticks\":\"\"},\"colorscale\":[[0.0,\"#0d0887\"],[0.1111111111111111,\"#46039f\"],[0.2222222222222222,\"#7201a8\"],[0.3333333333333333,\"#9c179e\"],[0.4444444444444444,\"#bd3786\"],[0.5555555555555556,\"#d8576b\"],[0.6666666666666666,\"#ed7953\"],[0.7777777777777778,\"#fb9f3a\"],[0.8888888888888888,\"#fdca26\"],[1.0,\"#f0f921\"]]}],\"surface\":[{\"type\":\"surface\",\"colorbar\":{\"outlinewidth\":0,\"ticks\":\"\"},\"colorscale\":[[0.0,\"#0d0887\"],[0.1111111111111111,\"#46039f\"],[0.2222222222222222,\"#7201a8\"],[0.3333333333333333,\"#9c179e\"],[0.4444444444444444,\"#bd3786\"],[0.5555555555555556,\"#d8576b\"],[0.6666666666666666,\"#ed7953\"],[0.7777777777777778,\"#fb9f3a\"],[0.8888888888888888,\"#fdca26\"],[1.0,\"#f0f921\"]]}],\"mesh3d\":[{\"type\":\"mesh3d\",\"colorbar\":{\"outlinewidth\":0,\"ticks\":\"\"}}],\"scatter\":[{\"fillpattern\":{\"fillmode\":\"overlay\",\"size\":10,\"solidity\":0.2},\"type\":\"scatter\"}],\"parcoords\":[{\"type\":\"parcoords\",\"line\":{\"colorbar\":{\"outlinewidth\":0,\"ticks\":\"\"}}}],\"scatterpolargl\":[{\"type\":\"scatterpolargl\",\"marker\":{\"colorbar\":{\"outlinewidth\":0,\"ticks\":\"\"}}}],\"bar\":[{\"error_x\":{\"color\":\"#2a3f5f\"},\"error_y\":{\"color\":\"#2a3f5f\"},\"marker\":{\"line\":{\"color\":\"#E5ECF6\",\"width\":0.5},\"pattern\":{\"fillmode\":\"overlay\",\"size\":10,\"solidity\":0.2}},\"type\":\"bar\"}],\"scattergeo\":[{\"type\":\"scattergeo\",\"marker\":{\"colorbar\":{\"outlinewidth\":0,\"ticks\":\"\"}}}],\"scatterpolar\":[{\"type\":\"scatterpolar\",\"marker\":{\"colorbar\":{\"outlinewidth\":0,\"ticks\":\"\"}}}],\"histogram\":[{\"marker\":{\"pattern\":{\"fillmode\":\"overlay\",\"size\":10,\"solidity\":0.2}},\"type\":\"histogram\"}],\"scattergl\":[{\"type\":\"scattergl\",\"marker\":{\"colorbar\":{\"outlinewidth\":0,\"ticks\":\"\"}}}],\"scatter3d\":[{\"type\":\"scatter3d\",\"line\":{\"colorbar\":{\"outlinewidth\":0,\"ticks\":\"\"}},\"marker\":{\"colorbar\":{\"outlinewidth\":0,\"ticks\":\"\"}}}],\"scattermapbox\":[{\"type\":\"scattermapbox\",\"marker\":{\"colorbar\":{\"outlinewidth\":0,\"ticks\":\"\"}}}],\"scatterternary\":[{\"type\":\"scatterternary\",\"marker\":{\"colorbar\":{\"outlinewidth\":0,\"ticks\":\"\"}}}],\"scattercarpet\":[{\"type\":\"scattercarpet\",\"marker\":{\"colorbar\":{\"outlinewidth\":0,\"ticks\":\"\"}}}],\"carpet\":[{\"aaxis\":{\"endlinecolor\":\"#2a3f5f\",\"gridcolor\":\"white\",\"linecolor\":\"white\",\"minorgridcolor\":\"white\",\"startlinecolor\":\"#2a3f5f\"},\"baxis\":{\"endlinecolor\":\"#2a3f5f\",\"gridcolor\":\"white\",\"linecolor\":\"white\",\"minorgridcolor\":\"white\",\"startlinecolor\":\"#2a3f5f\"},\"type\":\"carpet\"}],\"table\":[{\"cells\":{\"fill\":{\"color\":\"#EBF0F8\"},\"line\":{\"color\":\"white\"}},\"header\":{\"fill\":{\"color\":\"#C8D4E3\"},\"line\":{\"color\":\"white\"}},\"type\":\"table\"}],\"barpolar\":[{\"marker\":{\"line\":{\"color\":\"#E5ECF6\",\"width\":0.5},\"pattern\":{\"fillmode\":\"overlay\",\"size\":10,\"solidity\":0.2}},\"type\":\"barpolar\"}],\"pie\":[{\"automargin\":true,\"type\":\"pie\"}]},\"layout\":{\"autotypenumbers\":\"strict\",\"colorway\":[\"#636efa\",\"#EF553B\",\"#00cc96\",\"#ab63fa\",\"#FFA15A\",\"#19d3f3\",\"#FF6692\",\"#B6E880\",\"#FF97FF\",\"#FECB52\"],\"font\":{\"color\":\"#2a3f5f\"},\"hovermode\":\"closest\",\"hoverlabel\":{\"align\":\"left\"},\"paper_bgcolor\":\"white\",\"plot_bgcolor\":\"#E5ECF6\",\"polar\":{\"bgcolor\":\"#E5ECF6\",\"angularaxis\":{\"gridcolor\":\"white\",\"linecolor\":\"white\",\"ticks\":\"\"},\"radialaxis\":{\"gridcolor\":\"white\",\"linecolor\":\"white\",\"ticks\":\"\"}},\"ternary\":{\"bgcolor\":\"#E5ECF6\",\"aaxis\":{\"gridcolor\":\"white\",\"linecolor\":\"white\",\"ticks\":\"\"},\"baxis\":{\"gridcolor\":\"white\",\"linecolor\":\"white\",\"ticks\":\"\"},\"caxis\":{\"gridcolor\":\"white\",\"linecolor\":\"white\",\"ticks\":\"\"}},\"coloraxis\":{\"colorbar\":{\"outlinewidth\":0,\"ticks\":\"\"}},\"colorscale\":{\"sequential\":[[0.0,\"#0d0887\"],[0.1111111111111111,\"#46039f\"],[0.2222222222222222,\"#7201a8\"],[0.3333333333333333,\"#9c179e\"],[0.4444444444444444,\"#bd3786\"],[0.5555555555555556,\"#d8576b\"],[0.6666666666666666,\"#ed7953\"],[0.7777777777777778,\"#fb9f3a\"],[0.8888888888888888,\"#fdca26\"],[1.0,\"#f0f921\"]],\"sequentialminus\":[[0.0,\"#0d0887\"],[0.1111111111111111,\"#46039f\"],[0.2222222222222222,\"#7201a8\"],[0.3333333333333333,\"#9c179e\"],[0.4444444444444444,\"#bd3786\"],[0.5555555555555556,\"#d8576b\"],[0.6666666666666666,\"#ed7953\"],[0.7777777777777778,\"#fb9f3a\"],[0.8888888888888888,\"#fdca26\"],[1.0,\"#f0f921\"]],\"diverging\":[[0,\"#8e0152\"],[0.1,\"#c51b7d\"],[0.2,\"#de77ae\"],[0.3,\"#f1b6da\"],[0.4,\"#fde0ef\"],[0.5,\"#f7f7f7\"],[0.6,\"#e6f5d0\"],[0.7,\"#b8e186\"],[0.8,\"#7fbc41\"],[0.9,\"#4d9221\"],[1,\"#276419\"]]},\"xaxis\":{\"gridcolor\":\"white\",\"linecolor\":\"white\",\"ticks\":\"\",\"title\":{\"standoff\":15},\"zerolinecolor\":\"white\",\"automargin\":true,\"zerolinewidth\":2},\"yaxis\":{\"gridcolor\":\"white\",\"linecolor\":\"white\",\"ticks\":\"\",\"title\":{\"standoff\":15},\"zerolinecolor\":\"white\",\"automargin\":true,\"zerolinewidth\":2},\"scene\":{\"xaxis\":{\"backgroundcolor\":\"#E5ECF6\",\"gridcolor\":\"white\",\"linecolor\":\"white\",\"showbackground\":true,\"ticks\":\"\",\"zerolinecolor\":\"white\",\"gridwidth\":2},\"yaxis\":{\"backgroundcolor\":\"#E5ECF6\",\"gridcolor\":\"white\",\"linecolor\":\"white\",\"showbackground\":true,\"ticks\":\"\",\"zerolinecolor\":\"white\",\"gridwidth\":2},\"zaxis\":{\"backgroundcolor\":\"#E5ECF6\",\"gridcolor\":\"white\",\"linecolor\":\"white\",\"showbackground\":true,\"ticks\":\"\",\"zerolinecolor\":\"white\",\"gridwidth\":2}},\"shapedefaults\":{\"line\":{\"color\":\"#2a3f5f\"}},\"annotationdefaults\":{\"arrowcolor\":\"#2a3f5f\",\"arrowhead\":0,\"arrowwidth\":1},\"geo\":{\"bgcolor\":\"white\",\"landcolor\":\"#E5ECF6\",\"subunitcolor\":\"white\",\"showland\":true,\"showlakes\":true,\"lakecolor\":\"white\"},\"title\":{\"x\":0.05},\"mapbox\":{\"style\":\"light\"}}},\"xaxis\":{\"anchor\":\"y\",\"domain\":[0.0,1.0],\"title\":{\"text\":\"W-L%\"}},\"yaxis\":{\"anchor\":\"x\",\"domain\":[0.0,1.0],\"title\":{\"text\":\"SRS\"}},\"legend\":{\"title\":{\"text\":\"progression\"},\"tracegroupgap\":0},\"margin\":{\"t\":60}},                        {\"responsive\": true}                    ).then(function(){\n",
       "                            \n",
       "var gd = document.getElementById('28504ecb-71b6-4e9a-9a68-dc3db75f7935');\n",
       "var x = new MutationObserver(function (mutations, observer) {{\n",
       "        var display = window.getComputedStyle(gd).display;\n",
       "        if (!display || display === 'none') {{\n",
       "            console.log([gd, 'removed!']);\n",
       "            Plotly.purge(gd);\n",
       "            observer.disconnect();\n",
       "        }}\n",
       "}});\n",
       "\n",
       "// Listen for the removal of the full notebook cells\n",
       "var notebookContainer = gd.closest('#notebook-container');\n",
       "if (notebookContainer) {{\n",
       "    x.observe(notebookContainer, {childList: true});\n",
       "}}\n",
       "\n",
       "// Listen for the clearing of the current output cell\n",
       "var outputEl = gd.closest('.output');\n",
       "if (outputEl) {{\n",
       "    x.observe(outputEl, {childList: true});\n",
       "}}\n",
       "\n",
       "                        })                };                });            </script>        </div>"
      ]
     },
     "metadata": {},
     "output_type": "display_data"
    },
    {
     "data": {
      "image/png": "[encoded data removed]",
      "text/plain": [
       "<Figure size 640x480 with 1 Axes>"
      ]
     },
     "metadata": {},
     "output_type": "display_data"
    }
   ],
   "source": [
    "# Set the order of the legend\n",
    "legend_order = ['None', 'Tournament', 'Round32', 'Sweet16', 'Elite8', 'Final4', 'Final2', 'Champion']\n",
    "\n",
    "# Define a color map\n",
    "color_map = {'None': '#F0EAFC', 'Tournament': '#DCE6FB', 'Round32': '#C7E2F9', \n",
    "             'Sweet16': '#B3DEF8', 'Elite8': '#9EDAF6', 'Final4': '#8AD6F5', \n",
    "             'Final2': '#75D2F3', 'Champion': '#61CEF2'}\n",
    "\n",
    "# Create the scatterplot\n",
    "sns.scatterplot(x='W-L%', y='SRS', hue='progression', data=df,\n",
    "                palette=['#61CEF2','#75D2F3','#8AD6F5','#9EDAF6','#B3DEF8','#C7E2F9','#DCE6FB','#F0EAFC'],hue_order=legend_order)\n",
    "#normal way ['#F0EAFC','#DCE6FB','#C7E2F9','#B3DEF8','#9EDAF6','#8AD6F5','#75D2F3','#61CEF2']\n",
    "#['#DCE6FB','#B3DEF8','#F0EAFC','#C7E2F9','#9EDAF6','#61CEF2','#75D2F3','#8AD6F5']\n",
    "\n",
    "\n",
    "# Add axis labels and title\n",
    "plt.xlabel('Win-Loss Ratio')\n",
    "plt.ylabel('SRS')\n",
    "plt.suptitle('_',y=.915)\n",
    "plt.title('Winning % vs SRS', fontsize=16, fontweight='bold',y=1.05)\n",
    "plt.legend(title='Tournament Status and Round Reached', loc='best')\n",
    "\n",
    "# reordering the labels\n",
    "handles, labels = plt.gca().get_legend_handles_labels()\n",
    "# specify order\n",
    "order = [7,6,5,4,3,2,1,0]\n",
    "  \n",
    "# pass handle & labels lists along with order as below\n",
    "plt.legend([handles[i] for i in order], [labels[i] for i in order])\n",
    "\n",
    "fig.show()"
   ]
  },
  {
   "cell_type": "code",
   "execution_count": 109,
   "id": "433d2c78",
   "metadata": {},
   "outputs": [
    {
     "data": {
      "application/vnd.plotly.v1+json": {
       "config": {
        "plotlyServerURL": "https://plot.ly"
       },
       "data": [
        {
         "hovertemplate": "<b>%{hovertext}</b><br><br>progression=Round32<br>W-L%=%{x}<br>SRS=%{y}<extra></extra>",
         "hovertext": [
          "Abilene Christian",
          "Colorado",
          "Florida",
          "Illinois",
          "Iowa",
          "Kansas",
          "Louisiana State",
          "Maryland",
          "North Texas",
          "Ohio",
          "Oklahoma",
          "Oklahoma State",
          "Rutgers",
          "Texas Tech",
          "West Virginia",
          "Wisconsin"
         ],
         "legendgroup": "Round32",
         "marker": {
          "color": "#C7E2F9",
          "line": {
           "color": "DarkSlateGrey",
           "width": 2
          },
          "size": 12,
          "symbol": "circle"
         },
         "mode": "markers",
         "name": "Round32",
         "orientation": "v",
         "showlegend": true,
         "type": "scatter",
         "x": [
          0.828,
          0.719,
          0.6,
          0.774,
          0.71,
          0.7,
          0.655,
          0.548,
          0.643,
          0.68,
          0.593,
          0.7,
          0.571,
          0.621,
          0.655,
          0.581
         ],
         "xaxis": "x",
         "y": [
          6.27,
          18.88,
          13.7,
          23.25,
          21.4,
          15.29,
          15.7,
          13.94,
          7.58,
          5.48,
          13.52,
          13.65,
          14.14,
          16.59,
          15.36,
          17.22
         ],
         "yaxis": "y"
        },
        {
         "hovertemplate": "<b>%{hovertext}</b><br><br>progression=Nada<br>W-L%=%{x}<br>SRS=%{y}<extra></extra>",
         "hovertext": [
          "Air Force",
          "Akron",
          "Alabama A&M",
          "Alabama State",
          "Albany (NY)",
          "Alcorn State",
          "American",
          "Arizona",
          "Arizona State",
          "Arkansas State",
          "Arkansas-Pine Bluff",
          "Army",
          "Auburn",
          "Austin Peay",
          "Ball State",
          "Bellarmine",
          "Belmont",
          "Binghamton",
          "Boise State",
          "Boston College",
          "Boston University",
          "Bowling Green State",
          "Bradley",
          "Brown",
          "Bryant",
          "Bucknell",
          "Buffalo",
          "Butler",
          "Cal Poly",
          "Cal State Bakersfield",
          "Cal State Fullerton",
          "Cal State Northridge",
          "California",
          "California Baptist",
          "Campbell",
          "Canisius",
          "Central Arkansas",
          "Central Connecticut State",
          "Central Florida",
          "Central Michigan",
          "Charleston Southern",
          "Charlotte",
          "Chattanooga",
          "Chicago State",
          "Cincinnati",
          "Coastal Carolina",
          "College of Charleston",
          "Colorado State",
          "Columbia",
          "Coppin State",
          "Cornell",
          "Dartmouth",
          "Davidson",
          "Dayton",
          "Delaware",
          "Delaware State",
          "Denver",
          "DePaul",
          "Detroit Mercy",
          "Duke",
          "Duquesne",
          "East Carolina",
          "East Tennessee State",
          "Eastern Illinois",
          "Eastern Kentucky",
          "Eastern Michigan",
          "Elon",
          "Evansville",
          "Fairfield",
          "Fairleigh Dickinson",
          "Florida A&M",
          "Florida Atlantic",
          "Florida Gulf Coast",
          "Florida International",
          "Fordham",
          "Fresno State",
          "Furman",
          "Gardner-Webb",
          "George Mason",
          "George Washington",
          "Georgia",
          "Georgia Southern",
          "Georgia State",
          "Grambling",
          "Green Bay",
          "Hampton",
          "Harvard",
          "Hawaii",
          "High Point",
          "Hofstra",
          "Holy Cross",
          "Houston Christian",
          "Howard",
          "Idaho",
          "Idaho State",
          "Illinois State",
          "Illinois-Chicago",
          "Incarnate Word",
          "Indiana",
          "Indiana State",
          "Iowa State",
          "IUPUI",
          "Jackson State",
          "Jacksonville",
          "Jacksonville State",
          "James Madison",
          "Kansas City",
          "Kansas State",
          "Kennesaw State",
          "Kent State",
          "Kentucky",
          "La Salle",
          "Lafayette",
          "Lamar",
          "Lehigh",
          "Lipscomb",
          "Little Rock",
          "Long Beach State",
          "Long Island University",
          "Longwood",
          "Louisiana",
          "Louisiana Tech",
          "Louisiana-Monroe",
          "Louisville",
          "Loyola (MD)",
          "Loyola Marymount",
          "Maine",
          "Manhattan",
          "Marist",
          "Marquette",
          "Marshall",
          "Maryland-Baltimore County",
          "Massachusetts",
          "Massachusetts-Lowell",
          "McNeese State",
          "Memphis",
          "Mercer",
          "Merrimack",
          "Miami (FL)",
          "Miami (OH)",
          "Middle Tennessee",
          "Milwaukee",
          "Minnesota",
          "Mississippi",
          "Mississippi State",
          "Mississippi Valley State",
          "Missouri State",
          "Monmouth",
          "Montana",
          "Montana State",
          "Morgan State",
          "Murray State",
          "Navy",
          "NC State",
          "Nebraska",
          "Nevada",
          "Nevada-Las Vegas",
          "New Hampshire",
          "New Mexico",
          "New Mexico State",
          "New Orleans",
          "Niagara",
          "Nicholls State",
          "NJIT",
          "North Alabama",
          "North Carolina A&T",
          "North Carolina Central",
          "North Dakota",
          "North Dakota State",
          "North Florida",
          "Northeastern",
          "Northern Arizona",
          "Northern Colorado",
          "Northern Illinois",
          "Northern Iowa",
          "Northern Kentucky",
          "Northwestern",
          "Northwestern State",
          "Notre Dame",
          "Oakland",
          "Old Dominion",
          "Omaha",
          "Pacific",
          "Penn State",
          "Pennsylvania",
          "Pepperdine",
          "Pittsburgh",
          "Portland",
          "Portland State",
          "Prairie View",
          "Presbyterian",
          "Princeton",
          "Providence",
          "Purdue-Fort Wayne",
          "Quinnipiac",
          "Radford",
          "Rhode Island",
          "Rice",
          "Richmond",
          "Rider",
          "Robert Morris",
          "Sacramento State",
          "Sacred Heart",
          "Saint Francis (PA)",
          "Saint Joseph's",
          "Saint Louis",
          "Saint Mary's (CA)",
          "Saint Peter's",
          "Sam Houston State",
          "Samford",
          "San Diego",
          "San Francisco",
          "San Jose State",
          "Santa Clara",
          "Seattle",
          "Seton Hall",
          "Siena",
          "South Alabama",
          "South Carolina",
          "South Carolina State",
          "South Carolina Upstate",
          "South Dakota",
          "South Dakota State",
          "South Florida",
          "Southeast Missouri State",
          "Southeastern Louisiana",
          "Southern",
          "Southern Illinois",
          "SIU Edwardsville",
          "Southern Methodist",
          "Southern Mississippi",
          "Southern Utah",
          "St. Francis (NY)",
          "St. John's (NY)",
          "Stanford",
          "Stephen F. Austin",
          "Stetson",
          "Stony Brook",
          "Tarleton State",
          "TCU",
          "Temple",
          "Tennessee State",
          "Tennessee Tech",
          "Tennessee-Martin",
          "Texas A&M",
          "Texas A&M-Corpus Christi",
          "Texas State",
          "Texas-Rio Grande Valley",
          "The Citadel",
          "Toledo",
          "Towson",
          "Troy",
          "Tulane",
          "Tulsa",
          "UAB",
          "UC Davis",
          "UC Irvine",
          "UC Riverside",
          "UC San Diego",
          "UNC Asheville",
          "UNC Wilmington",
          "UT Arlington",
          "Utah",
          "Utah Tech",
          "Utah Valley",
          "UTEP",
          "UTSA",
          "Valparaiso",
          "Vanderbilt",
          "Vermont",
          "VMI",
          "Wagner",
          "Wake Forest",
          "Washington",
          "Washington State",
          "Weber State",
          "Western Carolina",
          "Western Illinois",
          "Western Kentucky",
          "Western Michigan",
          "William & Mary",
          "Wofford",
          "Wright State",
          "Wyoming",
          "Xavier",
          "Yale",
          "Youngstown State"
         ],
         "legendgroup": "Nada",
         "marker": {
          "color": "#F0EAFC",
          "line": {
           "color": "DarkSlateGrey",
           "width": 2
          },
          "size": 12,
          "symbol": "circle"
         },
         "mode": "markers",
         "name": "Nada",
         "orientation": "v",
         "showlegend": true,
         "type": "scatter",
         "x": [
          0.2,
          0.652,
          0.4,
          0.222,
          0.438,
          0.316,
          0.4,
          0.654,
          0.44,
          0.458,
          0.16,
          0.545,
          0.481,
          0.519,
          0.435,
          0.636,
          0.867,
          0.222,
          0.679,
          0.2,
          0.389,
          0.538,
          0.429,
          null,
          0.682,
          0.417,
          0.64,
          0.4,
          0.167,
          0.577,
          0.375,
          0.409,
          0.31,
          0.565,
          0.63,
          0.538,
          0.208,
          0.238,
          0.478,
          0.304,
          0.143,
          0.36,
          0.692,
          0,
          0.522,
          0.692,
          0.474,
          0.714,
          null,
          0.409,
          null,
          null,
          0.591,
          0.583,
          0.467,
          0.158,
          0.095,
          0.263,
          0.545,
          0.542,
          0.5,
          0.421,
          0.52,
          0.333,
          0.759,
          0.333,
          0.526,
          0.36,
          0.37,
          0.375,
          0.4,
          0.565,
          0.556,
          0.346,
          0.143,
          0.5,
          0.64,
          0.423,
          0.591,
          0.294,
          0.538,
          0.5,
          0.727,
          0.5,
          0.32,
          0.44,
          null,
          0.524,
          0.375,
          0.565,
          0.313,
          0.24,
          0.2,
          0.045,
          0.542,
          0.28,
          0.409,
          0.364,
          0.444,
          0.6,
          0.083,
          0.444,
          0.667,
          0.458,
          0.667,
          0.65,
          0.458,
          0.31,
          0.208,
          0.652,
          0.36,
          0.36,
          0.6,
          0.357,
          0.267,
          0.556,
          0.423,
          0.333,
          0.5,
          0.414,
          0.654,
          0.75,
          0.269,
          0.65,
          0.353,
          0.591,
          0.222,
          0.35,
          0.571,
          0.481,
          0.682,
          0.7,
          0.533,
          0.478,
          0.417,
          0.714,
          0.621,
          0.5,
          0.37,
          0.522,
          0.217,
          0.455,
          0.483,
          0.571,
          0.545,
          0.083,
          0.708,
          0.6,
          0.536,
          0.565,
          0.636,
          0.5,
          0.833,
          0.56,
          0.259,
          0.615,
          0.444,
          0.526,
          0.273,
          0.6,
          0.4,
          0.45,
          0.72,
          0.368,
          0.542,
          0.524,
          0.357,
          0.346,
          0.556,
          0.348,
          0.526,
          0.273,
          0.5,
          0.158,
          0.4,
          0.56,
          0.375,
          0.379,
          0.423,
          0.4,
          0.652,
          0.2,
          0.5,
          0.44,
          null,
          0.556,
          0.455,
          0.286,
          0.409,
          0.762,
          0.318,
          null,
          0.5,
          0.348,
          0.409,
          0.556,
          0.4,
          0.536,
          0.609,
          0.261,
          0.211,
          0.4,
          0.5,
          0.273,
          0.25,
          0.667,
          0.583,
          0.56,
          0.679,
          0.316,
          0.214,
          0.44,
          0.238,
          0.6,
          0.522,
          0.519,
          0.706,
          0.607,
          0.286,
          0.056,
          0.217,
          0.56,
          0.696,
          0.409,
          0.407,
          0.308,
          0.421,
          0.462,
          0.346,
          0.647,
          0.32,
          0.833,
          0.474,
          0.593,
          0.519,
          0.762,
          0.444,
          0.391,
          0.5,
          0.462,
          0.313,
          0.174,
          0.185,
          0.333,
          0.444,
          0.208,
          0.72,
          0.474,
          0.52,
          0.7,
          0.222,
          0.393,
          0.435,
          0.478,
          0.759,
          0.556,
          0.667,
          0.636,
          0.412,
          0.5,
          0.412,
          0.5,
          0.48,
          0.381,
          0.5,
          0.5,
          0.577,
          0.357,
          0.36,
          0.667,
          0.52,
          0.65,
          0.273,
          0.192,
          0.519,
          0.739,
          0.407,
          0.318,
          0.724,
          0.238,
          0.412,
          0.625,
          0.75,
          0.56,
          0.619,
          null,
          0.556
         ],
         "xaxis": "x",
         "y": [
          -12.98,
          1.85,
          -18.86,
          -24.28,
          -4.53,
          -19.58,
          -6.32,
          15.02,
          7.48,
          -7.97,
          -22.67,
          0.06,
          10.02,
          -6.66,
          -1.96,
          -1.76,
          3.46,
          -12.24,
          9.75,
          0.82,
          -3.71,
          -0.17,
          0.32,
          null,
          -1.37,
          -7.78,
          6.5,
          4.76,
          -13.69,
          -0.13,
          -6.32,
          -8.69,
          4.89,
          -5.25,
          -6.82,
          -8.61,
          -14.86,
          -15.12,
          5.94,
          -12.34,
          -16.72,
          -5.68,
          -1.54,
          -31.82,
          3.99,
          -2.74,
          -4.96,
          8.06,
          null,
          -12.37,
          null,
          null,
          9.02,
          6.31,
          -5.19,
          -24.09,
          -16.4,
          2.67,
          -3.66,
          13.04,
          2.32,
          1,
          1.65,
          -12.71,
          -2.68,
          -14.23,
          -5.32,
          -4.85,
          -11.46,
          -10.17,
          -12.35,
          -2.05,
          -9.63,
          -11.2,
          -11.69,
          -3.57,
          5.99,
          -3.87,
          1.91,
          -5.75,
          6.62,
          -10.22,
          -1.7,
          -14.27,
          -10.15,
          -13.67,
          null,
          -2.98,
          -10.78,
          -2.77,
          -4.99,
          -16.72,
          -14.26,
          -18.32,
          -8.39,
          -5.45,
          -12.06,
          -15.91,
          12.79,
          2.04,
          -0.72,
          -11.65,
          -11.27,
          -11.15,
          -3.02,
          -0.11,
          -4.92,
          0.76,
          -14.15,
          1.74,
          11.77,
          -3.57,
          -5.38,
          -13.1,
          -12.85,
          -7.07,
          -6.36,
          -8.5,
          -7.76,
          -7.93,
          -4.84,
          6.63,
          -10.59,
          10.35,
          -2.29,
          5.55,
          -15.66,
          -12.2,
          -8.99,
          8.51,
          5.7,
          -1.05,
          4.77,
          -6.05,
          -18.34,
          13.81,
          1.28,
          -9.06,
          3.23,
          -2.67,
          -10.78,
          -7.71,
          11.04,
          11.18,
          9.24,
          -38.17,
          5.16,
          -5.88,
          -3.65,
          -5.62,
          -6.55,
          -2.86,
          1.02,
          9.6,
          6.08,
          5.4,
          -1.48,
          -8.2,
          -12.38,
          -1.21,
          -10.91,
          -7.54,
          -5.21,
          -9.75,
          -10.05,
          -14.27,
          -15.99,
          -10.35,
          -0.65,
          -11.48,
          -1.09,
          -12.97,
          -6.7,
          -17.9,
          -1.75,
          -6.78,
          9.71,
          -13.48,
          7.73,
          -9.33,
          -1.1,
          -12.73,
          2.64,
          13.53,
          null,
          5.65,
          7.8,
          -12.58,
          -6.33,
          -8.02,
          -13.96,
          null,
          8.94,
          -12.15,
          -9.1,
          -6.2,
          5.29,
          -3.73,
          9.04,
          -12.24,
          -13.2,
          -7.76,
          -12.19,
          -10.3,
          -4.56,
          11.76,
          8.05,
          -5.48,
          -3.29,
          -8.93,
          -5.22,
          6,
          -17.5,
          -0.05,
          -5.24,
          11.12,
          -3.99,
          -6.03,
          3.39,
          -24.9,
          -13.7,
          -1.25,
          3.27,
          -0.02,
          -10.18,
          -17.4,
          -13.49,
          -3.56,
          -14.94,
          10.97,
          -6.88,
          0.63,
          -10.23,
          9.41,
          10.15,
          -1.63,
          -7.26,
          -6.14,
          -7.28,
          2.61,
          2.57,
          -14.1,
          -14.13,
          -19.41,
          2.2,
          -16.77,
          -3.85,
          -9.63,
          -6.07,
          6.59,
          -9.83,
          -12.06,
          1.03,
          4.19,
          5.8,
          -5.83,
          3.46,
          4.12,
          -6.95,
          -6.99,
          -6.84,
          -7.23,
          11.86,
          -14.01,
          -3.41,
          1.07,
          -1.22,
          -4.21,
          6.14,
          1.99,
          -0.41,
          -5.35,
          1.72,
          1.88,
          8.12,
          3.14,
          -7.43,
          -12.48,
          5.19,
          -11.51,
          -11.23,
          1.76,
          6.89,
          -1.23,
          11.09,
          null,
          -9.78
         ],
         "yaxis": "y"
        },
        {
         "hovertemplate": "<b>%{hovertext}</b><br><br>progression=Sweet16<br>W-L%=%{x}<br>SRS=%{y}<extra></extra>",
         "hovertext": [
          "Alabama",
          "Creighton",
          "Florida State",
          "Loyola (IL)",
          "Oral Roberts",
          "Oregon",
          "Syracuse",
          "Villanova"
         ],
         "legendgroup": "Sweet16",
         "marker": {
          "color": "#B3DEF8",
          "line": {
           "color": "DarkSlateGrey",
           "width": 2
          },
          "size": 12,
          "symbol": "circle"
         },
         "mode": "markers",
         "name": "Sweet16",
         "orientation": "v",
         "showlegend": true,
         "type": "scatter",
         "x": [
          0.788,
          0.71,
          0.72,
          0.839,
          0.621,
          0.75,
          0.643,
          0.72
         ],
         "xaxis": "x",
         "y": [
          19.58,
          16.28,
          17.12,
          15.12,
          1.73,
          16.15,
          13.27,
          17.47
         ],
         "yaxis": "y"
        },
        {
         "hovertemplate": "<b>%{hovertext}</b><br><br>progression=Tournament<br>W-L%=%{x}<br>SRS=%{y}<extra></extra>",
         "hovertext": [
          "Appalachian State",
          "Brigham Young",
          "Clemson",
          "Cleveland State",
          "Colgate",
          "Connecticut",
          "Drake",
          "Drexel",
          "Eastern Washington",
          "Georgetown",
          "Georgia Tech",
          "Grand Canyon",
          "Hartford",
          "Iona",
          "Liberty",
          "Michigan State",
          "Missouri",
          "Morehead State",
          "Mount St. Mary's",
          "Norfolk State",
          "North Carolina",
          "Ohio State",
          "Purdue",
          "San Diego State",
          "St. Bonaventure",
          "Tennessee",
          "Texas",
          "Texas Southern",
          "UC Santa Barbara",
          "UNC Greensboro",
          "Utah State",
          "Virginia",
          "Virginia Commonwealth",
          "Virginia Tech",
          "Wichita State",
          "Winthrop"
         ],
         "legendgroup": "Tournament",
         "marker": {
          "color": "#DCE6FB",
          "line": {
           "color": "DarkSlateGrey",
           "width": 2
          },
          "size": 12,
          "symbol": "circle"
         },
         "mode": "markers",
         "name": "Tournament",
         "orientation": "v",
         "showlegend": true,
         "type": "scatter",
         "x": [
          0.586,
          0.741,
          0.667,
          0.704,
          0.875,
          0.652,
          0.839,
          0.6,
          0.667,
          0.5,
          0.654,
          0.708,
          0.625,
          0.667,
          0.793,
          0.536,
          0.615,
          0.742,
          0.522,
          0.68,
          0.621,
          0.677,
          0.643,
          0.821,
          0.762,
          0.667,
          0.704,
          0.654,
          0.815,
          0.7,
          0.69,
          0.72,
          0.731,
          0.682,
          0.727,
          0.92
         ],
         "xaxis": "x",
         "y": [
          -5.84,
          15.19,
          12.49,
          -5.12,
          13.66,
          15.77,
          9.42,
          -0.97,
          4.03,
          10.13,
          12.79,
          5.11,
          -3.45,
          -1.2,
          4.06,
          9.8,
          12.37,
          -0.95,
          -5.67,
          -6.16,
          14.79,
          18.25,
          15.55,
          14.36,
          13.44,
          16.87,
          15.51,
          -6.15,
          7.8,
          3.48,
          10.99,
          15.27,
          11.3,
          12.59,
          9.36,
          4.69
         ],
         "yaxis": "y"
        },
        {
         "hovertemplate": "<b>%{hovertext}</b><br><br>progression=Elite8<br>W-L%=%{x}<br>SRS=%{y}<extra></extra>",
         "hovertext": [
          "Arkansas",
          "Michigan",
          "Oregon State",
          "Southern California"
         ],
         "legendgroup": "Elite8",
         "marker": {
          "color": "#9EDAF6",
          "line": {
           "color": "DarkSlateGrey",
           "width": 2
          },
          "size": 12,
          "symbol": "circle"
         },
         "mode": "markers",
         "name": "Elite8",
         "orientation": "v",
         "showlegend": true,
         "type": "scatter",
         "x": [
          0.781,
          0.821,
          0.606,
          0.758
         ],
         "xaxis": "x",
         "y": [
          17.8,
          22,
          11.48,
          20.5
         ],
         "yaxis": "y"
        },
        {
         "hovertemplate": "<b>%{hovertext}</b><br><br>progression=Champion<br>W-L%=%{x}<br>SRS=%{y}<extra></extra>",
         "hovertext": [
          "Baylor"
         ],
         "legendgroup": "Champion",
         "marker": {
          "color": "#61CEF2",
          "line": {
           "color": "DarkSlateGrey",
           "width": 2
          },
          "size": 12,
          "symbol": "circle"
         },
         "mode": "markers",
         "name": "Champion",
         "orientation": "v",
         "showlegend": true,
         "type": "scatter",
         "x": [
          0.933
         ],
         "xaxis": "x",
         "y": [
          24.83
         ],
         "yaxis": "y"
        },
        {
         "hovertemplate": "<b>%{hovertext}</b><br><br>progression=Final2<br>W-L%=%{x}<br>SRS=%{y}<extra></extra>",
         "hovertext": [
          "Gonzaga"
         ],
         "legendgroup": "Final2",
         "marker": {
          "color": "#75D2F3",
          "line": {
           "color": "DarkSlateGrey",
           "width": 2
          },
          "size": 12,
          "symbol": "circle"
         },
         "mode": "markers",
         "name": "Final2",
         "orientation": "v",
         "showlegend": true,
         "type": "scatter",
         "x": [
          0.969
         ],
         "xaxis": "x",
         "y": [
          27.2
         ],
         "yaxis": "y"
        },
        {
         "hovertemplate": "<b>%{hovertext}</b><br><br>progression=Final4<br>W-L%=%{x}<br>SRS=%{y}<extra></extra>",
         "hovertext": [
          "Houston",
          "UCLA"
         ],
         "legendgroup": "Final4",
         "marker": {
          "color": "#FF97FF",
          "line": {
           "color": "DarkSlateGrey",
           "width": 2
          },
          "size": 12,
          "symbol": "circle"
         },
         "mode": "markers",
         "name": "Final4",
         "orientation": "v",
         "showlegend": true,
         "type": "scatter",
         "x": [
          0.875,
          0.688
         ],
         "xaxis": "x",
         "y": [
          21.66,
          16.3
         ],
         "yaxis": "y"
        }
       ],
       "layout": {
        "legend": {
         "title": {
          "text": "progression"
         },
         "tracegroupgap": 0
        },
        "margin": {
         "t": 60
        },
        "template": {
         "data": {
          "bar": [
           {
            "error_x": {
             "color": "#2a3f5f"
            },
            "error_y": {
             "color": "#2a3f5f"
            },
            "marker": {
             "line": {
              "color": "#E5ECF6",
              "width": 0.5
             },
             "pattern": {
              "fillmode": "overlay",
              "size": 10,
              "solidity": 0.2
             }
            },
            "type": "bar"
           }
          ],
          "barpolar": [
           {
            "marker": {
             "line": {
              "color": "#E5ECF6",
              "width": 0.5
             },
             "pattern": {
              "fillmode": "overlay",
              "size": 10,
              "solidity": 0.2
             }
            },
            "type": "barpolar"
           }
          ],
          "carpet": [
           {
            "aaxis": {
             "endlinecolor": "#2a3f5f",
             "gridcolor": "white",
             "linecolor": "white",
             "minorgridcolor": "white",
             "startlinecolor": "#2a3f5f"
            },
            "baxis": {
             "endlinecolor": "#2a3f5f",
             "gridcolor": "white",
             "linecolor": "white",
             "minorgridcolor": "white",
             "startlinecolor": "#2a3f5f"
            },
            "type": "carpet"
           }
          ],
          "choropleth": [
           {
            "colorbar": {
             "outlinewidth": 0,
             "ticks": ""
            },
            "type": "choropleth"
           }
          ],
          "contour": [
           {
            "colorbar": {
             "outlinewidth": 0,
             "ticks": ""
            },
            "colorscale": [
             [
              0,
              "#0d0887"
             ],
             [
              0.1111111111111111,
              "#46039f"
             ],
             [
              0.2222222222222222,
              "#7201a8"
             ],
             [
              0.3333333333333333,
              "#9c179e"
             ],
             [
              0.4444444444444444,
              "#bd3786"
             ],
             [
              0.5555555555555556,
              "#d8576b"
             ],
             [
              0.6666666666666666,
              "#ed7953"
             ],
             [
              0.7777777777777778,
              "#fb9f3a"
             ],
             [
              0.8888888888888888,
              "#fdca26"
             ],
             [
              1,
              "#f0f921"
             ]
            ],
            "type": "contour"
           }
          ],
          "contourcarpet": [
           {
            "colorbar": {
             "outlinewidth": 0,
             "ticks": ""
            },
            "type": "contourcarpet"
           }
          ],
          "heatmap": [
           {
            "colorbar": {
             "outlinewidth": 0,
             "ticks": ""
            },
            "colorscale": [
             [
              0,
              "#0d0887"
             ],
             [
              0.1111111111111111,
              "#46039f"
             ],
             [
              0.2222222222222222,
              "#7201a8"
             ],
             [
              0.3333333333333333,
              "#9c179e"
             ],
             [
              0.4444444444444444,
              "#bd3786"
             ],
             [
              0.5555555555555556,
              "#d8576b"
             ],
             [
              0.6666666666666666,
              "#ed7953"
             ],
             [
              0.7777777777777778,
              "#fb9f3a"
             ],
             [
              0.8888888888888888,
              "#fdca26"
             ],
             [
              1,
              "#f0f921"
             ]
            ],
            "type": "heatmap"
           }
          ],
          "heatmapgl": [
           {
            "colorbar": {
             "outlinewidth": 0,
             "ticks": ""
            },
            "colorscale": [
             [
              0,
              "#0d0887"
             ],
             [
              0.1111111111111111,
              "#46039f"
             ],
             [
              0.2222222222222222,
              "#7201a8"
             ],
             [
              0.3333333333333333,
              "#9c179e"
             ],
             [
              0.4444444444444444,
              "#bd3786"
             ],
             [
              0.5555555555555556,
              "#d8576b"
             ],
             [
              0.6666666666666666,
              "#ed7953"
             ],
             [
              0.7777777777777778,
              "#fb9f3a"
             ],
             [
              0.8888888888888888,
              "#fdca26"
             ],
             [
              1,
              "#f0f921"
             ]
            ],
            "type": "heatmapgl"
           }
          ],
          "histogram": [
           {
            "marker": {
             "pattern": {
              "fillmode": "overlay",
              "size": 10,
              "solidity": 0.2
             }
            },
            "type": "histogram"
           }
          ],
          "histogram2d": [
           {
            "colorbar": {
             "outlinewidth": 0,
             "ticks": ""
            },
            "colorscale": [
             [
              0,
              "#0d0887"
             ],
             [
              0.1111111111111111,
              "#46039f"
             ],
             [
              0.2222222222222222,
              "#7201a8"
             ],
             [
              0.3333333333333333,
              "#9c179e"
             ],
             [
              0.4444444444444444,
              "#bd3786"
             ],
             [
              0.5555555555555556,
              "#d8576b"
             ],
             [
              0.6666666666666666,
              "#ed7953"
             ],
             [
              0.7777777777777778,
              "#fb9f3a"
             ],
             [
              0.8888888888888888,
              "#fdca26"
             ],
             [
              1,
              "#f0f921"
             ]
            ],
            "type": "histogram2d"
           }
          ],
          "histogram2dcontour": [
           {
            "colorbar": {
             "outlinewidth": 0,
             "ticks": ""
            },
            "colorscale": [
             [
              0,
              "#0d0887"
             ],
             [
              0.1111111111111111,
              "#46039f"
             ],
             [
              0.2222222222222222,
              "#7201a8"
             ],
             [
              0.3333333333333333,
              "#9c179e"
             ],
             [
              0.4444444444444444,
              "#bd3786"
             ],
             [
              0.5555555555555556,
              "#d8576b"
             ],
             [
              0.6666666666666666,
              "#ed7953"
             ],
             [
              0.7777777777777778,
              "#fb9f3a"
             ],
             [
              0.8888888888888888,
              "#fdca26"
             ],
             [
              1,
              "#f0f921"
             ]
            ],
            "type": "histogram2dcontour"
           }
          ],
          "mesh3d": [
           {
            "colorbar": {
             "outlinewidth": 0,
             "ticks": ""
            },
            "type": "mesh3d"
           }
          ],
          "parcoords": [
           {
            "line": {
             "colorbar": {
              "outlinewidth": 0,
              "ticks": ""
             }
            },
            "type": "parcoords"
           }
          ],
          "pie": [
           {
            "automargin": true,
            "type": "pie"
           }
          ],
          "scatter": [
           {
            "fillpattern": {
             "fillmode": "overlay",
             "size": 10,
             "solidity": 0.2
            },
            "type": "scatter"
           }
          ],
          "scatter3d": [
           {
            "line": {
             "colorbar": {
              "outlinewidth": 0,
              "ticks": ""
             }
            },
            "marker": {
             "colorbar": {
              "outlinewidth": 0,
              "ticks": ""
             }
            },
            "type": "scatter3d"
           }
          ],
          "scattercarpet": [
           {
            "marker": {
             "colorbar": {
              "outlinewidth": 0,
              "ticks": ""
             }
            },
            "type": "scattercarpet"
           }
          ],
          "scattergeo": [
           {
            "marker": {
             "colorbar": {
              "outlinewidth": 0,
              "ticks": ""
             }
            },
            "type": "scattergeo"
           }
          ],
          "scattergl": [
           {
            "marker": {
             "colorbar": {
              "outlinewidth": 0,
              "ticks": ""
             }
            },
            "type": "scattergl"
           }
          ],
          "scattermapbox": [
           {
            "marker": {
             "colorbar": {
              "outlinewidth": 0,
              "ticks": ""
             }
            },
            "type": "scattermapbox"
           }
          ],
          "scatterpolar": [
           {
            "marker": {
             "colorbar": {
              "outlinewidth": 0,
              "ticks": ""
             }
            },
            "type": "scatterpolar"
           }
          ],
          "scatterpolargl": [
           {
            "marker": {
             "colorbar": {
              "outlinewidth": 0,
              "ticks": ""
             }
            },
            "type": "scatterpolargl"
           }
          ],
          "scatterternary": [
           {
            "marker": {
             "colorbar": {
              "outlinewidth": 0,
              "ticks": ""
             }
            },
            "type": "scatterternary"
           }
          ],
          "surface": [
           {
            "colorbar": {
             "outlinewidth": 0,
             "ticks": ""
            },
            "colorscale": [
             [
              0,
              "#0d0887"
             ],
             [
              0.1111111111111111,
              "#46039f"
             ],
             [
              0.2222222222222222,
              "#7201a8"
             ],
             [
              0.3333333333333333,
              "#9c179e"
             ],
             [
              0.4444444444444444,
              "#bd3786"
             ],
             [
              0.5555555555555556,
              "#d8576b"
             ],
             [
              0.6666666666666666,
              "#ed7953"
             ],
             [
              0.7777777777777778,
              "#fb9f3a"
             ],
             [
              0.8888888888888888,
              "#fdca26"
             ],
             [
              1,
              "#f0f921"
             ]
            ],
            "type": "surface"
           }
          ],
          "table": [
           {
            "cells": {
             "fill": {
              "color": "#EBF0F8"
             },
             "line": {
              "color": "white"
             }
            },
            "header": {
             "fill": {
              "color": "#C8D4E3"
             },
             "line": {
              "color": "white"
             }
            },
            "type": "table"
           }
          ]
         },
         "layout": {
          "annotationdefaults": {
           "arrowcolor": "#2a3f5f",
           "arrowhead": 0,
           "arrowwidth": 1
          },
          "autotypenumbers": "strict",
          "coloraxis": {
           "colorbar": {
            "outlinewidth": 0,
            "ticks": ""
           }
          },
          "colorscale": {
           "diverging": [
            [
             0,
             "#8e0152"
            ],
            [
             0.1,
             "#c51b7d"
            ],
            [
             0.2,
             "#de77ae"
            ],
            [
             0.3,
             "#f1b6da"
            ],
            [
             0.4,
             "#fde0ef"
            ],
            [
             0.5,
             "#f7f7f7"
            ],
            [
             0.6,
             "#e6f5d0"
            ],
            [
             0.7,
             "#b8e186"
            ],
            [
             0.8,
             "#7fbc41"
            ],
            [
             0.9,
             "#4d9221"
            ],
            [
             1,
             "#276419"
            ]
           ],
           "sequential": [
            [
             0,
             "#0d0887"
            ],
            [
             0.1111111111111111,
             "#46039f"
            ],
            [
             0.2222222222222222,
             "#7201a8"
            ],
            [
             0.3333333333333333,
             "#9c179e"
            ],
            [
             0.4444444444444444,
             "#bd3786"
            ],
            [
             0.5555555555555556,
             "#d8576b"
            ],
            [
             0.6666666666666666,
             "#ed7953"
            ],
            [
             0.7777777777777778,
             "#fb9f3a"
            ],
            [
             0.8888888888888888,
             "#fdca26"
            ],
            [
             1,
             "#f0f921"
            ]
           ],
           "sequentialminus": [
            [
             0,
             "#0d0887"
            ],
            [
             0.1111111111111111,
             "#46039f"
            ],
            [
             0.2222222222222222,
             "#7201a8"
            ],
            [
             0.3333333333333333,
             "#9c179e"
            ],
            [
             0.4444444444444444,
             "#bd3786"
            ],
            [
             0.5555555555555556,
             "#d8576b"
            ],
            [
             0.6666666666666666,
             "#ed7953"
            ],
            [
             0.7777777777777778,
             "#fb9f3a"
            ],
            [
             0.8888888888888888,
             "#fdca26"
            ],
            [
             1,
             "#f0f921"
            ]
           ]
          },
          "colorway": [
           "#636efa",
           "#EF553B",
           "#00cc96",
           "#ab63fa",
           "#FFA15A",
           "#19d3f3",
           "#FF6692",
           "#B6E880",
           "#FF97FF",
           "#FECB52"
          ],
          "font": {
           "color": "#2a3f5f"
          },
          "geo": {
           "bgcolor": "white",
           "lakecolor": "white",
           "landcolor": "#E5ECF6",
           "showlakes": true,
           "showland": true,
           "subunitcolor": "white"
          },
          "hoverlabel": {
           "align": "left"
          },
          "hovermode": "closest",
          "mapbox": {
           "style": "light"
          },
          "paper_bgcolor": "white",
          "plot_bgcolor": "#E5ECF6",
          "polar": {
           "angularaxis": {
            "gridcolor": "white",
            "linecolor": "white",
            "ticks": ""
           },
           "bgcolor": "#E5ECF6",
           "radialaxis": {
            "gridcolor": "white",
            "linecolor": "white",
            "ticks": ""
           }
          },
          "scene": {
           "xaxis": {
            "backgroundcolor": "#E5ECF6",
            "gridcolor": "white",
            "gridwidth": 2,
            "linecolor": "white",
            "showbackground": true,
            "ticks": "",
            "zerolinecolor": "white"
           },
           "yaxis": {
            "backgroundcolor": "#E5ECF6",
            "gridcolor": "white",
            "gridwidth": 2,
            "linecolor": "white",
            "showbackground": true,
            "ticks": "",
            "zerolinecolor": "white"
           },
           "zaxis": {
            "backgroundcolor": "#E5ECF6",
            "gridcolor": "white",
            "gridwidth": 2,
            "linecolor": "white",
            "showbackground": true,
            "ticks": "",
            "zerolinecolor": "white"
           }
          },
          "shapedefaults": {
           "line": {
            "color": "#2a3f5f"
           }
          },
          "ternary": {
           "aaxis": {
            "gridcolor": "white",
            "linecolor": "white",
            "ticks": ""
           },
           "baxis": {
            "gridcolor": "white",
            "linecolor": "white",
            "ticks": ""
           },
           "bgcolor": "#E5ECF6",
           "caxis": {
            "gridcolor": "white",
            "linecolor": "white",
            "ticks": ""
           }
          },
          "title": {
           "x": 0.05
          },
          "xaxis": {
           "automargin": true,
           "gridcolor": "white",
           "linecolor": "white",
           "ticks": "",
           "title": {
            "standoff": 15
           },
           "zerolinecolor": "white",
           "zerolinewidth": 2
          },
          "yaxis": {
           "automargin": true,
           "gridcolor": "white",
           "linecolor": "white",
           "ticks": "",
           "title": {
            "standoff": 15
           },
           "zerolinecolor": "white",
           "zerolinewidth": 2
          }
         }
        },
        "xaxis": {
         "anchor": "y",
         "domain": [
          0,
          1
         ],
         "title": {
          "text": "W-L%"
         }
        },
        "yaxis": {
         "anchor": "x",
         "domain": [
          0,
          1
         ],
         "title": {
          "text": "SRS"
         }
        }
       }
      },
      "text/html": [
       "<div>                            <div id=\"df32c50e-608a-4353-a29e-1ae31fd65f40\" class=\"plotly-graph-div\" style=\"height:525px; width:100%;\"></div>            <script type=\"text/javascript\">                require([\"plotly\"], function(Plotly) {                    window.PLOTLYENV=window.PLOTLYENV || {};                                    if (document.getElementById(\"df32c50e-608a-4353-a29e-1ae31fd65f40\")) {                    Plotly.newPlot(                        \"df32c50e-608a-4353-a29e-1ae31fd65f40\",                        [{\"hovertemplate\":\"<b>%{hovertext}</b><br><br>progression=Round32<br>W-L%=%{x}<br>SRS=%{y}<extra></extra>\",\"hovertext\":[\"Abilene Christian\",\"Colorado\",\"Florida\",\"Illinois\",\"Iowa\",\"Kansas\",\"Louisiana State\",\"Maryland\",\"North Texas\",\"Ohio\",\"Oklahoma\",\"Oklahoma State\",\"Rutgers\",\"Texas Tech\",\"West Virginia\",\"Wisconsin\"],\"legendgroup\":\"Round32\",\"marker\":{\"color\":\"#C7E2F9\",\"symbol\":\"circle\",\"line\":{\"color\":\"DarkSlateGrey\",\"width\":2},\"size\":12},\"mode\":\"markers\",\"name\":\"Round32\",\"orientation\":\"v\",\"showlegend\":true,\"x\":[0.828,0.719,0.6,0.774,0.71,0.7,0.655,0.548,0.643,0.68,0.593,0.7,0.571,0.621,0.655,0.581],\"xaxis\":\"x\",\"y\":[6.27,18.88,13.7,23.25,21.4,15.29,15.7,13.94,7.58,5.48,13.52,13.65,14.14,16.59,15.36,17.22],\"yaxis\":\"y\",\"type\":\"scatter\"},{\"hovertemplate\":\"<b>%{hovertext}</b><br><br>progression=Nada<br>W-L%=%{x}<br>SRS=%{y}<extra></extra>\",\"hovertext\":[\"Air Force\",\"Akron\",\"Alabama A&M\",\"Alabama State\",\"Albany (NY)\",\"Alcorn State\",\"American\",\"Arizona\",\"Arizona State\",\"Arkansas State\",\"Arkansas-Pine Bluff\",\"Army\",\"Auburn\",\"Austin Peay\",\"Ball State\",\"Bellarmine\",\"Belmont\",\"Binghamton\",\"Boise State\",\"Boston College\",\"Boston University\",\"Bowling Green State\",\"Bradley\",\"Brown\",\"Bryant\",\"Bucknell\",\"Buffalo\",\"Butler\",\"Cal Poly\",\"Cal State Bakersfield\",\"Cal State Fullerton\",\"Cal State Northridge\",\"California\",\"California Baptist\",\"Campbell\",\"Canisius\",\"Central Arkansas\",\"Central Connecticut State\",\"Central Florida\",\"Central Michigan\",\"Charleston Southern\",\"Charlotte\",\"Chattanooga\",\"Chicago State\",\"Cincinnati\",\"Coastal Carolina\",\"College of Charleston\",\"Colorado State\",\"Columbia\",\"Coppin State\",\"Cornell\",\"Dartmouth\",\"Davidson\",\"Dayton\",\"Delaware\",\"Delaware State\",\"Denver\",\"DePaul\",\"Detroit Mercy\",\"Duke\",\"Duquesne\",\"East Carolina\",\"East Tennessee State\",\"Eastern Illinois\",\"Eastern Kentucky\",\"Eastern Michigan\",\"Elon\",\"Evansville\",\"Fairfield\",\"Fairleigh Dickinson\",\"Florida A&M\",\"Florida Atlantic\",\"Florida Gulf Coast\",\"Florida International\",\"Fordham\",\"Fresno State\",\"Furman\",\"Gardner-Webb\",\"George Mason\",\"George Washington\",\"Georgia\",\"Georgia Southern\",\"Georgia State\",\"Grambling\",\"Green Bay\",\"Hampton\",\"Harvard\",\"Hawaii\",\"High Point\",\"Hofstra\",\"Holy Cross\",\"Houston Christian\",\"Howard\",\"Idaho\",\"Idaho State\",\"Illinois State\",\"Illinois-Chicago\",\"Incarnate Word\",\"Indiana\",\"Indiana State\",\"Iowa State\",\"IUPUI\",\"Jackson State\",\"Jacksonville\",\"Jacksonville State\",\"James Madison\",\"Kansas City\",\"Kansas State\",\"Kennesaw State\",\"Kent State\",\"Kentucky\",\"La Salle\",\"Lafayette\",\"Lamar\",\"Lehigh\",\"Lipscomb\",\"Little Rock\",\"Long Beach State\",\"Long Island University\",\"Longwood\",\"Louisiana\",\"Louisiana Tech\",\"Louisiana-Monroe\",\"Louisville\",\"Loyola (MD)\",\"Loyola Marymount\",\"Maine\",\"Manhattan\",\"Marist\",\"Marquette\",\"Marshall\",\"Maryland-Baltimore County\",\"Massachusetts\",\"Massachusetts-Lowell\",\"McNeese State\",\"Memphis\",\"Mercer\",\"Merrimack\",\"Miami (FL)\",\"Miami (OH)\",\"Middle Tennessee\",\"Milwaukee\",\"Minnesota\",\"Mississippi\",\"Mississippi State\",\"Mississippi Valley State\",\"Missouri State\",\"Monmouth\",\"Montana\",\"Montana State\",\"Morgan State\",\"Murray State\",\"Navy\",\"NC State\",\"Nebraska\",\"Nevada\",\"Nevada-Las Vegas\",\"New Hampshire\",\"New Mexico\",\"New Mexico State\",\"New Orleans\",\"Niagara\",\"Nicholls State\",\"NJIT\",\"North Alabama\",\"North Carolina A&T\",\"North Carolina Central\",\"North Dakota\",\"North Dakota State\",\"North Florida\",\"Northeastern\",\"Northern Arizona\",\"Northern Colorado\",\"Northern Illinois\",\"Northern Iowa\",\"Northern Kentucky\",\"Northwestern\",\"Northwestern State\",\"Notre Dame\",\"Oakland\",\"Old Dominion\",\"Omaha\",\"Pacific\",\"Penn State\",\"Pennsylvania\",\"Pepperdine\",\"Pittsburgh\",\"Portland\",\"Portland State\",\"Prairie View\",\"Presbyterian\",\"Princeton\",\"Providence\",\"Purdue-Fort Wayne\",\"Quinnipiac\",\"Radford\",\"Rhode Island\",\"Rice\",\"Richmond\",\"Rider\",\"Robert Morris\",\"Sacramento State\",\"Sacred Heart\",\"Saint Francis (PA)\",\"Saint Joseph's\",\"Saint Louis\",\"Saint Mary's (CA)\",\"Saint Peter's\",\"Sam Houston State\",\"Samford\",\"San Diego\",\"San Francisco\",\"San Jose State\",\"Santa Clara\",\"Seattle\",\"Seton Hall\",\"Siena\",\"South Alabama\",\"South Carolina\",\"South Carolina State\",\"South Carolina Upstate\",\"South Dakota\",\"South Dakota State\",\"South Florida\",\"Southeast Missouri State\",\"Southeastern Louisiana\",\"Southern\",\"Southern Illinois\",\"SIU Edwardsville\",\"Southern Methodist\",\"Southern Mississippi\",\"Southern Utah\",\"St. Francis (NY)\",\"St. John's (NY)\",\"Stanford\",\"Stephen F. Austin\",\"Stetson\",\"Stony Brook\",\"Tarleton State\",\"TCU\",\"Temple\",\"Tennessee State\",\"Tennessee Tech\",\"Tennessee-Martin\",\"Texas A&M\",\"Texas A&M-Corpus Christi\",\"Texas State\",\"Texas-Rio Grande Valley\",\"The Citadel\",\"Toledo\",\"Towson\",\"Troy\",\"Tulane\",\"Tulsa\",\"UAB\",\"UC Davis\",\"UC Irvine\",\"UC Riverside\",\"UC San Diego\",\"UNC Asheville\",\"UNC Wilmington\",\"UT Arlington\",\"Utah\",\"Utah Tech\",\"Utah Valley\",\"UTEP\",\"UTSA\",\"Valparaiso\",\"Vanderbilt\",\"Vermont\",\"VMI\",\"Wagner\",\"Wake Forest\",\"Washington\",\"Washington State\",\"Weber State\",\"Western Carolina\",\"Western Illinois\",\"Western Kentucky\",\"Western Michigan\",\"William & Mary\",\"Wofford\",\"Wright State\",\"Wyoming\",\"Xavier\",\"Yale\",\"Youngstown State\"],\"legendgroup\":\"Nada\",\"marker\":{\"color\":\"#F0EAFC\",\"symbol\":\"circle\",\"line\":{\"color\":\"DarkSlateGrey\",\"width\":2},\"size\":12},\"mode\":\"markers\",\"name\":\"Nada\",\"orientation\":\"v\",\"showlegend\":true,\"x\":[0.2,0.652,0.4,0.222,0.438,0.316,0.4,0.654,0.44,0.458,0.16,0.545,0.481,0.519,0.435,0.636,0.867,0.222,0.679,0.2,0.389,0.538,0.429,null,0.682,0.417,0.64,0.4,0.167,0.577,0.375,0.409,0.31,0.565,0.63,0.538,0.208,0.238,0.478,0.304,0.143,0.36,0.692,0.0,0.522,0.692,0.474,0.714,null,0.409,null,null,0.591,0.583,0.467,0.158,0.095,0.263,0.545,0.542,0.5,0.421,0.52,0.333,0.759,0.333,0.526,0.36,0.37,0.375,0.4,0.565,0.556,0.346,0.143,0.5,0.64,0.423,0.591,0.294,0.538,0.5,0.727,0.5,0.32,0.44,null,0.524,0.375,0.565,0.313,0.24,0.2,0.045,0.542,0.28,0.409,0.364,0.444,0.6,0.083,0.444,0.667,0.458,0.667,0.65,0.458,0.31,0.208,0.652,0.36,0.36,0.6,0.357,0.267,0.556,0.423,0.333,0.5,0.414,0.654,0.75,0.269,0.65,0.353,0.591,0.222,0.35,0.571,0.481,0.682,0.7,0.533,0.478,0.417,0.714,0.621,0.5,0.37,0.522,0.217,0.455,0.483,0.571,0.545,0.083,0.708,0.6,0.536,0.565,0.636,0.5,0.833,0.56,0.259,0.615,0.444,0.526,0.273,0.6,0.4,0.45,0.72,0.368,0.542,0.524,0.357,0.346,0.556,0.348,0.526,0.273,0.5,0.158,0.4,0.56,0.375,0.379,0.423,0.4,0.652,0.2,0.5,0.44,null,0.556,0.455,0.286,0.409,0.762,0.318,null,0.5,0.348,0.409,0.556,0.4,0.536,0.609,0.261,0.211,0.4,0.5,0.273,0.25,0.667,0.583,0.56,0.679,0.316,0.214,0.44,0.238,0.6,0.522,0.519,0.706,0.607,0.286,0.056,0.217,0.56,0.696,0.409,0.407,0.308,0.421,0.462,0.346,0.647,0.32,0.833,0.474,0.593,0.519,0.762,0.444,0.391,0.5,0.462,0.313,0.174,0.185,0.333,0.444,0.208,0.72,0.474,0.52,0.7,0.222,0.393,0.435,0.478,0.759,0.556,0.667,0.636,0.412,0.5,0.412,0.5,0.48,0.381,0.5,0.5,0.577,0.357,0.36,0.667,0.52,0.65,0.273,0.192,0.519,0.739,0.407,0.318,0.724,0.238,0.412,0.625,0.75,0.56,0.619,null,0.556],\"xaxis\":\"x\",\"y\":[-12.98,1.85,-18.86,-24.28,-4.53,-19.58,-6.32,15.02,7.48,-7.97,-22.67,0.06,10.02,-6.66,-1.96,-1.76,3.46,-12.24,9.75,0.82,-3.71,-0.17,0.32,null,-1.37,-7.78,6.5,4.76,-13.69,-0.13,-6.32,-8.69,4.89,-5.25,-6.82,-8.61,-14.86,-15.12,5.94,-12.34,-16.72,-5.68,-1.54,-31.82,3.99,-2.74,-4.96,8.06,null,-12.37,null,null,9.02,6.31,-5.19,-24.09,-16.4,2.67,-3.66,13.04,2.32,1.0,1.65,-12.71,-2.68,-14.23,-5.32,-4.85,-11.46,-10.17,-12.35,-2.05,-9.63,-11.2,-11.69,-3.57,5.99,-3.87,1.91,-5.75,6.62,-10.22,-1.7,-14.27,-10.15,-13.67,null,-2.98,-10.78,-2.77,-4.99,-16.72,-14.26,-18.32,-8.39,-5.45,-12.06,-15.91,12.79,2.04,-0.72,-11.65,-11.27,-11.15,-3.02,-0.11,-4.92,0.76,-14.15,1.74,11.77,-3.57,-5.38,-13.1,-12.85,-7.07,-6.36,-8.5,-7.76,-7.93,-4.84,6.63,-10.59,10.35,-2.29,5.55,-15.66,-12.2,-8.99,8.51,5.7,-1.05,4.77,-6.05,-18.34,13.81,1.28,-9.06,3.23,-2.67,-10.78,-7.71,11.04,11.18,9.24,-38.17,5.16,-5.88,-3.65,-5.62,-6.55,-2.86,1.02,9.6,6.08,5.4,-1.48,-8.2,-12.38,-1.21,-10.91,-7.54,-5.21,-9.75,-10.05,-14.27,-15.99,-10.35,-0.65,-11.48,-1.09,-12.97,-6.7,-17.9,-1.75,-6.78,9.71,-13.48,7.73,-9.33,-1.1,-12.73,2.64,13.53,null,5.65,7.8,-12.58,-6.33,-8.02,-13.96,null,8.94,-12.15,-9.1,-6.2,5.29,-3.73,9.04,-12.24,-13.2,-7.76,-12.19,-10.3,-4.56,11.76,8.05,-5.48,-3.29,-8.93,-5.22,6.0,-17.5,-0.05,-5.24,11.12,-3.99,-6.03,3.39,-24.9,-13.7,-1.25,3.27,-0.02,-10.18,-17.4,-13.49,-3.56,-14.94,10.97,-6.88,0.63,-10.23,9.41,10.15,-1.63,-7.26,-6.14,-7.28,2.61,2.57,-14.1,-14.13,-19.41,2.2,-16.77,-3.85,-9.63,-6.07,6.59,-9.83,-12.06,1.03,4.19,5.8,-5.83,3.46,4.12,-6.95,-6.99,-6.84,-7.23,11.86,-14.01,-3.41,1.07,-1.22,-4.21,6.14,1.99,-0.41,-5.35,1.72,1.88,8.12,3.14,-7.43,-12.48,5.19,-11.51,-11.23,1.76,6.89,-1.23,11.09,null,-9.78],\"yaxis\":\"y\",\"type\":\"scatter\"},{\"hovertemplate\":\"<b>%{hovertext}</b><br><br>progression=Sweet16<br>W-L%=%{x}<br>SRS=%{y}<extra></extra>\",\"hovertext\":[\"Alabama\",\"Creighton\",\"Florida State\",\"Loyola (IL)\",\"Oral Roberts\",\"Oregon\",\"Syracuse\",\"Villanova\"],\"legendgroup\":\"Sweet16\",\"marker\":{\"color\":\"#B3DEF8\",\"symbol\":\"circle\",\"line\":{\"color\":\"DarkSlateGrey\",\"width\":2},\"size\":12},\"mode\":\"markers\",\"name\":\"Sweet16\",\"orientation\":\"v\",\"showlegend\":true,\"x\":[0.788,0.71,0.72,0.839,0.621,0.75,0.643,0.72],\"xaxis\":\"x\",\"y\":[19.58,16.28,17.12,15.12,1.73,16.15,13.27,17.47],\"yaxis\":\"y\",\"type\":\"scatter\"},{\"hovertemplate\":\"<b>%{hovertext}</b><br><br>progression=Tournament<br>W-L%=%{x}<br>SRS=%{y}<extra></extra>\",\"hovertext\":[\"Appalachian State\",\"Brigham Young\",\"Clemson\",\"Cleveland State\",\"Colgate\",\"Connecticut\",\"Drake\",\"Drexel\",\"Eastern Washington\",\"Georgetown\",\"Georgia Tech\",\"Grand Canyon\",\"Hartford\",\"Iona\",\"Liberty\",\"Michigan State\",\"Missouri\",\"Morehead State\",\"Mount St. Mary's\",\"Norfolk State\",\"North Carolina\",\"Ohio State\",\"Purdue\",\"San Diego State\",\"St. Bonaventure\",\"Tennessee\",\"Texas\",\"Texas Southern\",\"UC Santa Barbara\",\"UNC Greensboro\",\"Utah State\",\"Virginia\",\"Virginia Commonwealth\",\"Virginia Tech\",\"Wichita State\",\"Winthrop\"],\"legendgroup\":\"Tournament\",\"marker\":{\"color\":\"#DCE6FB\",\"symbol\":\"circle\",\"line\":{\"color\":\"DarkSlateGrey\",\"width\":2},\"size\":12},\"mode\":\"markers\",\"name\":\"Tournament\",\"orientation\":\"v\",\"showlegend\":true,\"x\":[0.586,0.741,0.667,0.704,0.875,0.652,0.839,0.6,0.667,0.5,0.654,0.708,0.625,0.667,0.793,0.536,0.615,0.742,0.522,0.68,0.621,0.677,0.643,0.821,0.762,0.667,0.704,0.654,0.815,0.7,0.69,0.72,0.731,0.682,0.727,0.92],\"xaxis\":\"x\",\"y\":[-5.84,15.19,12.49,-5.12,13.66,15.77,9.42,-0.97,4.03,10.13,12.79,5.11,-3.45,-1.2,4.06,9.8,12.37,-0.95,-5.67,-6.16,14.79,18.25,15.55,14.36,13.44,16.87,15.51,-6.15,7.8,3.48,10.99,15.27,11.3,12.59,9.36,4.69],\"yaxis\":\"y\",\"type\":\"scatter\"},{\"hovertemplate\":\"<b>%{hovertext}</b><br><br>progression=Elite8<br>W-L%=%{x}<br>SRS=%{y}<extra></extra>\",\"hovertext\":[\"Arkansas\",\"Michigan\",\"Oregon State\",\"Southern California\"],\"legendgroup\":\"Elite8\",\"marker\":{\"color\":\"#9EDAF6\",\"symbol\":\"circle\",\"line\":{\"color\":\"DarkSlateGrey\",\"width\":2},\"size\":12},\"mode\":\"markers\",\"name\":\"Elite8\",\"orientation\":\"v\",\"showlegend\":true,\"x\":[0.781,0.821,0.606,0.758],\"xaxis\":\"x\",\"y\":[17.8,22.0,11.48,20.5],\"yaxis\":\"y\",\"type\":\"scatter\"},{\"hovertemplate\":\"<b>%{hovertext}</b><br><br>progression=Champion<br>W-L%=%{x}<br>SRS=%{y}<extra></extra>\",\"hovertext\":[\"Baylor\"],\"legendgroup\":\"Champion\",\"marker\":{\"color\":\"#61CEF2\",\"symbol\":\"circle\",\"line\":{\"color\":\"DarkSlateGrey\",\"width\":2},\"size\":12},\"mode\":\"markers\",\"name\":\"Champion\",\"orientation\":\"v\",\"showlegend\":true,\"x\":[0.933],\"xaxis\":\"x\",\"y\":[24.83],\"yaxis\":\"y\",\"type\":\"scatter\"},{\"hovertemplate\":\"<b>%{hovertext}</b><br><br>progression=Final2<br>W-L%=%{x}<br>SRS=%{y}<extra></extra>\",\"hovertext\":[\"Gonzaga\"],\"legendgroup\":\"Final2\",\"marker\":{\"color\":\"#75D2F3\",\"symbol\":\"circle\",\"line\":{\"color\":\"DarkSlateGrey\",\"width\":2},\"size\":12},\"mode\":\"markers\",\"name\":\"Final2\",\"orientation\":\"v\",\"showlegend\":true,\"x\":[0.969],\"xaxis\":\"x\",\"y\":[27.2],\"yaxis\":\"y\",\"type\":\"scatter\"},{\"hovertemplate\":\"<b>%{hovertext}</b><br><br>progression=Final4<br>W-L%=%{x}<br>SRS=%{y}<extra></extra>\",\"hovertext\":[\"Houston\",\"UCLA\"],\"legendgroup\":\"Final4\",\"marker\":{\"color\":\"#FF97FF\",\"symbol\":\"circle\",\"line\":{\"color\":\"DarkSlateGrey\",\"width\":2},\"size\":12},\"mode\":\"markers\",\"name\":\"Final4\",\"orientation\":\"v\",\"showlegend\":true,\"x\":[0.875,0.688],\"xaxis\":\"x\",\"y\":[21.66,16.3],\"yaxis\":\"y\",\"type\":\"scatter\"}],                        {\"template\":{\"data\":{\"histogram2dcontour\":[{\"type\":\"histogram2dcontour\",\"colorbar\":{\"outlinewidth\":0,\"ticks\":\"\"},\"colorscale\":[[0.0,\"#0d0887\"],[0.1111111111111111,\"#46039f\"],[0.2222222222222222,\"#7201a8\"],[0.3333333333333333,\"#9c179e\"],[0.4444444444444444,\"#bd3786\"],[0.5555555555555556,\"#d8576b\"],[0.6666666666666666,\"#ed7953\"],[0.7777777777777778,\"#fb9f3a\"],[0.8888888888888888,\"#fdca26\"],[1.0,\"#f0f921\"]]}],\"choropleth\":[{\"type\":\"choropleth\",\"colorbar\":{\"outlinewidth\":0,\"ticks\":\"\"}}],\"histogram2d\":[{\"type\":\"histogram2d\",\"colorbar\":{\"outlinewidth\":0,\"ticks\":\"\"},\"colorscale\":[[0.0,\"#0d0887\"],[0.1111111111111111,\"#46039f\"],[0.2222222222222222,\"#7201a8\"],[0.3333333333333333,\"#9c179e\"],[0.4444444444444444,\"#bd3786\"],[0.5555555555555556,\"#d8576b\"],[0.6666666666666666,\"#ed7953\"],[0.7777777777777778,\"#fb9f3a\"],[0.8888888888888888,\"#fdca26\"],[1.0,\"#f0f921\"]]}],\"heatmap\":[{\"type\":\"heatmap\",\"colorbar\":{\"outlinewidth\":0,\"ticks\":\"\"},\"colorscale\":[[0.0,\"#0d0887\"],[0.1111111111111111,\"#46039f\"],[0.2222222222222222,\"#7201a8\"],[0.3333333333333333,\"#9c179e\"],[0.4444444444444444,\"#bd3786\"],[0.5555555555555556,\"#d8576b\"],[0.6666666666666666,\"#ed7953\"],[0.7777777777777778,\"#fb9f3a\"],[0.8888888888888888,\"#fdca26\"],[1.0,\"#f0f921\"]]}],\"heatmapgl\":[{\"type\":\"heatmapgl\",\"colorbar\":{\"outlinewidth\":0,\"ticks\":\"\"},\"colorscale\":[[0.0,\"#0d0887\"],[0.1111111111111111,\"#46039f\"],[0.2222222222222222,\"#7201a8\"],[0.3333333333333333,\"#9c179e\"],[0.4444444444444444,\"#bd3786\"],[0.5555555555555556,\"#d8576b\"],[0.6666666666666666,\"#ed7953\"],[0.7777777777777778,\"#fb9f3a\"],[0.8888888888888888,\"#fdca26\"],[1.0,\"#f0f921\"]]}],\"contourcarpet\":[{\"type\":\"contourcarpet\",\"colorbar\":{\"outlinewidth\":0,\"ticks\":\"\"}}],\"contour\":[{\"type\":\"contour\",\"colorbar\":{\"outlinewidth\":0,\"ticks\":\"\"},\"colorscale\":[[0.0,\"#0d0887\"],[0.1111111111111111,\"#46039f\"],[0.2222222222222222,\"#7201a8\"],[0.3333333333333333,\"#9c179e\"],[0.4444444444444444,\"#bd3786\"],[0.5555555555555556,\"#d8576b\"],[0.6666666666666666,\"#ed7953\"],[0.7777777777777778,\"#fb9f3a\"],[0.8888888888888888,\"#fdca26\"],[1.0,\"#f0f921\"]]}],\"surface\":[{\"type\":\"surface\",\"colorbar\":{\"outlinewidth\":0,\"ticks\":\"\"},\"colorscale\":[[0.0,\"#0d0887\"],[0.1111111111111111,\"#46039f\"],[0.2222222222222222,\"#7201a8\"],[0.3333333333333333,\"#9c179e\"],[0.4444444444444444,\"#bd3786\"],[0.5555555555555556,\"#d8576b\"],[0.6666666666666666,\"#ed7953\"],[0.7777777777777778,\"#fb9f3a\"],[0.8888888888888888,\"#fdca26\"],[1.0,\"#f0f921\"]]}],\"mesh3d\":[{\"type\":\"mesh3d\",\"colorbar\":{\"outlinewidth\":0,\"ticks\":\"\"}}],\"scatter\":[{\"fillpattern\":{\"fillmode\":\"overlay\",\"size\":10,\"solidity\":0.2},\"type\":\"scatter\"}],\"parcoords\":[{\"type\":\"parcoords\",\"line\":{\"colorbar\":{\"outlinewidth\":0,\"ticks\":\"\"}}}],\"scatterpolargl\":[{\"type\":\"scatterpolargl\",\"marker\":{\"colorbar\":{\"outlinewidth\":0,\"ticks\":\"\"}}}],\"bar\":[{\"error_x\":{\"color\":\"#2a3f5f\"},\"error_y\":{\"color\":\"#2a3f5f\"},\"marker\":{\"line\":{\"color\":\"#E5ECF6\",\"width\":0.5},\"pattern\":{\"fillmode\":\"overlay\",\"size\":10,\"solidity\":0.2}},\"type\":\"bar\"}],\"scattergeo\":[{\"type\":\"scattergeo\",\"marker\":{\"colorbar\":{\"outlinewidth\":0,\"ticks\":\"\"}}}],\"scatterpolar\":[{\"type\":\"scatterpolar\",\"marker\":{\"colorbar\":{\"outlinewidth\":0,\"ticks\":\"\"}}}],\"histogram\":[{\"marker\":{\"pattern\":{\"fillmode\":\"overlay\",\"size\":10,\"solidity\":0.2}},\"type\":\"histogram\"}],\"scattergl\":[{\"type\":\"scattergl\",\"marker\":{\"colorbar\":{\"outlinewidth\":0,\"ticks\":\"\"}}}],\"scatter3d\":[{\"type\":\"scatter3d\",\"line\":{\"colorbar\":{\"outlinewidth\":0,\"ticks\":\"\"}},\"marker\":{\"colorbar\":{\"outlinewidth\":0,\"ticks\":\"\"}}}],\"scattermapbox\":[{\"type\":\"scattermapbox\",\"marker\":{\"colorbar\":{\"outlinewidth\":0,\"ticks\":\"\"}}}],\"scatterternary\":[{\"type\":\"scatterternary\",\"marker\":{\"colorbar\":{\"outlinewidth\":0,\"ticks\":\"\"}}}],\"scattercarpet\":[{\"type\":\"scattercarpet\",\"marker\":{\"colorbar\":{\"outlinewidth\":0,\"ticks\":\"\"}}}],\"carpet\":[{\"aaxis\":{\"endlinecolor\":\"#2a3f5f\",\"gridcolor\":\"white\",\"linecolor\":\"white\",\"minorgridcolor\":\"white\",\"startlinecolor\":\"#2a3f5f\"},\"baxis\":{\"endlinecolor\":\"#2a3f5f\",\"gridcolor\":\"white\",\"linecolor\":\"white\",\"minorgridcolor\":\"white\",\"startlinecolor\":\"#2a3f5f\"},\"type\":\"carpet\"}],\"table\":[{\"cells\":{\"fill\":{\"color\":\"#EBF0F8\"},\"line\":{\"color\":\"white\"}},\"header\":{\"fill\":{\"color\":\"#C8D4E3\"},\"line\":{\"color\":\"white\"}},\"type\":\"table\"}],\"barpolar\":[{\"marker\":{\"line\":{\"color\":\"#E5ECF6\",\"width\":0.5},\"pattern\":{\"fillmode\":\"overlay\",\"size\":10,\"solidity\":0.2}},\"type\":\"barpolar\"}],\"pie\":[{\"automargin\":true,\"type\":\"pie\"}]},\"layout\":{\"autotypenumbers\":\"strict\",\"colorway\":[\"#636efa\",\"#EF553B\",\"#00cc96\",\"#ab63fa\",\"#FFA15A\",\"#19d3f3\",\"#FF6692\",\"#B6E880\",\"#FF97FF\",\"#FECB52\"],\"font\":{\"color\":\"#2a3f5f\"},\"hovermode\":\"closest\",\"hoverlabel\":{\"align\":\"left\"},\"paper_bgcolor\":\"white\",\"plot_bgcolor\":\"#E5ECF6\",\"polar\":{\"bgcolor\":\"#E5ECF6\",\"angularaxis\":{\"gridcolor\":\"white\",\"linecolor\":\"white\",\"ticks\":\"\"},\"radialaxis\":{\"gridcolor\":\"white\",\"linecolor\":\"white\",\"ticks\":\"\"}},\"ternary\":{\"bgcolor\":\"#E5ECF6\",\"aaxis\":{\"gridcolor\":\"white\",\"linecolor\":\"white\",\"ticks\":\"\"},\"baxis\":{\"gridcolor\":\"white\",\"linecolor\":\"white\",\"ticks\":\"\"},\"caxis\":{\"gridcolor\":\"white\",\"linecolor\":\"white\",\"ticks\":\"\"}},\"coloraxis\":{\"colorbar\":{\"outlinewidth\":0,\"ticks\":\"\"}},\"colorscale\":{\"sequential\":[[0.0,\"#0d0887\"],[0.1111111111111111,\"#46039f\"],[0.2222222222222222,\"#7201a8\"],[0.3333333333333333,\"#9c179e\"],[0.4444444444444444,\"#bd3786\"],[0.5555555555555556,\"#d8576b\"],[0.6666666666666666,\"#ed7953\"],[0.7777777777777778,\"#fb9f3a\"],[0.8888888888888888,\"#fdca26\"],[1.0,\"#f0f921\"]],\"sequentialminus\":[[0.0,\"#0d0887\"],[0.1111111111111111,\"#46039f\"],[0.2222222222222222,\"#7201a8\"],[0.3333333333333333,\"#9c179e\"],[0.4444444444444444,\"#bd3786\"],[0.5555555555555556,\"#d8576b\"],[0.6666666666666666,\"#ed7953\"],[0.7777777777777778,\"#fb9f3a\"],[0.8888888888888888,\"#fdca26\"],[1.0,\"#f0f921\"]],\"diverging\":[[0,\"#8e0152\"],[0.1,\"#c51b7d\"],[0.2,\"#de77ae\"],[0.3,\"#f1b6da\"],[0.4,\"#fde0ef\"],[0.5,\"#f7f7f7\"],[0.6,\"#e6f5d0\"],[0.7,\"#b8e186\"],[0.8,\"#7fbc41\"],[0.9,\"#4d9221\"],[1,\"#276419\"]]},\"xaxis\":{\"gridcolor\":\"white\",\"linecolor\":\"white\",\"ticks\":\"\",\"title\":{\"standoff\":15},\"zerolinecolor\":\"white\",\"automargin\":true,\"zerolinewidth\":2},\"yaxis\":{\"gridcolor\":\"white\",\"linecolor\":\"white\",\"ticks\":\"\",\"title\":{\"standoff\":15},\"zerolinecolor\":\"white\",\"automargin\":true,\"zerolinewidth\":2},\"scene\":{\"xaxis\":{\"backgroundcolor\":\"#E5ECF6\",\"gridcolor\":\"white\",\"linecolor\":\"white\",\"showbackground\":true,\"ticks\":\"\",\"zerolinecolor\":\"white\",\"gridwidth\":2},\"yaxis\":{\"backgroundcolor\":\"#E5ECF6\",\"gridcolor\":\"white\",\"linecolor\":\"white\",\"showbackground\":true,\"ticks\":\"\",\"zerolinecolor\":\"white\",\"gridwidth\":2},\"zaxis\":{\"backgroundcolor\":\"#E5ECF6\",\"gridcolor\":\"white\",\"linecolor\":\"white\",\"showbackground\":true,\"ticks\":\"\",\"zerolinecolor\":\"white\",\"gridwidth\":2}},\"shapedefaults\":{\"line\":{\"color\":\"#2a3f5f\"}},\"annotationdefaults\":{\"arrowcolor\":\"#2a3f5f\",\"arrowhead\":0,\"arrowwidth\":1},\"geo\":{\"bgcolor\":\"white\",\"landcolor\":\"#E5ECF6\",\"subunitcolor\":\"white\",\"showland\":true,\"showlakes\":true,\"lakecolor\":\"white\"},\"title\":{\"x\":0.05},\"mapbox\":{\"style\":\"light\"}}},\"xaxis\":{\"anchor\":\"y\",\"domain\":[0.0,1.0],\"title\":{\"text\":\"W-L%\"}},\"yaxis\":{\"anchor\":\"x\",\"domain\":[0.0,1.0],\"title\":{\"text\":\"SRS\"}},\"legend\":{\"title\":{\"text\":\"progression\"},\"tracegroupgap\":0},\"margin\":{\"t\":60}},                        {\"responsive\": true}                    ).then(function(){\n",
       "                            \n",
       "var gd = document.getElementById('df32c50e-608a-4353-a29e-1ae31fd65f40');\n",
       "var x = new MutationObserver(function (mutations, observer) {{\n",
       "        var display = window.getComputedStyle(gd).display;\n",
       "        if (!display || display === 'none') {{\n",
       "            console.log([gd, 'removed!']);\n",
       "            Plotly.purge(gd);\n",
       "            observer.disconnect();\n",
       "        }}\n",
       "}});\n",
       "\n",
       "// Listen for the removal of the full notebook cells\n",
       "var notebookContainer = gd.closest('#notebook-container');\n",
       "if (notebookContainer) {{\n",
       "    x.observe(notebookContainer, {childList: true});\n",
       "}}\n",
       "\n",
       "// Listen for the clearing of the current output cell\n",
       "var outputEl = gd.closest('.output');\n",
       "if (outputEl) {{\n",
       "    x.observe(outputEl, {childList: true});\n",
       "}}\n",
       "\n",
       "                        })                };                });            </script>        </div>"
      ]
     },
     "metadata": {},
     "output_type": "display_data"
    },
    {
     "data": {
      "image/png": "[encoded data removed]",
      "text/plain": [
       "<Figure size 640x480 with 1 Axes>"
      ]
     },
     "metadata": {},
     "output_type": "display_data"
    }
   ],
   "source": [
    "# Select the rows where 'SOS' and 'W-L%' are not NaN and sort by 'SOS' and 'W-L%'\n",
    "#sorted_sos = df[['SRS', 'W-L%', 'School', 'Tournament']].dropna().sort_values('SRS', ascending=False).iloc[:6]\n",
    "#sorted_wl = df[['SRS', 'W-L%', 'School', 'Tournament']].dropna().sort_values('W-L%', ascending=False).iloc[:6]\n",
    "\n",
    "# Create the scatterplot\n",
    "sns.scatterplot(x='W-L%', y='SRS', hue='progression', data=df,\n",
    "                palette=['#DCE6FB','#B3DEF8','#F0EAFC','#C7E2F9','#9EDAF6','#61CEF2','#75D2F3','#8AD6F5'])\n",
    "#['#F0EAFC','#DCE6FB','#C7E2F9','#B3DEF8','#9EDAF6','#8AD6F5','#75D2F3','#61CEF2']\n",
    "\n",
    "\n",
    "# Add the top and bottom 3 labels\n",
    "#for i, row in sorted_sos.iterrows():\n",
    "#    color = 'blue' if row['Tournament'] == 'Yes' else 'red'\n",
    "#    plt.text(row['W-L%'], row['SRS'], row['School'], ha='center', fontsize=10, color=color)\n",
    "    \n",
    "#for i, row in sorted_wl.iterrows():\n",
    "#    color = 'blue' if row['Tournament'] == 'Yes' else 'red'\n",
    "#    plt.text(row['W-L%'], row['SRS'], row['School'], ha='center', fontsize=10, color=color)\n",
    "\n",
    "# Add axis labels and title\n",
    "plt.xlabel('Win-Loss Ratio')\n",
    "plt.ylabel('SRS')\n",
    "plt.suptitle('_',y=.915)\n",
    "plt.title('Winning % vs SRS', fontsize=16, fontweight='bold',y=1.05)\n",
    "plt.legend(title='Tournament Status and Round Reached', loc='best')\n",
    "\n",
    "# reordering the labels\n",
    "handles, labels = plt.gca().get_legend_handles_labels()\n",
    "# specify order\n",
    "order = [1, 3, 0, 2,4,7,6,5]\n",
    "  \n",
    "# pass handle & labels lists along with order as below\n",
    "plt.legend([handles[i] for i in order], [labels[i] for i in order])\n",
    "\n",
    "fig.update_traces(marker=dict(size=12,\n",
    "                              line=dict(width=2,\n",
    "                                        color='DarkSlateGrey')),\n",
    "                  selector=dict(mode='markers'))\n",
    "\n",
    "fig.show()"
   ]
  },
  {
   "cell_type": "code",
   "execution_count": 171,
   "id": "f44764fe",
   "metadata": {},
   "outputs": [
    {
     "ename": "ValueError",
     "evalue": "\n    Invalid element(s) received for the 'color' property of scatter.marker\n        Invalid elements include: ['Round32', 'Nada', 'Nada', 'Sweet16', 'Nada', 'Nada', 'Nada', 'Nada', 'Nada', 'Tournament']\n\n    The 'color' property is a color and may be specified as:\n      - A hex string (e.g. '#ff0000')\n      - An rgb/rgba string (e.g. 'rgb(255,0,0)')\n      - An hsl/hsla string (e.g. 'hsl(0,100%,50%)')\n      - An hsv/hsva string (e.g. 'hsv(0,100%,100%)')\n      - A named CSS color:\n            aliceblue, antiquewhite, aqua, aquamarine, azure,\n            beige, bisque, black, blanchedalmond, blue,\n            blueviolet, brown, burlywood, cadetblue,\n            chartreuse, chocolate, coral, cornflowerblue,\n            cornsilk, crimson, cyan, darkblue, darkcyan,\n            darkgoldenrod, darkgray, darkgrey, darkgreen,\n            darkkhaki, darkmagenta, darkolivegreen, darkorange,\n            darkorchid, darkred, darksalmon, darkseagreen,\n            darkslateblue, darkslategray, darkslategrey,\n            darkturquoise, darkviolet, deeppink, deepskyblue,\n            dimgray, dimgrey, dodgerblue, firebrick,\n            floralwhite, forestgreen, fuchsia, gainsboro,\n            ghostwhite, gold, goldenrod, gray, grey, green,\n            greenyellow, honeydew, hotpink, indianred, indigo,\n            ivory, khaki, lavender, lavenderblush, lawngreen,\n            lemonchiffon, lightblue, lightcoral, lightcyan,\n            lightgoldenrodyellow, lightgray, lightgrey,\n            lightgreen, lightpink, lightsalmon, lightseagreen,\n            lightskyblue, lightslategray, lightslategrey,\n            lightsteelblue, lightyellow, lime, limegreen,\n            linen, magenta, maroon, mediumaquamarine,\n            mediumblue, mediumorchid, mediumpurple,\n            mediumseagreen, mediumslateblue, mediumspringgreen,\n            mediumturquoise, mediumvioletred, midnightblue,\n            mintcream, mistyrose, moccasin, navajowhite, navy,\n            oldlace, olive, olivedrab, orange, orangered,\n            orchid, palegoldenrod, palegreen, paleturquoise,\n            palevioletred, papayawhip, peachpuff, peru, pink,\n            plum, powderblue, purple, red, rosybrown,\n            royalblue, rebeccapurple, saddlebrown, salmon,\n            sandybrown, seagreen, seashell, sienna, silver,\n            skyblue, slateblue, slategray, slategrey, snow,\n            springgreen, steelblue, tan, teal, thistle, tomato,\n            turquoise, violet, wheat, white, whitesmoke,\n            yellow, yellowgreen\n      - A number that will be interpreted as a color\n        according to scatter.marker.colorscale\n      - A list or array of any of the above",
     "output_type": "error",
     "traceback": [
      "\u001b[0;31m---------------------------------------------------------------------------\u001b[0m",
      "\u001b[0;31mValueError\u001b[0m                                Traceback (most recent call last)",
      "\u001b[0;32m/var/folders/6c/6_yvphyn6jx_slx7qlbq1ngm0000gn/T/ipykernel_10879/97125328.py\u001b[0m in \u001b[0;36m<module>\u001b[0;34m\u001b[0m\n\u001b[1;32m     10\u001b[0m                  color_discrete_map=color_map, size_max=1111)\n\u001b[1;32m     11\u001b[0m \u001b[0;31m# Create the plot trace\u001b[0m\u001b[0;34m\u001b[0m\u001b[0;34m\u001b[0m\u001b[0m\n\u001b[0;32m---> 12\u001b[0;31m \u001b[0mtrace\u001b[0m \u001b[0;34m=\u001b[0m \u001b[0mgo\u001b[0m\u001b[0;34m.\u001b[0m\u001b[0mScatter\u001b[0m\u001b[0;34m(\u001b[0m\u001b[0mx\u001b[0m\u001b[0;34m=\u001b[0m\u001b[0mdf\u001b[0m\u001b[0;34m[\u001b[0m\u001b[0;34m'W-L%'\u001b[0m\u001b[0;34m]\u001b[0m\u001b[0;34m,\u001b[0m \u001b[0my\u001b[0m\u001b[0;34m=\u001b[0m\u001b[0mdf\u001b[0m\u001b[0;34m[\u001b[0m\u001b[0;34m'SRS'\u001b[0m\u001b[0;34m]\u001b[0m\u001b[0;34m,\u001b[0m \u001b[0mmode\u001b[0m\u001b[0;34m=\u001b[0m\u001b[0;34m'markers'\u001b[0m\u001b[0;34m,\u001b[0m \u001b[0mmarker\u001b[0m\u001b[0;34m=\u001b[0m\u001b[0mdict\u001b[0m\u001b[0;34m(\u001b[0m\u001b[0msize\u001b[0m\u001b[0;34m=\u001b[0m\u001b[0;36m10\u001b[0m\u001b[0;34m,\u001b[0m \u001b[0mcolor\u001b[0m\u001b[0;34m=\u001b[0m\u001b[0mdf\u001b[0m\u001b[0;34m[\u001b[0m\u001b[0;34m'progression'\u001b[0m\u001b[0;34m]\u001b[0m\u001b[0;34m,\u001b[0m \u001b[0mcolorscale\u001b[0m\u001b[0;34m=\u001b[0m\u001b[0mcolor_map\u001b[0m\u001b[0;34m)\u001b[0m\u001b[0;34m)\u001b[0m\u001b[0;34m\u001b[0m\u001b[0;34m\u001b[0m\u001b[0m\n\u001b[0m\u001b[1;32m     13\u001b[0m \u001b[0;34m\u001b[0m\u001b[0m\n\u001b[1;32m     14\u001b[0m \u001b[0;31m# Create the plot layout\u001b[0m\u001b[0;34m\u001b[0m\u001b[0;34m\u001b[0m\u001b[0m\n",
      "\u001b[0;32m~/opt/anaconda3/lib/python3.9/site-packages/plotly/graph_objs/_scatter.py\u001b[0m in \u001b[0;36m__init__\u001b[0;34m(self, arg, cliponaxis, connectgaps, customdata, customdatasrc, dx, dy, error_x, error_y, fill, fillcolor, fillpattern, groupnorm, hoverinfo, hoverinfosrc, hoverlabel, hoveron, hovertemplate, hovertemplatesrc, hovertext, hovertextsrc, ids, idssrc, legendgroup, legendgrouptitle, legendrank, line, marker, meta, metasrc, mode, name, opacity, orientation, selected, selectedpoints, showlegend, stackgaps, stackgroup, stream, text, textfont, textposition, textpositionsrc, textsrc, texttemplate, texttemplatesrc, uid, uirevision, unselected, visible, x, x0, xaxis, xcalendar, xhoverformat, xperiod, xperiod0, xperiodalignment, xsrc, y, y0, yaxis, ycalendar, yhoverformat, yperiod, yperiod0, yperiodalignment, ysrc, **kwargs)\u001b[0m\n\u001b[1;32m   3194\u001b[0m         \u001b[0m_v\u001b[0m \u001b[0;34m=\u001b[0m \u001b[0mmarker\u001b[0m \u001b[0;32mif\u001b[0m \u001b[0mmarker\u001b[0m \u001b[0;32mis\u001b[0m \u001b[0;32mnot\u001b[0m \u001b[0;32mNone\u001b[0m \u001b[0;32melse\u001b[0m \u001b[0m_v\u001b[0m\u001b[0;34m\u001b[0m\u001b[0;34m\u001b[0m\u001b[0m\n\u001b[1;32m   3195\u001b[0m         \u001b[0;32mif\u001b[0m \u001b[0m_v\u001b[0m \u001b[0;32mis\u001b[0m \u001b[0;32mnot\u001b[0m \u001b[0;32mNone\u001b[0m\u001b[0;34m:\u001b[0m\u001b[0;34m\u001b[0m\u001b[0;34m\u001b[0m\u001b[0m\n\u001b[0;32m-> 3196\u001b[0;31m             \u001b[0mself\u001b[0m\u001b[0;34m[\u001b[0m\u001b[0;34m\"marker\"\u001b[0m\u001b[0;34m]\u001b[0m \u001b[0;34m=\u001b[0m \u001b[0m_v\u001b[0m\u001b[0;34m\u001b[0m\u001b[0;34m\u001b[0m\u001b[0m\n\u001b[0m\u001b[1;32m   3197\u001b[0m         \u001b[0m_v\u001b[0m \u001b[0;34m=\u001b[0m \u001b[0marg\u001b[0m\u001b[0;34m.\u001b[0m\u001b[0mpop\u001b[0m\u001b[0;34m(\u001b[0m\u001b[0;34m\"meta\"\u001b[0m\u001b[0;34m,\u001b[0m \u001b[0;32mNone\u001b[0m\u001b[0;34m)\u001b[0m\u001b[0;34m\u001b[0m\u001b[0;34m\u001b[0m\u001b[0m\n\u001b[1;32m   3198\u001b[0m         \u001b[0m_v\u001b[0m \u001b[0;34m=\u001b[0m \u001b[0mmeta\u001b[0m \u001b[0;32mif\u001b[0m \u001b[0mmeta\u001b[0m \u001b[0;32mis\u001b[0m \u001b[0;32mnot\u001b[0m \u001b[0;32mNone\u001b[0m \u001b[0;32melse\u001b[0m \u001b[0m_v\u001b[0m\u001b[0;34m\u001b[0m\u001b[0;34m\u001b[0m\u001b[0m\n",
      "\u001b[0;32m~/opt/anaconda3/lib/python3.9/site-packages/plotly/basedatatypes.py\u001b[0m in \u001b[0;36m__setitem__\u001b[0;34m(self, prop, value)\u001b[0m\n\u001b[1;32m   4849\u001b[0m                 \u001b[0;31m# ### Handle compound property ###\u001b[0m\u001b[0;34m\u001b[0m\u001b[0;34m\u001b[0m\u001b[0m\n\u001b[1;32m   4850\u001b[0m                 \u001b[0;32mif\u001b[0m \u001b[0misinstance\u001b[0m\u001b[0;34m(\u001b[0m\u001b[0mvalidator\u001b[0m\u001b[0;34m,\u001b[0m \u001b[0mCompoundValidator\u001b[0m\u001b[0;34m)\u001b[0m\u001b[0;34m:\u001b[0m\u001b[0;34m\u001b[0m\u001b[0;34m\u001b[0m\u001b[0m\n\u001b[0;32m-> 4851\u001b[0;31m                     \u001b[0mself\u001b[0m\u001b[0;34m.\u001b[0m\u001b[0m_set_compound_prop\u001b[0m\u001b[0;34m(\u001b[0m\u001b[0mprop\u001b[0m\u001b[0;34m,\u001b[0m \u001b[0mvalue\u001b[0m\u001b[0;34m)\u001b[0m\u001b[0;34m\u001b[0m\u001b[0;34m\u001b[0m\u001b[0m\n\u001b[0m\u001b[1;32m   4852\u001b[0m \u001b[0;34m\u001b[0m\u001b[0m\n\u001b[1;32m   4853\u001b[0m                 \u001b[0;31m# ### Handle compound array property ###\u001b[0m\u001b[0;34m\u001b[0m\u001b[0;34m\u001b[0m\u001b[0m\n",
      "\u001b[0;32m~/opt/anaconda3/lib/python3.9/site-packages/plotly/basedatatypes.py\u001b[0m in \u001b[0;36m_set_compound_prop\u001b[0;34m(self, prop, val)\u001b[0m\n\u001b[1;32m   5260\u001b[0m         \u001b[0;31m# ------------\u001b[0m\u001b[0;34m\u001b[0m\u001b[0;34m\u001b[0m\u001b[0m\n\u001b[1;32m   5261\u001b[0m         \u001b[0mvalidator\u001b[0m \u001b[0;34m=\u001b[0m \u001b[0mself\u001b[0m\u001b[0;34m.\u001b[0m\u001b[0m_get_validator\u001b[0m\u001b[0;34m(\u001b[0m\u001b[0mprop\u001b[0m\u001b[0;34m)\u001b[0m\u001b[0;34m\u001b[0m\u001b[0;34m\u001b[0m\u001b[0m\n\u001b[0;32m-> 5262\u001b[0;31m         \u001b[0mval\u001b[0m \u001b[0;34m=\u001b[0m \u001b[0mvalidator\u001b[0m\u001b[0;34m.\u001b[0m\u001b[0mvalidate_coerce\u001b[0m\u001b[0;34m(\u001b[0m\u001b[0mval\u001b[0m\u001b[0;34m,\u001b[0m \u001b[0mskip_invalid\u001b[0m\u001b[0;34m=\u001b[0m\u001b[0mself\u001b[0m\u001b[0;34m.\u001b[0m\u001b[0m_skip_invalid\u001b[0m\u001b[0;34m)\u001b[0m\u001b[0;34m\u001b[0m\u001b[0;34m\u001b[0m\u001b[0m\n\u001b[0m\u001b[1;32m   5263\u001b[0m \u001b[0;34m\u001b[0m\u001b[0m\n\u001b[1;32m   5264\u001b[0m         \u001b[0;31m# Save deep copies of current and new states\u001b[0m\u001b[0;34m\u001b[0m\u001b[0;34m\u001b[0m\u001b[0m\n",
      "\u001b[0;32m~/opt/anaconda3/lib/python3.9/site-packages/_plotly_utils/basevalidators.py\u001b[0m in \u001b[0;36mvalidate_coerce\u001b[0;34m(self, v, skip_invalid, _validate)\u001b[0m\n\u001b[1;32m   2453\u001b[0m \u001b[0;34m\u001b[0m\u001b[0m\n\u001b[1;32m   2454\u001b[0m         \u001b[0;32melif\u001b[0m \u001b[0misinstance\u001b[0m\u001b[0;34m(\u001b[0m\u001b[0mv\u001b[0m\u001b[0;34m,\u001b[0m \u001b[0mdict\u001b[0m\u001b[0;34m)\u001b[0m\u001b[0;34m:\u001b[0m\u001b[0;34m\u001b[0m\u001b[0;34m\u001b[0m\u001b[0m\n\u001b[0;32m-> 2455\u001b[0;31m             \u001b[0mv\u001b[0m \u001b[0;34m=\u001b[0m \u001b[0mself\u001b[0m\u001b[0;34m.\u001b[0m\u001b[0mdata_class\u001b[0m\u001b[0;34m(\u001b[0m\u001b[0mv\u001b[0m\u001b[0;34m,\u001b[0m \u001b[0mskip_invalid\u001b[0m\u001b[0;34m=\u001b[0m\u001b[0mskip_invalid\u001b[0m\u001b[0;34m,\u001b[0m \u001b[0m_validate\u001b[0m\u001b[0;34m=\u001b[0m\u001b[0m_validate\u001b[0m\u001b[0;34m)\u001b[0m\u001b[0;34m\u001b[0m\u001b[0;34m\u001b[0m\u001b[0m\n\u001b[0m\u001b[1;32m   2456\u001b[0m \u001b[0;34m\u001b[0m\u001b[0m\n\u001b[1;32m   2457\u001b[0m         \u001b[0;32melif\u001b[0m \u001b[0misinstance\u001b[0m\u001b[0;34m(\u001b[0m\u001b[0mv\u001b[0m\u001b[0;34m,\u001b[0m \u001b[0mself\u001b[0m\u001b[0;34m.\u001b[0m\u001b[0mdata_class\u001b[0m\u001b[0;34m)\u001b[0m\u001b[0;34m:\u001b[0m\u001b[0;34m\u001b[0m\u001b[0;34m\u001b[0m\u001b[0m\n",
      "\u001b[0;32m~/opt/anaconda3/lib/python3.9/site-packages/plotly/graph_objs/scatter/_marker.py\u001b[0m in \u001b[0;36m__init__\u001b[0;34m(self, arg, autocolorscale, cauto, cmax, cmid, cmin, color, coloraxis, colorbar, colorscale, colorsrc, gradient, line, maxdisplayed, opacity, opacitysrc, reversescale, showscale, size, sizemin, sizemode, sizeref, sizesrc, symbol, symbolsrc, **kwargs)\u001b[0m\n\u001b[1;32m   1425\u001b[0m         \u001b[0m_v\u001b[0m \u001b[0;34m=\u001b[0m \u001b[0mcolor\u001b[0m \u001b[0;32mif\u001b[0m \u001b[0mcolor\u001b[0m \u001b[0;32mis\u001b[0m \u001b[0;32mnot\u001b[0m \u001b[0;32mNone\u001b[0m \u001b[0;32melse\u001b[0m \u001b[0m_v\u001b[0m\u001b[0;34m\u001b[0m\u001b[0;34m\u001b[0m\u001b[0m\n\u001b[1;32m   1426\u001b[0m         \u001b[0;32mif\u001b[0m \u001b[0m_v\u001b[0m \u001b[0;32mis\u001b[0m \u001b[0;32mnot\u001b[0m \u001b[0;32mNone\u001b[0m\u001b[0;34m:\u001b[0m\u001b[0;34m\u001b[0m\u001b[0;34m\u001b[0m\u001b[0m\n\u001b[0;32m-> 1427\u001b[0;31m             \u001b[0mself\u001b[0m\u001b[0;34m[\u001b[0m\u001b[0;34m\"color\"\u001b[0m\u001b[0;34m]\u001b[0m \u001b[0;34m=\u001b[0m \u001b[0m_v\u001b[0m\u001b[0;34m\u001b[0m\u001b[0;34m\u001b[0m\u001b[0m\n\u001b[0m\u001b[1;32m   1428\u001b[0m         \u001b[0m_v\u001b[0m \u001b[0;34m=\u001b[0m \u001b[0marg\u001b[0m\u001b[0;34m.\u001b[0m\u001b[0mpop\u001b[0m\u001b[0;34m(\u001b[0m\u001b[0;34m\"coloraxis\"\u001b[0m\u001b[0;34m,\u001b[0m \u001b[0;32mNone\u001b[0m\u001b[0;34m)\u001b[0m\u001b[0;34m\u001b[0m\u001b[0;34m\u001b[0m\u001b[0m\n\u001b[1;32m   1429\u001b[0m         \u001b[0m_v\u001b[0m \u001b[0;34m=\u001b[0m \u001b[0mcoloraxis\u001b[0m \u001b[0;32mif\u001b[0m \u001b[0mcoloraxis\u001b[0m \u001b[0;32mis\u001b[0m \u001b[0;32mnot\u001b[0m \u001b[0;32mNone\u001b[0m \u001b[0;32melse\u001b[0m \u001b[0m_v\u001b[0m\u001b[0;34m\u001b[0m\u001b[0;34m\u001b[0m\u001b[0m\n",
      "\u001b[0;32m~/opt/anaconda3/lib/python3.9/site-packages/plotly/basedatatypes.py\u001b[0m in \u001b[0;36m__setitem__\u001b[0;34m(self, prop, value)\u001b[0m\n\u001b[1;32m   4857\u001b[0m                 \u001b[0;31m# ### Handle simple property ###\u001b[0m\u001b[0;34m\u001b[0m\u001b[0;34m\u001b[0m\u001b[0m\n\u001b[1;32m   4858\u001b[0m                 \u001b[0;32melse\u001b[0m\u001b[0;34m:\u001b[0m\u001b[0;34m\u001b[0m\u001b[0;34m\u001b[0m\u001b[0m\n\u001b[0;32m-> 4859\u001b[0;31m                     \u001b[0mself\u001b[0m\u001b[0;34m.\u001b[0m\u001b[0m_set_prop\u001b[0m\u001b[0;34m(\u001b[0m\u001b[0mprop\u001b[0m\u001b[0;34m,\u001b[0m \u001b[0mvalue\u001b[0m\u001b[0;34m)\u001b[0m\u001b[0;34m\u001b[0m\u001b[0;34m\u001b[0m\u001b[0m\n\u001b[0m\u001b[1;32m   4860\u001b[0m             \u001b[0;32melse\u001b[0m\u001b[0;34m:\u001b[0m\u001b[0;34m\u001b[0m\u001b[0;34m\u001b[0m\u001b[0m\n\u001b[1;32m   4861\u001b[0m                 \u001b[0;31m# Make sure properties dict is initialized\u001b[0m\u001b[0;34m\u001b[0m\u001b[0;34m\u001b[0m\u001b[0m\n",
      "\u001b[0;32m~/opt/anaconda3/lib/python3.9/site-packages/plotly/basedatatypes.py\u001b[0m in \u001b[0;36m_set_prop\u001b[0;34m(self, prop, val)\u001b[0m\n\u001b[1;32m   5201\u001b[0m                 \u001b[0;32mreturn\u001b[0m\u001b[0;34m\u001b[0m\u001b[0;34m\u001b[0m\u001b[0m\n\u001b[1;32m   5202\u001b[0m             \u001b[0;32melse\u001b[0m\u001b[0;34m:\u001b[0m\u001b[0;34m\u001b[0m\u001b[0;34m\u001b[0m\u001b[0m\n\u001b[0;32m-> 5203\u001b[0;31m                 \u001b[0;32mraise\u001b[0m \u001b[0merr\u001b[0m\u001b[0;34m\u001b[0m\u001b[0;34m\u001b[0m\u001b[0m\n\u001b[0m\u001b[1;32m   5204\u001b[0m \u001b[0;34m\u001b[0m\u001b[0m\n\u001b[1;32m   5205\u001b[0m         \u001b[0;31m# val is None\u001b[0m\u001b[0;34m\u001b[0m\u001b[0;34m\u001b[0m\u001b[0m\n",
      "\u001b[0;32m~/opt/anaconda3/lib/python3.9/site-packages/plotly/basedatatypes.py\u001b[0m in \u001b[0;36m_set_prop\u001b[0;34m(self, prop, val)\u001b[0m\n\u001b[1;32m   5196\u001b[0m \u001b[0;34m\u001b[0m\u001b[0m\n\u001b[1;32m   5197\u001b[0m         \u001b[0;32mtry\u001b[0m\u001b[0;34m:\u001b[0m\u001b[0;34m\u001b[0m\u001b[0;34m\u001b[0m\u001b[0m\n\u001b[0;32m-> 5198\u001b[0;31m             \u001b[0mval\u001b[0m \u001b[0;34m=\u001b[0m \u001b[0mvalidator\u001b[0m\u001b[0;34m.\u001b[0m\u001b[0mvalidate_coerce\u001b[0m\u001b[0;34m(\u001b[0m\u001b[0mval\u001b[0m\u001b[0;34m)\u001b[0m\u001b[0;34m\u001b[0m\u001b[0;34m\u001b[0m\u001b[0m\n\u001b[0m\u001b[1;32m   5199\u001b[0m         \u001b[0;32mexcept\u001b[0m \u001b[0mValueError\u001b[0m \u001b[0;32mas\u001b[0m \u001b[0merr\u001b[0m\u001b[0;34m:\u001b[0m\u001b[0;34m\u001b[0m\u001b[0;34m\u001b[0m\u001b[0m\n\u001b[1;32m   5200\u001b[0m             \u001b[0;32mif\u001b[0m \u001b[0mself\u001b[0m\u001b[0;34m.\u001b[0m\u001b[0m_skip_invalid\u001b[0m\u001b[0;34m:\u001b[0m\u001b[0;34m\u001b[0m\u001b[0;34m\u001b[0m\u001b[0m\n",
      "\u001b[0;32m~/opt/anaconda3/lib/python3.9/site-packages/_plotly_utils/basevalidators.py\u001b[0m in \u001b[0;36mvalidate_coerce\u001b[0;34m(self, v, should_raise)\u001b[0m\n\u001b[1;32m   1353\u001b[0m \u001b[0;34m\u001b[0m\u001b[0m\n\u001b[1;32m   1354\u001b[0m                 \u001b[0;32mif\u001b[0m \u001b[0minvalid_els\u001b[0m \u001b[0;32mand\u001b[0m \u001b[0mshould_raise\u001b[0m\u001b[0;34m:\u001b[0m\u001b[0;34m\u001b[0m\u001b[0;34m\u001b[0m\u001b[0m\n\u001b[0;32m-> 1355\u001b[0;31m                     \u001b[0mself\u001b[0m\u001b[0;34m.\u001b[0m\u001b[0mraise_invalid_elements\u001b[0m\u001b[0;34m(\u001b[0m\u001b[0minvalid_els\u001b[0m\u001b[0;34m)\u001b[0m\u001b[0;34m\u001b[0m\u001b[0;34m\u001b[0m\u001b[0m\n\u001b[0m\u001b[1;32m   1356\u001b[0m \u001b[0;34m\u001b[0m\u001b[0m\n\u001b[1;32m   1357\u001b[0m                 \u001b[0;31m# ### Check that elements have valid colors types ###\u001b[0m\u001b[0;34m\u001b[0m\u001b[0;34m\u001b[0m\u001b[0m\n",
      "\u001b[0;32m~/opt/anaconda3/lib/python3.9/site-packages/_plotly_utils/basevalidators.py\u001b[0m in \u001b[0;36mraise_invalid_elements\u001b[0;34m(self, invalid_els)\u001b[0m\n\u001b[1;32m    302\u001b[0m     \u001b[0;32mdef\u001b[0m \u001b[0mraise_invalid_elements\u001b[0m\u001b[0;34m(\u001b[0m\u001b[0mself\u001b[0m\u001b[0;34m,\u001b[0m \u001b[0minvalid_els\u001b[0m\u001b[0;34m)\u001b[0m\u001b[0;34m:\u001b[0m\u001b[0;34m\u001b[0m\u001b[0;34m\u001b[0m\u001b[0m\n\u001b[1;32m    303\u001b[0m         \u001b[0;32mif\u001b[0m \u001b[0minvalid_els\u001b[0m\u001b[0;34m:\u001b[0m\u001b[0;34m\u001b[0m\u001b[0;34m\u001b[0m\u001b[0m\n\u001b[0;32m--> 304\u001b[0;31m             raise ValueError(\n\u001b[0m\u001b[1;32m    305\u001b[0m                 \"\"\"\n\u001b[1;32m    306\u001b[0m     \u001b[0mInvalid\u001b[0m \u001b[0melement\u001b[0m\u001b[0;34m(\u001b[0m\u001b[0ms\u001b[0m\u001b[0;34m)\u001b[0m \u001b[0mreceived\u001b[0m \u001b[0;32mfor\u001b[0m \u001b[0mthe\u001b[0m \u001b[0;34m'{name}'\u001b[0m \u001b[0mproperty\u001b[0m \u001b[0mof\u001b[0m \u001b[0;34m{\u001b[0m\u001b[0mpname\u001b[0m\u001b[0;34m}\u001b[0m\u001b[0;34m\u001b[0m\u001b[0;34m\u001b[0m\u001b[0m\n",
      "\u001b[0;31mValueError\u001b[0m: \n    Invalid element(s) received for the 'color' property of scatter.marker\n        Invalid elements include: ['Round32', 'Nada', 'Nada', 'Sweet16', 'Nada', 'Nada', 'Nada', 'Nada', 'Nada', 'Tournament']\n\n    The 'color' property is a color and may be specified as:\n      - A hex string (e.g. '#ff0000')\n      - An rgb/rgba string (e.g. 'rgb(255,0,0)')\n      - An hsl/hsla string (e.g. 'hsl(0,100%,50%)')\n      - An hsv/hsva string (e.g. 'hsv(0,100%,100%)')\n      - A named CSS color:\n            aliceblue, antiquewhite, aqua, aquamarine, azure,\n            beige, bisque, black, blanchedalmond, blue,\n            blueviolet, brown, burlywood, cadetblue,\n            chartreuse, chocolate, coral, cornflowerblue,\n            cornsilk, crimson, cyan, darkblue, darkcyan,\n            darkgoldenrod, darkgray, darkgrey, darkgreen,\n            darkkhaki, darkmagenta, darkolivegreen, darkorange,\n            darkorchid, darkred, darksalmon, darkseagreen,\n            darkslateblue, darkslategray, darkslategrey,\n            darkturquoise, darkviolet, deeppink, deepskyblue,\n            dimgray, dimgrey, dodgerblue, firebrick,\n            floralwhite, forestgreen, fuchsia, gainsboro,\n            ghostwhite, gold, goldenrod, gray, grey, green,\n            greenyellow, honeydew, hotpink, indianred, indigo,\n            ivory, khaki, lavender, lavenderblush, lawngreen,\n            lemonchiffon, lightblue, lightcoral, lightcyan,\n            lightgoldenrodyellow, lightgray, lightgrey,\n            lightgreen, lightpink, lightsalmon, lightseagreen,\n            lightskyblue, lightslategray, lightslategrey,\n            lightsteelblue, lightyellow, lime, limegreen,\n            linen, magenta, maroon, mediumaquamarine,\n            mediumblue, mediumorchid, mediumpurple,\n            mediumseagreen, mediumslateblue, mediumspringgreen,\n            mediumturquoise, mediumvioletred, midnightblue,\n            mintcream, mistyrose, moccasin, navajowhite, navy,\n            oldlace, olive, olivedrab, orange, orangered,\n            orchid, palegoldenrod, palegreen, paleturquoise,\n            palevioletred, papayawhip, peachpuff, peru, pink,\n            plum, powderblue, purple, red, rosybrown,\n            royalblue, rebeccapurple, saddlebrown, salmon,\n            sandybrown, seagreen, seashell, sienna, silver,\n            skyblue, slateblue, slategray, slategrey, snow,\n            springgreen, steelblue, tan, teal, thistle, tomato,\n            turquoise, violet, wheat, white, whitesmoke,\n            yellow, yellowgreen\n      - A number that will be interpreted as a color\n        according to scatter.marker.colorscale\n      - A list or array of any of the above"
     ]
    }
   ],
   "source": [
    "import plotly.express as px\n",
    "\n",
    "# Define a custom color map\n",
    "color_map = {'Nada':'#F0EAFC','Tournament':'#DCE6FB','Round32':'#C7E2F9','Sweet16':'#B3DEF8',\n",
    "             \"Elite8\":'#9EDAF6','Final4':'#8AD6F5','Final2':'#75D2F3','Champion':'#61CEF2'} \n",
    "\n",
    "#['#F0EAFC','#DCE6FB','#C7E2F9','#B3DEF8','#9EDAF6','#8AD6F5','#75D2F3','#61CEF2']\n",
    "\n",
    "fig = px.scatter(df, x='W-L%', y='SRS', color='progression', hover_name='School', \n",
    "                 color_discrete_map=color_map, size_max=1111)\n",
    "# Create the plot trace\n",
    "trace = go.Scatter(x=df['W-L%'], y=df['SRS'], mode='markers', marker=dict(size=10, color=df['progression'], colorscale=color_map))\n",
    "\n",
    "# Create the plot layout\n",
    "layout = go.Layout(title='Winning % vs SRS', xaxis=dict(title='Win-Loss Ratio'), yaxis=dict(title='SRS'))\n",
    "\n",
    "# Create the plot figure\n",
    "fig = go.Figure(data=[trace], layout=layout)\n",
    "\n",
    "\n",
    "\n",
    "fig.update_layout(\n",
    "    xaxis_title='Win-Loss Ratio',\n",
    "    yaxis_title='SRS',\n",
    "    title='Winning % vs SRS',\n",
    "    font=dict(\n",
    "        family=\"Georgia, monospace\",\n",
    "        size=16,\n",
    "        color=\"RebeccaPurple\"\n",
    "    )\n",
    ")\n",
    "\n",
    "\n",
    "fig.show()"
   ]
  },
  {
   "cell_type": "code",
   "execution_count": 172,
   "id": "abdc8661",
   "metadata": {},
   "outputs": [
    {
     "ename": "ValueError",
     "evalue": "\n    Invalid element(s) received for the 'color' property of scatter.marker\n        Invalid elements include: ['Round32', 'Nada', 'Nada', 'Sweet16', 'Nada', 'Nada', 'Nada', 'Nada', 'Nada', 'Tournament']\n\n    The 'color' property is a color and may be specified as:\n      - A hex string (e.g. '#ff0000')\n      - An rgb/rgba string (e.g. 'rgb(255,0,0)')\n      - An hsl/hsla string (e.g. 'hsl(0,100%,50%)')\n      - An hsv/hsva string (e.g. 'hsv(0,100%,100%)')\n      - A named CSS color:\n            aliceblue, antiquewhite, aqua, aquamarine, azure,\n            beige, bisque, black, blanchedalmond, blue,\n            blueviolet, brown, burlywood, cadetblue,\n            chartreuse, chocolate, coral, cornflowerblue,\n            cornsilk, crimson, cyan, darkblue, darkcyan,\n            darkgoldenrod, darkgray, darkgrey, darkgreen,\n            darkkhaki, darkmagenta, darkolivegreen, darkorange,\n            darkorchid, darkred, darksalmon, darkseagreen,\n            darkslateblue, darkslategray, darkslategrey,\n            darkturquoise, darkviolet, deeppink, deepskyblue,\n            dimgray, dimgrey, dodgerblue, firebrick,\n            floralwhite, forestgreen, fuchsia, gainsboro,\n            ghostwhite, gold, goldenrod, gray, grey, green,\n            greenyellow, honeydew, hotpink, indianred, indigo,\n            ivory, khaki, lavender, lavenderblush, lawngreen,\n            lemonchiffon, lightblue, lightcoral, lightcyan,\n            lightgoldenrodyellow, lightgray, lightgrey,\n            lightgreen, lightpink, lightsalmon, lightseagreen,\n            lightskyblue, lightslategray, lightslategrey,\n            lightsteelblue, lightyellow, lime, limegreen,\n            linen, magenta, maroon, mediumaquamarine,\n            mediumblue, mediumorchid, mediumpurple,\n            mediumseagreen, mediumslateblue, mediumspringgreen,\n            mediumturquoise, mediumvioletred, midnightblue,\n            mintcream, mistyrose, moccasin, navajowhite, navy,\n            oldlace, olive, olivedrab, orange, orangered,\n            orchid, palegoldenrod, palegreen, paleturquoise,\n            palevioletred, papayawhip, peachpuff, peru, pink,\n            plum, powderblue, purple, red, rosybrown,\n            royalblue, rebeccapurple, saddlebrown, salmon,\n            sandybrown, seagreen, seashell, sienna, silver,\n            skyblue, slateblue, slategray, slategrey, snow,\n            springgreen, steelblue, tan, teal, thistle, tomato,\n            turquoise, violet, wheat, white, whitesmoke,\n            yellow, yellowgreen\n      - A number that will be interpreted as a color\n        according to scatter.marker.colorscale\n      - A list or array of any of the above",
     "output_type": "error",
     "traceback": [
      "\u001b[0;31m---------------------------------------------------------------------------\u001b[0m",
      "\u001b[0;31mValueError\u001b[0m                                Traceback (most recent call last)",
      "\u001b[0;32m/var/folders/6c/6_yvphyn6jx_slx7qlbq1ngm0000gn/T/ipykernel_10879/2925929905.py\u001b[0m in \u001b[0;36m<module>\u001b[0;34m\u001b[0m\n\u001b[1;32m      6\u001b[0m \u001b[0;34m\u001b[0m\u001b[0m\n\u001b[1;32m      7\u001b[0m \u001b[0;31m# Create the plot trace\u001b[0m\u001b[0;34m\u001b[0m\u001b[0;34m\u001b[0m\u001b[0m\n\u001b[0;32m----> 8\u001b[0;31m \u001b[0mtrace\u001b[0m \u001b[0;34m=\u001b[0m \u001b[0mgo\u001b[0m\u001b[0;34m.\u001b[0m\u001b[0mScatter\u001b[0m\u001b[0;34m(\u001b[0m\u001b[0mx\u001b[0m\u001b[0;34m=\u001b[0m\u001b[0mdf\u001b[0m\u001b[0;34m[\u001b[0m\u001b[0;34m'W-L%'\u001b[0m\u001b[0;34m]\u001b[0m\u001b[0;34m,\u001b[0m \u001b[0my\u001b[0m\u001b[0;34m=\u001b[0m\u001b[0mdf\u001b[0m\u001b[0;34m[\u001b[0m\u001b[0;34m'SRS'\u001b[0m\u001b[0;34m]\u001b[0m\u001b[0;34m,\u001b[0m \u001b[0mmode\u001b[0m\u001b[0;34m=\u001b[0m\u001b[0;34m'markers'\u001b[0m\u001b[0;34m,\u001b[0m \u001b[0mmarker\u001b[0m\u001b[0;34m=\u001b[0m\u001b[0mdict\u001b[0m\u001b[0;34m(\u001b[0m\u001b[0msize\u001b[0m\u001b[0;34m=\u001b[0m\u001b[0;36m10\u001b[0m\u001b[0;34m,\u001b[0m \u001b[0mcolor\u001b[0m\u001b[0;34m=\u001b[0m\u001b[0mdf\u001b[0m\u001b[0;34m[\u001b[0m\u001b[0;34m'progression'\u001b[0m\u001b[0;34m]\u001b[0m\u001b[0;34m,\u001b[0m \u001b[0mcolorscale\u001b[0m\u001b[0;34m=\u001b[0m\u001b[0mcolor_map\u001b[0m\u001b[0;34m)\u001b[0m\u001b[0;34m)\u001b[0m\u001b[0;34m\u001b[0m\u001b[0;34m\u001b[0m\u001b[0m\n\u001b[0m\u001b[1;32m      9\u001b[0m \u001b[0;34m\u001b[0m\u001b[0m\n\u001b[1;32m     10\u001b[0m \u001b[0;31m# Create the plot layout\u001b[0m\u001b[0;34m\u001b[0m\u001b[0;34m\u001b[0m\u001b[0m\n",
      "\u001b[0;32m~/opt/anaconda3/lib/python3.9/site-packages/plotly/graph_objs/_scatter.py\u001b[0m in \u001b[0;36m__init__\u001b[0;34m(self, arg, cliponaxis, connectgaps, customdata, customdatasrc, dx, dy, error_x, error_y, fill, fillcolor, fillpattern, groupnorm, hoverinfo, hoverinfosrc, hoverlabel, hoveron, hovertemplate, hovertemplatesrc, hovertext, hovertextsrc, ids, idssrc, legendgroup, legendgrouptitle, legendrank, line, marker, meta, metasrc, mode, name, opacity, orientation, selected, selectedpoints, showlegend, stackgaps, stackgroup, stream, text, textfont, textposition, textpositionsrc, textsrc, texttemplate, texttemplatesrc, uid, uirevision, unselected, visible, x, x0, xaxis, xcalendar, xhoverformat, xperiod, xperiod0, xperiodalignment, xsrc, y, y0, yaxis, ycalendar, yhoverformat, yperiod, yperiod0, yperiodalignment, ysrc, **kwargs)\u001b[0m\n\u001b[1;32m   3194\u001b[0m         \u001b[0m_v\u001b[0m \u001b[0;34m=\u001b[0m \u001b[0mmarker\u001b[0m \u001b[0;32mif\u001b[0m \u001b[0mmarker\u001b[0m \u001b[0;32mis\u001b[0m \u001b[0;32mnot\u001b[0m \u001b[0;32mNone\u001b[0m \u001b[0;32melse\u001b[0m \u001b[0m_v\u001b[0m\u001b[0;34m\u001b[0m\u001b[0;34m\u001b[0m\u001b[0m\n\u001b[1;32m   3195\u001b[0m         \u001b[0;32mif\u001b[0m \u001b[0m_v\u001b[0m \u001b[0;32mis\u001b[0m \u001b[0;32mnot\u001b[0m \u001b[0;32mNone\u001b[0m\u001b[0;34m:\u001b[0m\u001b[0;34m\u001b[0m\u001b[0;34m\u001b[0m\u001b[0m\n\u001b[0;32m-> 3196\u001b[0;31m             \u001b[0mself\u001b[0m\u001b[0;34m[\u001b[0m\u001b[0;34m\"marker\"\u001b[0m\u001b[0;34m]\u001b[0m \u001b[0;34m=\u001b[0m \u001b[0m_v\u001b[0m\u001b[0;34m\u001b[0m\u001b[0;34m\u001b[0m\u001b[0m\n\u001b[0m\u001b[1;32m   3197\u001b[0m         \u001b[0m_v\u001b[0m \u001b[0;34m=\u001b[0m \u001b[0marg\u001b[0m\u001b[0;34m.\u001b[0m\u001b[0mpop\u001b[0m\u001b[0;34m(\u001b[0m\u001b[0;34m\"meta\"\u001b[0m\u001b[0;34m,\u001b[0m \u001b[0;32mNone\u001b[0m\u001b[0;34m)\u001b[0m\u001b[0;34m\u001b[0m\u001b[0;34m\u001b[0m\u001b[0m\n\u001b[1;32m   3198\u001b[0m         \u001b[0m_v\u001b[0m \u001b[0;34m=\u001b[0m \u001b[0mmeta\u001b[0m \u001b[0;32mif\u001b[0m \u001b[0mmeta\u001b[0m \u001b[0;32mis\u001b[0m \u001b[0;32mnot\u001b[0m \u001b[0;32mNone\u001b[0m \u001b[0;32melse\u001b[0m \u001b[0m_v\u001b[0m\u001b[0;34m\u001b[0m\u001b[0;34m\u001b[0m\u001b[0m\n",
      "\u001b[0;32m~/opt/anaconda3/lib/python3.9/site-packages/plotly/basedatatypes.py\u001b[0m in \u001b[0;36m__setitem__\u001b[0;34m(self, prop, value)\u001b[0m\n\u001b[1;32m   4849\u001b[0m                 \u001b[0;31m# ### Handle compound property ###\u001b[0m\u001b[0;34m\u001b[0m\u001b[0;34m\u001b[0m\u001b[0m\n\u001b[1;32m   4850\u001b[0m                 \u001b[0;32mif\u001b[0m \u001b[0misinstance\u001b[0m\u001b[0;34m(\u001b[0m\u001b[0mvalidator\u001b[0m\u001b[0;34m,\u001b[0m \u001b[0mCompoundValidator\u001b[0m\u001b[0;34m)\u001b[0m\u001b[0;34m:\u001b[0m\u001b[0;34m\u001b[0m\u001b[0;34m\u001b[0m\u001b[0m\n\u001b[0;32m-> 4851\u001b[0;31m                     \u001b[0mself\u001b[0m\u001b[0;34m.\u001b[0m\u001b[0m_set_compound_prop\u001b[0m\u001b[0;34m(\u001b[0m\u001b[0mprop\u001b[0m\u001b[0;34m,\u001b[0m \u001b[0mvalue\u001b[0m\u001b[0;34m)\u001b[0m\u001b[0;34m\u001b[0m\u001b[0;34m\u001b[0m\u001b[0m\n\u001b[0m\u001b[1;32m   4852\u001b[0m \u001b[0;34m\u001b[0m\u001b[0m\n\u001b[1;32m   4853\u001b[0m                 \u001b[0;31m# ### Handle compound array property ###\u001b[0m\u001b[0;34m\u001b[0m\u001b[0;34m\u001b[0m\u001b[0m\n",
      "\u001b[0;32m~/opt/anaconda3/lib/python3.9/site-packages/plotly/basedatatypes.py\u001b[0m in \u001b[0;36m_set_compound_prop\u001b[0;34m(self, prop, val)\u001b[0m\n\u001b[1;32m   5260\u001b[0m         \u001b[0;31m# ------------\u001b[0m\u001b[0;34m\u001b[0m\u001b[0;34m\u001b[0m\u001b[0m\n\u001b[1;32m   5261\u001b[0m         \u001b[0mvalidator\u001b[0m \u001b[0;34m=\u001b[0m \u001b[0mself\u001b[0m\u001b[0;34m.\u001b[0m\u001b[0m_get_validator\u001b[0m\u001b[0;34m(\u001b[0m\u001b[0mprop\u001b[0m\u001b[0;34m)\u001b[0m\u001b[0;34m\u001b[0m\u001b[0;34m\u001b[0m\u001b[0m\n\u001b[0;32m-> 5262\u001b[0;31m         \u001b[0mval\u001b[0m \u001b[0;34m=\u001b[0m \u001b[0mvalidator\u001b[0m\u001b[0;34m.\u001b[0m\u001b[0mvalidate_coerce\u001b[0m\u001b[0;34m(\u001b[0m\u001b[0mval\u001b[0m\u001b[0;34m,\u001b[0m \u001b[0mskip_invalid\u001b[0m\u001b[0;34m=\u001b[0m\u001b[0mself\u001b[0m\u001b[0;34m.\u001b[0m\u001b[0m_skip_invalid\u001b[0m\u001b[0;34m)\u001b[0m\u001b[0;34m\u001b[0m\u001b[0;34m\u001b[0m\u001b[0m\n\u001b[0m\u001b[1;32m   5263\u001b[0m \u001b[0;34m\u001b[0m\u001b[0m\n\u001b[1;32m   5264\u001b[0m         \u001b[0;31m# Save deep copies of current and new states\u001b[0m\u001b[0;34m\u001b[0m\u001b[0;34m\u001b[0m\u001b[0m\n",
      "\u001b[0;32m~/opt/anaconda3/lib/python3.9/site-packages/_plotly_utils/basevalidators.py\u001b[0m in \u001b[0;36mvalidate_coerce\u001b[0;34m(self, v, skip_invalid, _validate)\u001b[0m\n\u001b[1;32m   2453\u001b[0m \u001b[0;34m\u001b[0m\u001b[0m\n\u001b[1;32m   2454\u001b[0m         \u001b[0;32melif\u001b[0m \u001b[0misinstance\u001b[0m\u001b[0;34m(\u001b[0m\u001b[0mv\u001b[0m\u001b[0;34m,\u001b[0m \u001b[0mdict\u001b[0m\u001b[0;34m)\u001b[0m\u001b[0;34m:\u001b[0m\u001b[0;34m\u001b[0m\u001b[0;34m\u001b[0m\u001b[0m\n\u001b[0;32m-> 2455\u001b[0;31m             \u001b[0mv\u001b[0m \u001b[0;34m=\u001b[0m \u001b[0mself\u001b[0m\u001b[0;34m.\u001b[0m\u001b[0mdata_class\u001b[0m\u001b[0;34m(\u001b[0m\u001b[0mv\u001b[0m\u001b[0;34m,\u001b[0m \u001b[0mskip_invalid\u001b[0m\u001b[0;34m=\u001b[0m\u001b[0mskip_invalid\u001b[0m\u001b[0;34m,\u001b[0m \u001b[0m_validate\u001b[0m\u001b[0;34m=\u001b[0m\u001b[0m_validate\u001b[0m\u001b[0;34m)\u001b[0m\u001b[0;34m\u001b[0m\u001b[0;34m\u001b[0m\u001b[0m\n\u001b[0m\u001b[1;32m   2456\u001b[0m \u001b[0;34m\u001b[0m\u001b[0m\n\u001b[1;32m   2457\u001b[0m         \u001b[0;32melif\u001b[0m \u001b[0misinstance\u001b[0m\u001b[0;34m(\u001b[0m\u001b[0mv\u001b[0m\u001b[0;34m,\u001b[0m \u001b[0mself\u001b[0m\u001b[0;34m.\u001b[0m\u001b[0mdata_class\u001b[0m\u001b[0;34m)\u001b[0m\u001b[0;34m:\u001b[0m\u001b[0;34m\u001b[0m\u001b[0;34m\u001b[0m\u001b[0m\n",
      "\u001b[0;32m~/opt/anaconda3/lib/python3.9/site-packages/plotly/graph_objs/scatter/_marker.py\u001b[0m in \u001b[0;36m__init__\u001b[0;34m(self, arg, autocolorscale, cauto, cmax, cmid, cmin, color, coloraxis, colorbar, colorscale, colorsrc, gradient, line, maxdisplayed, opacity, opacitysrc, reversescale, showscale, size, sizemin, sizemode, sizeref, sizesrc, symbol, symbolsrc, **kwargs)\u001b[0m\n\u001b[1;32m   1425\u001b[0m         \u001b[0m_v\u001b[0m \u001b[0;34m=\u001b[0m \u001b[0mcolor\u001b[0m \u001b[0;32mif\u001b[0m \u001b[0mcolor\u001b[0m \u001b[0;32mis\u001b[0m \u001b[0;32mnot\u001b[0m \u001b[0;32mNone\u001b[0m \u001b[0;32melse\u001b[0m \u001b[0m_v\u001b[0m\u001b[0;34m\u001b[0m\u001b[0;34m\u001b[0m\u001b[0m\n\u001b[1;32m   1426\u001b[0m         \u001b[0;32mif\u001b[0m \u001b[0m_v\u001b[0m \u001b[0;32mis\u001b[0m \u001b[0;32mnot\u001b[0m \u001b[0;32mNone\u001b[0m\u001b[0;34m:\u001b[0m\u001b[0;34m\u001b[0m\u001b[0;34m\u001b[0m\u001b[0m\n\u001b[0;32m-> 1427\u001b[0;31m             \u001b[0mself\u001b[0m\u001b[0;34m[\u001b[0m\u001b[0;34m\"color\"\u001b[0m\u001b[0;34m]\u001b[0m \u001b[0;34m=\u001b[0m \u001b[0m_v\u001b[0m\u001b[0;34m\u001b[0m\u001b[0;34m\u001b[0m\u001b[0m\n\u001b[0m\u001b[1;32m   1428\u001b[0m         \u001b[0m_v\u001b[0m \u001b[0;34m=\u001b[0m \u001b[0marg\u001b[0m\u001b[0;34m.\u001b[0m\u001b[0mpop\u001b[0m\u001b[0;34m(\u001b[0m\u001b[0;34m\"coloraxis\"\u001b[0m\u001b[0;34m,\u001b[0m \u001b[0;32mNone\u001b[0m\u001b[0;34m)\u001b[0m\u001b[0;34m\u001b[0m\u001b[0;34m\u001b[0m\u001b[0m\n\u001b[1;32m   1429\u001b[0m         \u001b[0m_v\u001b[0m \u001b[0;34m=\u001b[0m \u001b[0mcoloraxis\u001b[0m \u001b[0;32mif\u001b[0m \u001b[0mcoloraxis\u001b[0m \u001b[0;32mis\u001b[0m \u001b[0;32mnot\u001b[0m \u001b[0;32mNone\u001b[0m \u001b[0;32melse\u001b[0m \u001b[0m_v\u001b[0m\u001b[0;34m\u001b[0m\u001b[0;34m\u001b[0m\u001b[0m\n",
      "\u001b[0;32m~/opt/anaconda3/lib/python3.9/site-packages/plotly/basedatatypes.py\u001b[0m in \u001b[0;36m__setitem__\u001b[0;34m(self, prop, value)\u001b[0m\n\u001b[1;32m   4857\u001b[0m                 \u001b[0;31m# ### Handle simple property ###\u001b[0m\u001b[0;34m\u001b[0m\u001b[0;34m\u001b[0m\u001b[0m\n\u001b[1;32m   4858\u001b[0m                 \u001b[0;32melse\u001b[0m\u001b[0;34m:\u001b[0m\u001b[0;34m\u001b[0m\u001b[0;34m\u001b[0m\u001b[0m\n\u001b[0;32m-> 4859\u001b[0;31m                     \u001b[0mself\u001b[0m\u001b[0;34m.\u001b[0m\u001b[0m_set_prop\u001b[0m\u001b[0;34m(\u001b[0m\u001b[0mprop\u001b[0m\u001b[0;34m,\u001b[0m \u001b[0mvalue\u001b[0m\u001b[0;34m)\u001b[0m\u001b[0;34m\u001b[0m\u001b[0;34m\u001b[0m\u001b[0m\n\u001b[0m\u001b[1;32m   4860\u001b[0m             \u001b[0;32melse\u001b[0m\u001b[0;34m:\u001b[0m\u001b[0;34m\u001b[0m\u001b[0;34m\u001b[0m\u001b[0m\n\u001b[1;32m   4861\u001b[0m                 \u001b[0;31m# Make sure properties dict is initialized\u001b[0m\u001b[0;34m\u001b[0m\u001b[0;34m\u001b[0m\u001b[0m\n",
      "\u001b[0;32m~/opt/anaconda3/lib/python3.9/site-packages/plotly/basedatatypes.py\u001b[0m in \u001b[0;36m_set_prop\u001b[0;34m(self, prop, val)\u001b[0m\n\u001b[1;32m   5201\u001b[0m                 \u001b[0;32mreturn\u001b[0m\u001b[0;34m\u001b[0m\u001b[0;34m\u001b[0m\u001b[0m\n\u001b[1;32m   5202\u001b[0m             \u001b[0;32melse\u001b[0m\u001b[0;34m:\u001b[0m\u001b[0;34m\u001b[0m\u001b[0;34m\u001b[0m\u001b[0m\n\u001b[0;32m-> 5203\u001b[0;31m                 \u001b[0;32mraise\u001b[0m \u001b[0merr\u001b[0m\u001b[0;34m\u001b[0m\u001b[0;34m\u001b[0m\u001b[0m\n\u001b[0m\u001b[1;32m   5204\u001b[0m \u001b[0;34m\u001b[0m\u001b[0m\n\u001b[1;32m   5205\u001b[0m         \u001b[0;31m# val is None\u001b[0m\u001b[0;34m\u001b[0m\u001b[0;34m\u001b[0m\u001b[0m\n",
      "\u001b[0;32m~/opt/anaconda3/lib/python3.9/site-packages/plotly/basedatatypes.py\u001b[0m in \u001b[0;36m_set_prop\u001b[0;34m(self, prop, val)\u001b[0m\n\u001b[1;32m   5196\u001b[0m \u001b[0;34m\u001b[0m\u001b[0m\n\u001b[1;32m   5197\u001b[0m         \u001b[0;32mtry\u001b[0m\u001b[0;34m:\u001b[0m\u001b[0;34m\u001b[0m\u001b[0;34m\u001b[0m\u001b[0m\n\u001b[0;32m-> 5198\u001b[0;31m             \u001b[0mval\u001b[0m \u001b[0;34m=\u001b[0m \u001b[0mvalidator\u001b[0m\u001b[0;34m.\u001b[0m\u001b[0mvalidate_coerce\u001b[0m\u001b[0;34m(\u001b[0m\u001b[0mval\u001b[0m\u001b[0;34m)\u001b[0m\u001b[0;34m\u001b[0m\u001b[0;34m\u001b[0m\u001b[0m\n\u001b[0m\u001b[1;32m   5199\u001b[0m         \u001b[0;32mexcept\u001b[0m \u001b[0mValueError\u001b[0m \u001b[0;32mas\u001b[0m \u001b[0merr\u001b[0m\u001b[0;34m:\u001b[0m\u001b[0;34m\u001b[0m\u001b[0;34m\u001b[0m\u001b[0m\n\u001b[1;32m   5200\u001b[0m             \u001b[0;32mif\u001b[0m \u001b[0mself\u001b[0m\u001b[0;34m.\u001b[0m\u001b[0m_skip_invalid\u001b[0m\u001b[0;34m:\u001b[0m\u001b[0;34m\u001b[0m\u001b[0;34m\u001b[0m\u001b[0m\n",
      "\u001b[0;32m~/opt/anaconda3/lib/python3.9/site-packages/_plotly_utils/basevalidators.py\u001b[0m in \u001b[0;36mvalidate_coerce\u001b[0;34m(self, v, should_raise)\u001b[0m\n\u001b[1;32m   1353\u001b[0m \u001b[0;34m\u001b[0m\u001b[0m\n\u001b[1;32m   1354\u001b[0m                 \u001b[0;32mif\u001b[0m \u001b[0minvalid_els\u001b[0m \u001b[0;32mand\u001b[0m \u001b[0mshould_raise\u001b[0m\u001b[0;34m:\u001b[0m\u001b[0;34m\u001b[0m\u001b[0;34m\u001b[0m\u001b[0m\n\u001b[0;32m-> 1355\u001b[0;31m                     \u001b[0mself\u001b[0m\u001b[0;34m.\u001b[0m\u001b[0mraise_invalid_elements\u001b[0m\u001b[0;34m(\u001b[0m\u001b[0minvalid_els\u001b[0m\u001b[0;34m)\u001b[0m\u001b[0;34m\u001b[0m\u001b[0;34m\u001b[0m\u001b[0m\n\u001b[0m\u001b[1;32m   1356\u001b[0m \u001b[0;34m\u001b[0m\u001b[0m\n\u001b[1;32m   1357\u001b[0m                 \u001b[0;31m# ### Check that elements have valid colors types ###\u001b[0m\u001b[0;34m\u001b[0m\u001b[0;34m\u001b[0m\u001b[0m\n",
      "\u001b[0;32m~/opt/anaconda3/lib/python3.9/site-packages/_plotly_utils/basevalidators.py\u001b[0m in \u001b[0;36mraise_invalid_elements\u001b[0;34m(self, invalid_els)\u001b[0m\n\u001b[1;32m    302\u001b[0m     \u001b[0;32mdef\u001b[0m \u001b[0mraise_invalid_elements\u001b[0m\u001b[0;34m(\u001b[0m\u001b[0mself\u001b[0m\u001b[0;34m,\u001b[0m \u001b[0minvalid_els\u001b[0m\u001b[0;34m)\u001b[0m\u001b[0;34m:\u001b[0m\u001b[0;34m\u001b[0m\u001b[0;34m\u001b[0m\u001b[0m\n\u001b[1;32m    303\u001b[0m         \u001b[0;32mif\u001b[0m \u001b[0minvalid_els\u001b[0m\u001b[0;34m:\u001b[0m\u001b[0;34m\u001b[0m\u001b[0;34m\u001b[0m\u001b[0m\n\u001b[0;32m--> 304\u001b[0;31m             raise ValueError(\n\u001b[0m\u001b[1;32m    305\u001b[0m                 \"\"\"\n\u001b[1;32m    306\u001b[0m     \u001b[0mInvalid\u001b[0m \u001b[0melement\u001b[0m\u001b[0;34m(\u001b[0m\u001b[0ms\u001b[0m\u001b[0;34m)\u001b[0m \u001b[0mreceived\u001b[0m \u001b[0;32mfor\u001b[0m \u001b[0mthe\u001b[0m \u001b[0;34m'{name}'\u001b[0m \u001b[0mproperty\u001b[0m \u001b[0mof\u001b[0m \u001b[0;34m{\u001b[0m\u001b[0mpname\u001b[0m\u001b[0;34m}\u001b[0m\u001b[0;34m\u001b[0m\u001b[0;34m\u001b[0m\u001b[0m\n",
      "\u001b[0;31mValueError\u001b[0m: \n    Invalid element(s) received for the 'color' property of scatter.marker\n        Invalid elements include: ['Round32', 'Nada', 'Nada', 'Sweet16', 'Nada', 'Nada', 'Nada', 'Nada', 'Nada', 'Tournament']\n\n    The 'color' property is a color and may be specified as:\n      - A hex string (e.g. '#ff0000')\n      - An rgb/rgba string (e.g. 'rgb(255,0,0)')\n      - An hsl/hsla string (e.g. 'hsl(0,100%,50%)')\n      - An hsv/hsva string (e.g. 'hsv(0,100%,100%)')\n      - A named CSS color:\n            aliceblue, antiquewhite, aqua, aquamarine, azure,\n            beige, bisque, black, blanchedalmond, blue,\n            blueviolet, brown, burlywood, cadetblue,\n            chartreuse, chocolate, coral, cornflowerblue,\n            cornsilk, crimson, cyan, darkblue, darkcyan,\n            darkgoldenrod, darkgray, darkgrey, darkgreen,\n            darkkhaki, darkmagenta, darkolivegreen, darkorange,\n            darkorchid, darkred, darksalmon, darkseagreen,\n            darkslateblue, darkslategray, darkslategrey,\n            darkturquoise, darkviolet, deeppink, deepskyblue,\n            dimgray, dimgrey, dodgerblue, firebrick,\n            floralwhite, forestgreen, fuchsia, gainsboro,\n            ghostwhite, gold, goldenrod, gray, grey, green,\n            greenyellow, honeydew, hotpink, indianred, indigo,\n            ivory, khaki, lavender, lavenderblush, lawngreen,\n            lemonchiffon, lightblue, lightcoral, lightcyan,\n            lightgoldenrodyellow, lightgray, lightgrey,\n            lightgreen, lightpink, lightsalmon, lightseagreen,\n            lightskyblue, lightslategray, lightslategrey,\n            lightsteelblue, lightyellow, lime, limegreen,\n            linen, magenta, maroon, mediumaquamarine,\n            mediumblue, mediumorchid, mediumpurple,\n            mediumseagreen, mediumslateblue, mediumspringgreen,\n            mediumturquoise, mediumvioletred, midnightblue,\n            mintcream, mistyrose, moccasin, navajowhite, navy,\n            oldlace, olive, olivedrab, orange, orangered,\n            orchid, palegoldenrod, palegreen, paleturquoise,\n            palevioletred, papayawhip, peachpuff, peru, pink,\n            plum, powderblue, purple, red, rosybrown,\n            royalblue, rebeccapurple, saddlebrown, salmon,\n            sandybrown, seagreen, seashell, sienna, silver,\n            skyblue, slateblue, slategray, slategrey, snow,\n            springgreen, steelblue, tan, teal, thistle, tomato,\n            turquoise, violet, wheat, white, whitesmoke,\n            yellow, yellowgreen\n      - A number that will be interpreted as a color\n        according to scatter.marker.colorscale\n      - A list or array of any of the above"
     ]
    }
   ],
   "source": [
    "import plotly.graph_objs as go\n",
    "\n",
    "# Define a custom color map\n",
    "color_map = ['#F0EAFC','#DCE6FB','#C7E2F9','#B3DEF8','#9EDAF6','#8AD6F5','#75D2F3','#61CEF2']\n",
    "\n",
    "\n",
    "# Create the plot trace\n",
    "trace = go.Scatter(x=df['W-L%'], y=df['SRS'], mode='markers', marker=dict(size=10, color=df['progression'], colorscale=color_map))\n",
    "\n",
    "# Create the plot layout\n",
    "layout = go.Layout(title='Winning % vs SRS', xaxis=dict(title='Win-Loss Ratio'), yaxis=dict(title='SRS'))\n",
    "\n",
    "# Create the plot figure\n",
    "fig = go.Figure(data=[trace], layout=layout)\n",
    "\n",
    "# Show the plot\n",
    "fig.show()"
   ]
  },
  {
   "cell_type": "code",
   "execution_count": 99,
   "id": "e00c6f56",
   "metadata": {},
   "outputs": [
    {
     "ename": "KeyError",
     "evalue": "0",
     "output_type": "error",
     "traceback": [
      "\u001b[0;31m---------------------------------------------------------------------------\u001b[0m",
      "\u001b[0;31mKeyError\u001b[0m                                  Traceback (most recent call last)",
      "\u001b[0;32m/var/folders/6c/6_yvphyn6jx_slx7qlbq1ngm0000gn/T/ipykernel_10879/31727776.py\u001b[0m in \u001b[0;36m<module>\u001b[0;34m\u001b[0m\n\u001b[1;32m      9\u001b[0m \u001b[0mdf\u001b[0m\u001b[0;34m[\u001b[0m\u001b[0;34m'progression'\u001b[0m\u001b[0;34m]\u001b[0m \u001b[0;34m=\u001b[0m \u001b[0mpd\u001b[0m\u001b[0;34m.\u001b[0m\u001b[0mCategorical\u001b[0m\u001b[0;34m(\u001b[0m\u001b[0mdf\u001b[0m\u001b[0;34m[\u001b[0m\u001b[0;34m'progression'\u001b[0m\u001b[0;34m]\u001b[0m\u001b[0;34m)\u001b[0m\u001b[0;34m\u001b[0m\u001b[0;34m\u001b[0m\u001b[0m\n\u001b[1;32m     10\u001b[0m \u001b[0;34m\u001b[0m\u001b[0m\n\u001b[0;32m---> 11\u001b[0;31m fig = px.scatter(df, x='W-L%', y='SRS', color='progression', color_discrete_sequence=color_map,\n\u001b[0m\u001b[1;32m     12\u001b[0m                  hover_name='School', size_max=11)\n\u001b[1;32m     13\u001b[0m \u001b[0;34m\u001b[0m\u001b[0m\n",
      "\u001b[0;32m~/opt/anaconda3/lib/python3.9/site-packages/plotly/express/_chart_types.py\u001b[0m in \u001b[0;36mscatter\u001b[0;34m(data_frame, x, y, color, symbol, size, hover_name, hover_data, custom_data, text, facet_row, facet_col, facet_col_wrap, facet_row_spacing, facet_col_spacing, error_x, error_x_minus, error_y, error_y_minus, animation_frame, animation_group, category_orders, labels, orientation, color_discrete_sequence, color_discrete_map, color_continuous_scale, range_color, color_continuous_midpoint, symbol_sequence, symbol_map, opacity, size_max, marginal_x, marginal_y, trendline, trendline_options, trendline_color_override, trendline_scope, log_x, log_y, range_x, range_y, render_mode, title, template, width, height)\u001b[0m\n\u001b[1;32m     64\u001b[0m     \u001b[0mmark\u001b[0m \u001b[0;32min\u001b[0m \u001b[0;36m2\u001b[0m\u001b[0mD\u001b[0m \u001b[0mspace\u001b[0m\u001b[0;34m.\u001b[0m\u001b[0;34m\u001b[0m\u001b[0;34m\u001b[0m\u001b[0m\n\u001b[1;32m     65\u001b[0m     \"\"\"\n\u001b[0;32m---> 66\u001b[0;31m     \u001b[0;32mreturn\u001b[0m \u001b[0mmake_figure\u001b[0m\u001b[0;34m(\u001b[0m\u001b[0margs\u001b[0m\u001b[0;34m=\u001b[0m\u001b[0mlocals\u001b[0m\u001b[0;34m(\u001b[0m\u001b[0;34m)\u001b[0m\u001b[0;34m,\u001b[0m \u001b[0mconstructor\u001b[0m\u001b[0;34m=\u001b[0m\u001b[0mgo\u001b[0m\u001b[0;34m.\u001b[0m\u001b[0mScatter\u001b[0m\u001b[0;34m)\u001b[0m\u001b[0;34m\u001b[0m\u001b[0;34m\u001b[0m\u001b[0m\n\u001b[0m\u001b[1;32m     67\u001b[0m \u001b[0;34m\u001b[0m\u001b[0m\n\u001b[1;32m     68\u001b[0m \u001b[0;34m\u001b[0m\u001b[0m\n",
      "\u001b[0;32m~/opt/anaconda3/lib/python3.9/site-packages/plotly/express/_core.py\u001b[0m in \u001b[0;36mmake_figure\u001b[0;34m(args, constructor, trace_patch, layout_patch)\u001b[0m\n\u001b[1;32m   2021\u001b[0m             \u001b[0;32mfor\u001b[0m \u001b[0mval\u001b[0m \u001b[0;32min\u001b[0m \u001b[0msorted_values\u001b[0m\u001b[0;34m:\u001b[0m\u001b[0;34m\u001b[0m\u001b[0;34m\u001b[0m\u001b[0m\n\u001b[1;32m   2022\u001b[0m                 \u001b[0;32mif\u001b[0m \u001b[0mval\u001b[0m \u001b[0;32mnot\u001b[0m \u001b[0;32min\u001b[0m \u001b[0mm\u001b[0m\u001b[0;34m.\u001b[0m\u001b[0mval_map\u001b[0m\u001b[0;34m:\u001b[0m  \u001b[0;31m# always False if it's an IdentityMap\u001b[0m\u001b[0;34m\u001b[0m\u001b[0;34m\u001b[0m\u001b[0m\n\u001b[0;32m-> 2023\u001b[0;31m                     \u001b[0mm\u001b[0m\u001b[0;34m.\u001b[0m\u001b[0mval_map\u001b[0m\u001b[0;34m[\u001b[0m\u001b[0mval\u001b[0m\u001b[0;34m]\u001b[0m \u001b[0;34m=\u001b[0m \u001b[0mm\u001b[0m\u001b[0;34m.\u001b[0m\u001b[0msequence\u001b[0m\u001b[0;34m[\u001b[0m\u001b[0mlen\u001b[0m\u001b[0;34m(\u001b[0m\u001b[0mm\u001b[0m\u001b[0;34m.\u001b[0m\u001b[0mval_map\u001b[0m\u001b[0;34m)\u001b[0m \u001b[0;34m%\u001b[0m \u001b[0mlen\u001b[0m\u001b[0;34m(\u001b[0m\u001b[0mm\u001b[0m\u001b[0;34m.\u001b[0m\u001b[0msequence\u001b[0m\u001b[0;34m)\u001b[0m\u001b[0;34m]\u001b[0m\u001b[0;34m\u001b[0m\u001b[0;34m\u001b[0m\u001b[0m\n\u001b[0m\u001b[1;32m   2024\u001b[0m \u001b[0;34m\u001b[0m\u001b[0m\n\u001b[1;32m   2025\u001b[0m     \u001b[0msubplot_type\u001b[0m \u001b[0;34m=\u001b[0m \u001b[0m_subplot_type_for_trace_type\u001b[0m\u001b[0;34m(\u001b[0m\u001b[0mconstructor\u001b[0m\u001b[0;34m(\u001b[0m\u001b[0;34m)\u001b[0m\u001b[0;34m.\u001b[0m\u001b[0mtype\u001b[0m\u001b[0;34m)\u001b[0m\u001b[0;34m\u001b[0m\u001b[0;34m\u001b[0m\u001b[0m\n",
      "\u001b[0;31mKeyError\u001b[0m: 0"
     ]
    }
   ],
   "source": [
    "import pandas as pd\n",
    "import plotly.express as px\n",
    "\n",
    "# Define a custom color map\n",
    "color_map = {'Nada':'#F0EAFC','Tournament':'#DCE6FB','Round32':'#C7E2F9','Sweet16':'#B3DEF8',\n",
    "             \"Elite8\":'#9EDAF6','Final4:':'#8AD6F5','Final2':'#75D2F3','Champion':'#61CEF2'}\n",
    "\n",
    "# Convert the 'progression' column to a categorical variable\n",
    "df['progression'] = pd.Categorical(df['progression'])\n",
    "\n",
    "fig = px.scatter(df, x='W-L%', y='SRS', color='progression', color_discrete_sequence=color_map,\n",
    "                 hover_name='School', size_max=11)\n",
    "\n",
    "fig.update_layout(\n",
    "    xaxis_title='Win-Loss Ratio',\n",
    "    yaxis_title='SRS',\n",
    "    title='Winning % vs SRS',\n",
    "    font=dict(\n",
    "        family=\"Georgia, monospace\",\n",
    "        size=16,\n",
    "        color=\"RebeccaPurple\"\n",
    "    )\n",
    ")\n",
    "\n",
    "fig.show()\n"
   ]
  },
  {
   "cell_type": "code",
   "execution_count": null,
   "id": "1a42fe60",
   "metadata": {},
   "outputs": [],
   "source": []
  },
  {
   "cell_type": "code",
   "execution_count": null,
   "id": "4ed0cb96",
   "metadata": {},
   "outputs": [],
   "source": []
  },
  {
   "cell_type": "code",
   "execution_count": 19,
   "id": "0a2ada94",
   "metadata": {},
   "outputs": [
    {
     "data": {
      "image/png": "[encoded data removed]",
      "text/plain": [
       "<Figure size 640x480 with 1 Axes>"
      ]
     },
     "metadata": {},
     "output_type": "display_data"
    }
   ],
   "source": [
    "# Select the rows where 'SOS' and 'W-L%' are not NaN and sort by 'SOS' and 'W-L%'\n",
    "sorted_sos = df[['SRS', 'W-L%', 'School', 'Tournament']].dropna().sort_values('SRS', ascending=False).iloc[:6]\n",
    "sorted_wl = df[['SRS', 'W-L%', 'School', 'Tournament']].dropna().sort_values('W-L%', ascending=False).iloc[:6]\n",
    "\n",
    "# Create the scatterplot\n",
    "sns.scatterplot(x='W-L%', y='SRS', hue='Tournament', data=df, palette=['skyblue', 'red'])\n",
    "\n",
    "# Add markers for Sweet16, Elite8, Final4, Final2, and Champion\n",
    "markers = {'Sweet16': 'o', 'Elite8': 's', 'Final4': 'D', 'Final2': '*', 'Champion': 'X'}\n",
    "colors = {'Yes': 'white', 'No': 'black'}\n",
    "for marker_label, marker_style in markers.items():\n",
    "    for color_label, color_code in colors.items():\n",
    "        mask = (df['Tournament'] == 'Yes') & (df[marker_label] == 'Yes')\n",
    "        data = df[mask]\n",
    "        plt.scatter(data['W-L%'], data['SRS'], marker=marker_style, s=150, edgecolors='black', linewidths=1.5,\n",
    "                    facecolors=color_code, alpha=0.8)\n",
    "\n",
    "# Add the top and bottom 3 labels\n",
    "for i, row in sorted_sos.iterrows():\n",
    "    color = 'blue' if row['Tournament'] == 'Yes' else 'red'\n",
    "    plt.text(row['W-L%'], row['SRS'], row['School'], ha='center', fontsize=10, color=color)\n",
    "    \n",
    "for i, row in sorted_wl.iterrows():\n",
    "    color = 'blue' if row['Tournament'] == 'Yes' else 'red'\n",
    "    plt.text(row['W-L%'], row['SRS'], row['School'], ha='center', fontsize=10, color=color)\n",
    "\n",
    "# Add axis labels and title\n",
    "plt.xlabel('Win-Loss Ratio')\n",
    "plt.ylabel('SRS')\n",
    "plt.suptitle('Top 6 schools in SRS and Winning % are labeled', y=.915)\n",
    "plt.title('Winning % vs SRS', fontsize=16, fontweight='bold', y=1.05)\n",
    "\n",
    "# Add legend\n",
    "legend_elements = [Line2D([0], [0], marker=marker_style, color='black', label=marker_label, markersize=10,\n",
    "                           markerfacecolor=color_code, alpha=0.8)\n",
    "                   for marker_label, marker_style in markers.items()\n",
    "                   for color_label, color_code in colors.items()]\n",
    "plt.legend(handles=legend_elements, title='Tournament Status and Round Reached', loc='lower right')\n",
    "### ?\n",
    "def create_legend():\n",
    "    # Create custom legend with markers and labels for each round\n",
    "    legend_elements = []\n",
    "    for round_name, round_color in ROUND_COLORS.items():\n",
    "        # Only add legend element if there are any schools in the given round\n",
    "        if df[df[round_name] == 'Yes'].shape[0] > 0:\n",
    "            legend_elements.append(Line2D([0], [0], marker='o', color='w', label=round_name,\n",
    "                                          markerfacecolor=round_color, markersize=10))\n",
    "    # Add legend element for 'Tournament = Yes'\n",
    "    legend_elements.append(Line2D([0], [0], marker='o', color='w', label='Tournament = Yes',\n",
    "                                   markerfacecolor='skyblue', markersize=10))\n",
    "    # Add legend element for 'Tournament = No'\n",
    "    legend_elements.append(Line2D([0], [0], marker='^', color='w', label='Tournament = No',\n",
    "                                   markerfacecolor='red', markersize=10))\n",
    "    # Add legend to plot\n",
    "    plt.legend(handles=legend_elements, loc='best')\n"
   ]
  },
  {
   "cell_type": "code",
   "execution_count": 24,
   "id": "25f53d21",
   "metadata": {},
   "outputs": [
    {
     "ename": "KeyError",
     "evalue": "'Sweet16,Elite8,Final4,Final2,Champion'",
     "output_type": "error",
     "traceback": [
      "\u001b[0;31m---------------------------------------------------------------------------\u001b[0m",
      "\u001b[0;31mKeyError\u001b[0m                                  Traceback (most recent call last)",
      "\u001b[0;32m~/opt/anaconda3/lib/python3.9/site-packages/pandas/core/indexes/base.py\u001b[0m in \u001b[0;36mget_loc\u001b[0;34m(self, key, method, tolerance)\u001b[0m\n\u001b[1;32m   3628\u001b[0m             \u001b[0;32mtry\u001b[0m\u001b[0;34m:\u001b[0m\u001b[0;34m\u001b[0m\u001b[0;34m\u001b[0m\u001b[0m\n\u001b[0;32m-> 3629\u001b[0;31m                 \u001b[0;32mreturn\u001b[0m \u001b[0mself\u001b[0m\u001b[0;34m.\u001b[0m\u001b[0m_engine\u001b[0m\u001b[0;34m.\u001b[0m\u001b[0mget_loc\u001b[0m\u001b[0;34m(\u001b[0m\u001b[0mcasted_key\u001b[0m\u001b[0;34m)\u001b[0m\u001b[0;34m\u001b[0m\u001b[0;34m\u001b[0m\u001b[0m\n\u001b[0m\u001b[1;32m   3630\u001b[0m             \u001b[0;32mexcept\u001b[0m \u001b[0mKeyError\u001b[0m \u001b[0;32mas\u001b[0m \u001b[0merr\u001b[0m\u001b[0;34m:\u001b[0m\u001b[0;34m\u001b[0m\u001b[0;34m\u001b[0m\u001b[0m\n",
      "\u001b[0;32m~/opt/anaconda3/lib/python3.9/site-packages/pandas/_libs/index.pyx\u001b[0m in \u001b[0;36mpandas._libs.index.IndexEngine.get_loc\u001b[0;34m()\u001b[0m\n",
      "\u001b[0;32m~/opt/anaconda3/lib/python3.9/site-packages/pandas/_libs/index.pyx\u001b[0m in \u001b[0;36mpandas._libs.index.IndexEngine.get_loc\u001b[0;34m()\u001b[0m\n",
      "\u001b[0;32mpandas/_libs/hashtable_class_helper.pxi\u001b[0m in \u001b[0;36mpandas._libs.hashtable.PyObjectHashTable.get_item\u001b[0;34m()\u001b[0m\n",
      "\u001b[0;32mpandas/_libs/hashtable_class_helper.pxi\u001b[0m in \u001b[0;36mpandas._libs.hashtable.PyObjectHashTable.get_item\u001b[0;34m()\u001b[0m\n",
      "\u001b[0;31mKeyError\u001b[0m: 'Sweet16,Elite8,Final4,Final2,Champion'",
      "\nThe above exception was the direct cause of the following exception:\n",
      "\u001b[0;31mKeyError\u001b[0m                                  Traceback (most recent call last)",
      "\u001b[0;32m/var/folders/6c/6_yvphyn6jx_slx7qlbq1ngm0000gn/T/ipykernel_10879/552613163.py\u001b[0m in \u001b[0;36m<module>\u001b[0;34m\u001b[0m\n\u001b[1;32m      7\u001b[0m \u001b[0;34m\u001b[0m\u001b[0m\n\u001b[1;32m      8\u001b[0m \u001b[0;31m# create a scatter plot\u001b[0m\u001b[0;34m\u001b[0m\u001b[0;34m\u001b[0m\u001b[0m\n\u001b[0;32m----> 9\u001b[0;31m \u001b[0mplt\u001b[0m\u001b[0;34m.\u001b[0m\u001b[0mscatter\u001b[0m\u001b[0;34m(\u001b[0m\u001b[0mx\u001b[0m\u001b[0;34m=\u001b[0m\u001b[0mdf\u001b[0m\u001b[0;34m[\u001b[0m\u001b[0;34m'SRS'\u001b[0m\u001b[0;34m]\u001b[0m\u001b[0;34m,\u001b[0m \u001b[0my\u001b[0m\u001b[0;34m=\u001b[0m\u001b[0mdf\u001b[0m\u001b[0;34m[\u001b[0m\u001b[0;34m'W-L%'\u001b[0m\u001b[0;34m]\u001b[0m\u001b[0;34m,\u001b[0m \u001b[0mc\u001b[0m\u001b[0;34m=\u001b[0m\u001b[0mdf\u001b[0m\u001b[0;34m[\u001b[0m\u001b[0;34m'Sweet16,Elite8,Final4,Final2,Champion'\u001b[0m\u001b[0;34m]\u001b[0m\u001b[0;34m.\u001b[0m\u001b[0mmap\u001b[0m\u001b[0;34m(\u001b[0m\u001b[0mcolor_map\u001b[0m\u001b[0;34m)\u001b[0m\u001b[0;34m)\u001b[0m\u001b[0;34m\u001b[0m\u001b[0;34m\u001b[0m\u001b[0m\n\u001b[0m\u001b[1;32m     10\u001b[0m \u001b[0;34m\u001b[0m\u001b[0m\n\u001b[1;32m     11\u001b[0m \u001b[0;31m# set axis labels and title\u001b[0m\u001b[0;34m\u001b[0m\u001b[0;34m\u001b[0m\u001b[0m\n",
      "\u001b[0;32m~/opt/anaconda3/lib/python3.9/site-packages/pandas/core/frame.py\u001b[0m in \u001b[0;36m__getitem__\u001b[0;34m(self, key)\u001b[0m\n\u001b[1;32m   3503\u001b[0m             \u001b[0;32mif\u001b[0m \u001b[0mself\u001b[0m\u001b[0;34m.\u001b[0m\u001b[0mcolumns\u001b[0m\u001b[0;34m.\u001b[0m\u001b[0mnlevels\u001b[0m \u001b[0;34m>\u001b[0m \u001b[0;36m1\u001b[0m\u001b[0;34m:\u001b[0m\u001b[0;34m\u001b[0m\u001b[0;34m\u001b[0m\u001b[0m\n\u001b[1;32m   3504\u001b[0m                 \u001b[0;32mreturn\u001b[0m \u001b[0mself\u001b[0m\u001b[0;34m.\u001b[0m\u001b[0m_getitem_multilevel\u001b[0m\u001b[0;34m(\u001b[0m\u001b[0mkey\u001b[0m\u001b[0;34m)\u001b[0m\u001b[0;34m\u001b[0m\u001b[0;34m\u001b[0m\u001b[0m\n\u001b[0;32m-> 3505\u001b[0;31m             \u001b[0mindexer\u001b[0m \u001b[0;34m=\u001b[0m \u001b[0mself\u001b[0m\u001b[0;34m.\u001b[0m\u001b[0mcolumns\u001b[0m\u001b[0;34m.\u001b[0m\u001b[0mget_loc\u001b[0m\u001b[0;34m(\u001b[0m\u001b[0mkey\u001b[0m\u001b[0;34m)\u001b[0m\u001b[0;34m\u001b[0m\u001b[0;34m\u001b[0m\u001b[0m\n\u001b[0m\u001b[1;32m   3506\u001b[0m             \u001b[0;32mif\u001b[0m \u001b[0mis_integer\u001b[0m\u001b[0;34m(\u001b[0m\u001b[0mindexer\u001b[0m\u001b[0;34m)\u001b[0m\u001b[0;34m:\u001b[0m\u001b[0;34m\u001b[0m\u001b[0;34m\u001b[0m\u001b[0m\n\u001b[1;32m   3507\u001b[0m                 \u001b[0mindexer\u001b[0m \u001b[0;34m=\u001b[0m \u001b[0;34m[\u001b[0m\u001b[0mindexer\u001b[0m\u001b[0;34m]\u001b[0m\u001b[0;34m\u001b[0m\u001b[0;34m\u001b[0m\u001b[0m\n",
      "\u001b[0;32m~/opt/anaconda3/lib/python3.9/site-packages/pandas/core/indexes/base.py\u001b[0m in \u001b[0;36mget_loc\u001b[0;34m(self, key, method, tolerance)\u001b[0m\n\u001b[1;32m   3629\u001b[0m                 \u001b[0;32mreturn\u001b[0m \u001b[0mself\u001b[0m\u001b[0;34m.\u001b[0m\u001b[0m_engine\u001b[0m\u001b[0;34m.\u001b[0m\u001b[0mget_loc\u001b[0m\u001b[0;34m(\u001b[0m\u001b[0mcasted_key\u001b[0m\u001b[0;34m)\u001b[0m\u001b[0;34m\u001b[0m\u001b[0;34m\u001b[0m\u001b[0m\n\u001b[1;32m   3630\u001b[0m             \u001b[0;32mexcept\u001b[0m \u001b[0mKeyError\u001b[0m \u001b[0;32mas\u001b[0m \u001b[0merr\u001b[0m\u001b[0;34m:\u001b[0m\u001b[0;34m\u001b[0m\u001b[0;34m\u001b[0m\u001b[0m\n\u001b[0;32m-> 3631\u001b[0;31m                 \u001b[0;32mraise\u001b[0m \u001b[0mKeyError\u001b[0m\u001b[0;34m(\u001b[0m\u001b[0mkey\u001b[0m\u001b[0;34m)\u001b[0m \u001b[0;32mfrom\u001b[0m \u001b[0merr\u001b[0m\u001b[0;34m\u001b[0m\u001b[0;34m\u001b[0m\u001b[0m\n\u001b[0m\u001b[1;32m   3632\u001b[0m             \u001b[0;32mexcept\u001b[0m \u001b[0mTypeError\u001b[0m\u001b[0;34m:\u001b[0m\u001b[0;34m\u001b[0m\u001b[0;34m\u001b[0m\u001b[0m\n\u001b[1;32m   3633\u001b[0m                 \u001b[0;31m# If we have a listlike key, _check_indexing_error will raise\u001b[0m\u001b[0;34m\u001b[0m\u001b[0;34m\u001b[0m\u001b[0m\n",
      "\u001b[0;31mKeyError\u001b[0m: 'Sweet16,Elite8,Final4,Final2,Champion'"
     ]
    }
   ],
   "source": [
    "import matplotlib.pyplot as plt\n",
    "import pandas as pd\n",
    "\n",
    "a\n",
    "\n",
    "# create a dictionary to map Yes and No to colors\n",
    "color_map = {'Yes': 'green', 'No': 'red'}\n",
    "\n",
    "# create a scatter plot\n",
    "fig, ax = plt.subplots()\n",
    "for col in df.columns[2:]:\n",
    "    ax.scatter(df['SRS'], df['W-L%'], c=df[col].map(color_map), label=col)\n",
    "    \n",
    "# set axis labels and title\n",
    "ax.set_xlabel('SRS')\n",
    "ax.set_ylabel('W-L%')\n",
    "ax.set_title('Scatter plot of SRS and W-L% colored by tournament status')\n",
    "\n",
    "# add legend\n",
    "ax.legend()\n",
    "\n",
    "# show the plot\n",
    "plt.show()\n"
   ]
  },
  {
   "cell_type": "code",
   "execution_count": null,
   "id": "bd7b756d",
   "metadata": {
    "scrolled": false
   },
   "outputs": [],
   "source": [
    "list(df.columns)"
   ]
  },
  {
   "cell_type": "code",
   "execution_count": null,
   "id": "74117f7d",
   "metadata": {},
   "outputs": [],
   "source": []
  }
 ],
 "metadata": {
  "kernelspec": {
   "display_name": "Python 3 (ipykernel)",
   "language": "python",
   "name": "python3"
  },
  "language_info": {
   "codemirror_mode": {
    "name": "ipython",
    "version": 3
   },
   "file_extension": ".py",
   "mimetype": "text/x-python",
   "name": "python",
   "nbconvert_exporter": "python",
   "pygments_lexer": "ipython3",
   "version": "3.9.13"
  }
 },
 "nbformat": 4,
 "nbformat_minor": 5
}
